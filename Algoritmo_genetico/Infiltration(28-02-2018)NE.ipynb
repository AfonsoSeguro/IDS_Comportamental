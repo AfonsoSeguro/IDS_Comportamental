{
 "cells": [
  {
   "cell_type": "markdown",
   "id": "52f0db4a",
   "metadata": {},
   "source": [
    "<a>https://github.com/dmackenz/Keras-Neuro-Evolution-Trading-Bot-Skeleton/blob/master/utils/Agent.py</a>"
   ]
  },
  {
   "cell_type": "code",
   "execution_count": 1,
   "id": "27794313",
   "metadata": {},
   "outputs": [],
   "source": [
    "import os\n",
    "import tensorflow as tf\n",
    "import numpy as np\n",
    "import itertools\n",
    "import matplotlib.pyplot as plt\n",
    "import gc\n",
    "from datetime import datetime\n",
    "from sklearn.utils import shuffle\n",
    "from sklearn.preprocessing import StandardScaler\n",
    "from sklearn.preprocessing import MinMaxScaler\n",
    "from sklearn.model_selection import train_test_split\n",
    "from tensorflow import keras\n",
    "from tensorflow.keras import layers\n",
    "from sklearn.metrics import confusion_matrix"
   ]
  },
  {
   "cell_type": "code",
   "execution_count": 2,
   "id": "cecb6b49",
   "metadata": {},
   "outputs": [],
   "source": [
    "input_label = []\n",
    "output_label = []\n",
    "label = []"
   ]
  },
  {
   "cell_type": "code",
   "execution_count": 3,
   "id": "d145694c",
   "metadata": {},
   "outputs": [],
   "source": [
    "ficheiro = open(\"..\\\\Dataset\\\\28-02-2018(Time).csv\", \"r\")\n",
    "\n",
    "ficheiro.readline()\n",
    "ficheiro.readline()\n",
    "ficheiro.readline()\n",
    "countLinha = 0\n",
    "linha = ficheiro.readline()\n",
    "while(linha != \"\"):\n",
    "#for i in range(10000):\n",
    "    linha = linha.split(\",\")\n",
    "    linha.append(datetime.strptime(linha.pop(21) + \"\", '%d/%m/%Y %H:%M:%S').time())\n",
    "    label.append(linha)\n",
    "    countLinha += 1\n",
    "    linha = ficheiro.readline()\n",
    "ficheiro.close()"
   ]
  },
  {
   "cell_type": "code",
   "execution_count": 4,
   "id": "3b9c032d",
   "metadata": {},
   "outputs": [],
   "source": [
    "label.sort(key = lambda array : array[len(array) - 1])"
   ]
  },
  {
   "cell_type": "code",
   "execution_count": 5,
   "id": "99519786",
   "metadata": {},
   "outputs": [],
   "source": [
    "for i in range(len(label)):\n",
    "    label[i].pop(len(label[i]) - 1)"
   ]
  },
  {
   "cell_type": "code",
   "execution_count": 6,
   "id": "54f9d726",
   "metadata": {},
   "outputs": [],
   "source": [
    "b = 0\n",
    "a = 0\n",
    "for i in range(len(label)):\n",
    "    out = label[i].pop(18)\n",
    "    if(out == \"Benign\"):\n",
    "        out = 0\n",
    "        b += 1\n",
    "    else:\n",
    "        out = 1\n",
    "        a += 1\n",
    "    output_label.append(out)\n",
    "    input_label.append(label[i])"
   ]
  },
  {
   "cell_type": "code",
   "execution_count": 7,
   "id": "11806372",
   "metadata": {},
   "outputs": [
    {
     "name": "stdout",
     "output_type": "stream",
     "text": [
      "68236 538666\n"
     ]
    }
   ],
   "source": [
    "print(str(a) + \" \" + str(b))"
   ]
  },
  {
   "cell_type": "code",
   "execution_count": 8,
   "id": "1e694f15",
   "metadata": {},
   "outputs": [],
   "source": [
    "scaler = MinMaxScaler(feature_range=(0,1))\n",
    "scaler.fit(input_label)\n",
    "input_label = scaler.transform(input_label)"
   ]
  },
  {
   "cell_type": "code",
   "execution_count": null,
   "id": "cc1a63d3",
   "metadata": {},
   "outputs": [],
   "source": [
    "backup_input_label = input_label[:]\n",
    "backup_output_label = output_label[:]"
   ]
  },
  {
   "cell_type": "markdown",
   "id": "b4dcb52c",
   "metadata": {},
   "source": [
    "<h2>--------------------------------------------------------------------------------------------------------------------------------------------</h2>"
   ]
  },
  {
   "cell_type": "code",
   "execution_count": 11,
   "id": "521058fd",
   "metadata": {},
   "outputs": [],
   "source": [
    "inp_train_AE,inp_test_AE,out_train_AE,out_test_AE = train_test_split(input_label, input_label, test_size=0.2)"
   ]
  },
  {
   "cell_type": "code",
   "execution_count": 31,
   "id": "1a20c073",
   "metadata": {},
   "outputs": [],
   "source": [
    "input_model = layers.Input(shape = (78,))\n",
    "enc = layers.Dense(units = 64, activation = \"relu\", use_bias = True)(input_model)\n",
    "enc = layers.Dense(units = 36, activation = \"relu\")(enc)\n",
    "dec = layers.Dense(units = 64, activation = \"relu\", use_bias = True)(enc)\n",
    "dec = layers.Dense(units = 78, activation = \"relu\", use_bias = True)(dec)\n",
    "auto_encoder = keras.Model(input_model, dec)"
   ]
  },
  {
   "cell_type": "code",
   "execution_count": 32,
   "id": "b3205e71",
   "metadata": {},
   "outputs": [],
   "source": [
    "encoder = keras.Model(input_model, enc)\n",
    "\n",
    "decoder_input = layers.Input(shape = (36,))\n",
    "decoder_layer = auto_encoder.layers[-2](decoder_input)\n",
    "decoder_layer = auto_encoder.layers[-1](decoder_layer)\n",
    "decoder = keras.Model(decoder_input, decoder_layer)"
   ]
  },
  {
   "cell_type": "code",
   "execution_count": 33,
   "id": "d827da98",
   "metadata": {},
   "outputs": [],
   "source": [
    "auto_encoder.compile(optimizer=keras.optimizers.Adam(learning_rate=0.00025),loss = \"mean_squared_error\", metrics = ['accuracy'])"
   ]
  },
  {
   "cell_type": "code",
   "execution_count": 34,
   "id": "663229ee",
   "metadata": {},
   "outputs": [
    {
     "name": "stdout",
     "output_type": "stream",
     "text": [
      "Epoch 1/10\n",
      "15173/15173 [==============================] - 22s 1ms/step - loss: 0.0076 - accuracy: 0.7058 0s - loss: 0.0076 - accu\n",
      "Epoch 2/10\n",
      "15173/15173 [==============================] - 23s 1ms/step - loss: 0.0055 - accuracy: 0.7727\n",
      "Epoch 3/10\n",
      "15173/15173 [==============================] - 27s 2ms/step - loss: 0.0055 - accuracy: 0.7688\n",
      "Epoch 4/10\n",
      "15173/15173 [==============================] - 23s 1ms/step - loss: 0.0055 - accuracy: 0.7674\n",
      "Epoch 5/10\n",
      "15173/15173 [==============================] - 22s 1ms/step - loss: 0.0055 - accuracy: 0.7681\n",
      "Epoch 6/10\n",
      "15173/15173 [==============================] - 24s 2ms/step - loss: 0.0055 - accuracy: 0.7691\n",
      "Epoch 7/10\n",
      "15173/15173 [==============================] - 24s 2ms/step - loss: 0.0055 - accuracy: 0.7705\n",
      "Epoch 8/10\n",
      "15173/15173 [==============================] - 23s 1ms/step - loss: 0.0055 - accuracy: 0.7708\n",
      "Epoch 9/10\n",
      "15173/15173 [==============================] - 22s 1ms/step - loss: 0.0055 - accuracy: 0.7700\n",
      "Epoch 10/10\n",
      "15173/15173 [==============================] - 22s 1ms/step - loss: 0.0055 - accuracy: 0.7703\n"
     ]
    }
   ],
   "source": [
    "train = auto_encoder.fit(x = inp_train_AE, y = out_train_AE, epochs = 10, verbose = 1, shuffle = True)"
   ]
  },
  {
   "cell_type": "code",
   "execution_count": 38,
   "id": "b67314f7",
   "metadata": {},
   "outputs": [
    {
     "name": "stdout",
     "output_type": "stream",
     "text": [
      "0.005487085838177882\n"
     ]
    }
   ],
   "source": [
    "error = keras.losses.mean_squared_error(out_test_AE, auto_encoder.predict(inp_test_AE)).numpy()\n",
    "total = 0\n",
    "for er in error:total += er\n",
    "print(total / len(error))"
   ]
  },
  {
   "cell_type": "code",
   "execution_count": 39,
   "id": "dfa033d1",
   "metadata": {},
   "outputs": [],
   "source": [
    "encoder.save(\"Infiltration(28-02-2018)E.h5\")"
   ]
  },
  {
   "cell_type": "code",
   "execution_count": 9,
   "id": "38068e86",
   "metadata": {},
   "outputs": [
    {
     "name": "stdout",
     "output_type": "stream",
     "text": [
      "WARNING:tensorflow:No training configuration found in the save file, so the model was *not* compiled. Compile it manually.\n"
     ]
    }
   ],
   "source": [
    "encoder = keras.models.load_model(\"Infiltration(28-02-2018)E.h5\")"
   ]
  },
  {
   "cell_type": "code",
   "execution_count": 10,
   "id": "bd7607d7",
   "metadata": {},
   "outputs": [],
   "source": [
    "input_label = encoder.predict(input_label)"
   ]
  },
  {
   "cell_type": "code",
   "execution_count": 11,
   "id": "821b7642",
   "metadata": {},
   "outputs": [],
   "source": [
    "inp = []\n",
    "out = []\n",
    "num = 0\n",
    "for i in range(len(input_label) - 20 + 1):\n",
    "    aux = []\n",
    "    for j in range(i, i + 20):\n",
    "        aux.append(input_label[j])\n",
    "    inp.append(aux)\n",
    "    out.append(output_label[i + 20 - 1])"
   ]
  },
  {
   "cell_type": "code",
   "execution_count": 12,
   "id": "f079c6c3",
   "metadata": {},
   "outputs": [
    {
     "name": "stdout",
     "output_type": "stream",
     "text": [
      "(606883, 20, 36)\n"
     ]
    }
   ],
   "source": [
    "print(np.array(inp).shape)"
   ]
  },
  {
   "cell_type": "code",
   "execution_count": 13,
   "id": "0a360b01",
   "metadata": {},
   "outputs": [],
   "source": [
    "inp_train, inp_test, out_train, out_test = train_test_split(inp, out, test_size = 0.2, shuffle = False)"
   ]
  },
  {
   "cell_type": "code",
   "execution_count": 14,
   "id": "91c756ab",
   "metadata": {},
   "outputs": [],
   "source": [
    "from Agente import Agente\n",
    "from random import randint"
   ]
  },
  {
   "cell_type": "code",
   "execution_count": 15,
   "id": "127990af",
   "metadata": {},
   "outputs": [],
   "source": [
    "def createModel():\n",
    "    return keras.Sequential([\n",
    "            layers.Input((20, 36)),\n",
    "            layers.LSTM(units=64, return_sequences=True, use_bias=True),\n",
    "            layers.LSTM(units=32, return_sequences=False, use_bias=True),\n",
    "            layers.Dense(units=2, activation=\"softmax\")\n",
    "        ])"
   ]
  },
  {
   "cell_type": "code",
   "execution_count": 16,
   "id": "25bd0499",
   "metadata": {},
   "outputs": [],
   "source": [
    "population = [Agente(createModel, 0.2) for i in range(5)]"
   ]
  },
  {
   "cell_type": "code",
   "execution_count": 17,
   "id": "bcf339eb",
   "metadata": {},
   "outputs": [],
   "source": [
    "def sortFitness(population):\n",
    "    for i in range(len(population)):\n",
    "        for j in range(len(population) - 1):\n",
    "            if(population[j].getFitness() > population[j + 1].getFitness()):\n",
    "                aux = population[j]\n",
    "                population[j] = population[j + 1]\n",
    "                population[j + 1] = aux"
   ]
  },
  {
   "cell_type": "code",
   "execution_count": 18,
   "id": "bc111b21",
   "metadata": {},
   "outputs": [],
   "source": [
    "def fit(population, number_generations, batch_size, inp_train_label, out_train_label):\n",
    "    train_history = []\n",
    "    for gen in range(number_generations):\n",
    "        sample_seed = randint(0, len(inp_train_label) - batch_size)\n",
    "        batch_train_input = inp_train_label[sample_seed : sample_seed + batch_size]\n",
    "        batch_train_output = out_train_label[sample_seed : sample_seed + batch_size]\n",
    "        for i in range(len(population)): population[i].calculateFitness(batch_train_output, population[i].predict(np.array(batch_train_input)))\n",
    "        sortFitness(population)\n",
    "        print(\"Generation \" + str(gen) + \": \" + str(population[0].getFitness()))\n",
    "        train_history.append(population[0].getFitness())\n",
    "        for i in range(len(population)): population[i].resetFitness()\n",
    "        half = int(len(population) / 2)\n",
    "        for i in range(0, half):\n",
    "            population[i + half] = population[i].copy()\n",
    "            population[i + half].mutate()\n",
    "    return train_history"
   ]
  },
  {
   "cell_type": "code",
   "execution_count": 20,
   "id": "a7b2cdca",
   "metadata": {},
   "outputs": [
    {
     "name": "stdout",
     "output_type": "stream",
     "text": [
      "Generation 0: 0.6931470594465733\n",
      "Generation 1: 0.6931470429301262\n",
      "Generation 2: 0.6931470081567764\n",
      "Generation 3: 0.6931470752239227\n",
      "Generation 4: 0.6931470598578453\n",
      "Generation 5: 0.6931471131920814\n",
      "Generation 6: 0.6931471209466458\n",
      "Generation 7: 0.6931471320509911\n",
      "Generation 8: 0.6931471812129021\n",
      "Generation 9: 0.6931471758186817\n",
      "Generation 10: 0.6931471893012524\n",
      "Generation 11: 0.6931471828639507\n",
      "Generation 12: 0.6931471824645996\n",
      "Generation 13: 0.6931471824645996\n",
      "Generation 14: 0.6931471824645996\n",
      "Generation 15: 0.6931471824645996\n",
      "Generation 16: 0.6931471824645996\n",
      "Generation 17: 0.6931471824645996\n",
      "Generation 18: 0.6931471824645996\n",
      "Generation 19: 0.6931471824645996\n",
      "Generation 20: 0.6931471824645996\n",
      "Generation 21: 0.6931471824645996\n",
      "Generation 22: 0.6931471824645996\n",
      "Generation 23: 0.6931471824645996\n",
      "Generation 24: 0.6931471824645996\n",
      "Generation 25: 0.6931471824645996\n",
      "Generation 26: 0.6931471824645996\n",
      "Generation 27: 0.6931471824645996\n",
      "Generation 28: 0.6931471824645996\n",
      "Generation 29: 0.6931471824645996\n",
      "Generation 30: 0.6931471824645996\n",
      "Generation 31: 0.6931471824645996\n",
      "Generation 32: 0.6931471824645996\n",
      "Generation 33: 0.6931471824645996\n",
      "Generation 34: 0.6931471824645996\n",
      "Generation 35: 0.6931471824645996\n",
      "Generation 36: 0.6931471824645996\n",
      "Generation 37: 0.6931471824645996\n",
      "Generation 38: 0.6931471824645996\n",
      "Generation 39: 0.6931471824645996\n",
      "Generation 40: 0.6931471824645996\n",
      "Generation 41: 0.6931471824645996\n",
      "Generation 42: 0.6931471824645996\n",
      "Generation 43: 0.6931471824645996\n",
      "Generation 44: 0.6931471824645996\n",
      "Generation 45: 0.6931471824645996\n",
      "Generation 46: 0.6931471824645996\n",
      "Generation 47: 0.6931471824645996\n",
      "Generation 48: 0.6931471824645996\n",
      "Generation 49: 0.6931471824645996\n"
     ]
    }
   ],
   "source": [
    "train = fit(population, 50, 1000, inp_train, out_train)"
   ]
  },
  {
   "cell_type": "code",
   "execution_count": 35,
   "id": "0a65ad66",
   "metadata": {},
   "outputs": [
    {
     "data": {
      "image/png": "[encoded data removed]",
      "text/plain": [
       "<Figure size 432x288 with 1 Axes>"
      ]
     },
     "metadata": {
      "needs_background": "light"
     },
     "output_type": "display_data"
    }
   ],
   "source": [
    "plt.plot(train)\n",
    "plt.show()"
   ]
  },
  {
   "cell_type": "code",
   "execution_count": null,
   "id": "2445dbbc",
   "metadata": {},
   "outputs": [],
   "source": []
  }
 ],
 "metadata": {
  "kernelspec": {
   "display_name": "Python 3",
   "language": "python",
   "name": "python3"
  },
  "language_info": {
   "codemirror_mode": {
    "name": "ipython",
    "version": 3
   },
   "file_extension": ".py",
   "mimetype": "text/x-python",
   "name": "python",
   "nbconvert_exporter": "python",
   "pygments_lexer": "ipython3",
   "version": "3.8.9"
  }
 },
 "nbformat": 4,
 "nbformat_minor": 5
}
