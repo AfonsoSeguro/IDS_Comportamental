{
 "cells": [
  {
   "cell_type": "code",
   "execution_count": 1,
   "id": "municipal-stock",
   "metadata": {},
   "outputs": [],
   "source": [
    "import os\n",
    "import tensorflow as tf\n",
    "import numpy as np\n",
    "import matplotlib.pyplot as plt\n",
    "from sklearn.utils import shuffle\n",
    "from sklearn.preprocessing import MinMaxScaler\n",
    "from sklearn.model_selection import train_test_split\n",
    "from tensorflow import keras\n",
    "from tensorflow.keras import layers"
   ]
  },
  {
   "cell_type": "code",
   "execution_count": 2,
   "id": "activated-criterion",
   "metadata": {},
   "outputs": [],
   "source": [
    "input_label = []\n",
    "output_label = []"
   ]
  },
  {
   "cell_type": "code",
   "execution_count": 3,
   "id": "improving-inclusion",
   "metadata": {},
   "outputs": [
    {
     "name": "stdout",
     "output_type": "stream",
     "text": [
      "136472\n"
     ]
    }
   ],
   "source": [
    "ficheiro = open(\"E:\\\\Lazer\\\\Python\\\\Trabalhos\\\\Keras\\\\MiniIDS\\\\dados.csv\", \"r\")\n",
    "\n",
    "ficheiro.readline()\n",
    "ficheiro.readline()\n",
    "ficheiro.readline()\n",
    "\n",
    "countLinha = 0\n",
    "linha = ficheiro.readline()\n",
    "while(linha != \"\"):\n",
    "    linha = linha.split(\",\")\n",
    "    out = linha.pop(18)\n",
    "    if(out == \"Benign\"): out = 0\n",
    "    else: out = 1\n",
    "    output_label.append(out)\n",
    "    input_label.append(np.array([float(i) for i in linha]))\n",
    "    countLinha += 1\n",
    "    linha = ficheiro.readline()\n",
    "ficheiro.close()\n",
    "\n",
    "print(countLinha)"
   ]
  },
  {
   "cell_type": "code",
   "execution_count": 4,
   "id": "round-agenda",
   "metadata": {},
   "outputs": [],
   "source": [
    "scaler = MinMaxScaler(feature_range=(0,1))\n",
    "input_label = scaler.fit_transform(input_label)"
   ]
  },
  {
   "cell_type": "code",
   "execution_count": 5,
   "id": "illegal-microphone",
   "metadata": {},
   "outputs": [],
   "source": [
    "input_label = np.array(input_label)\n",
    "output_label = np.array(output_label)"
   ]
  },
  {
   "cell_type": "code",
   "execution_count": 6,
   "id": "extended-relief",
   "metadata": {},
   "outputs": [],
   "source": [
    "input_label, output_label = shuffle(input_label, output_label)"
   ]
  },
  {
   "cell_type": "code",
   "execution_count": 7,
   "id": "third-boulder",
   "metadata": {},
   "outputs": [],
   "source": [
    "inp_train, inp_test, out_train, out_test = train_test_split(input_label, output_label, test_size = 0.01)"
   ]
  },
  {
   "cell_type": "code",
   "execution_count": 53,
   "id": "suburban-falls",
   "metadata": {},
   "outputs": [],
   "source": [
    "model = keras.Sequential([\n",
    "    layers.Dense(units = 78, input_shape = (78, ), activation = \"relu\", use_bias = True),\n",
    "    layers.Dense(units = 128, activation = \"relu\", use_bias = True),\n",
    "    layers.Dense(units = 64, activation = \"relu\", use_bias = True),\n",
    "    layers.Dense(units = 2, activation = \"softmax\")\n",
    "])"
   ]
  },
  {
   "cell_type": "code",
   "execution_count": 54,
   "id": "expected-rugby",
   "metadata": {},
   "outputs": [],
   "source": [
    "model.compile(optimizer= keras.optimizers.SGD(learning_rate= 0.3), loss=\"sparse_categorical_crossentropy\", metrics=['accuracy'])"
   ]
  },
  {
   "cell_type": "code",
   "execution_count": 56,
   "id": "distinguished-homeless",
   "metadata": {},
   "outputs": [
    {
     "name": "stdout",
     "output_type": "stream",
     "text": [
      "Epoch 1/50\n",
      "3800/3800 - 5s - loss: 0.6910 - accuracy: 0.5077 - val_loss: 0.6996 - val_accuracy: 0.4995\n",
      "Epoch 2/50\n",
      "3800/3800 - 5s - loss: 0.6906 - accuracy: 0.5117 - val_loss: 0.7014 - val_accuracy: 0.4999\n",
      "Epoch 3/50\n",
      "3800/3800 - 5s - loss: 0.6908 - accuracy: 0.5098 - val_loss: 0.6997 - val_accuracy: 0.5034\n",
      "Epoch 4/50\n",
      "3800/3800 - 6s - loss: 0.6906 - accuracy: 0.5115 - val_loss: 0.6984 - val_accuracy: 0.4983\n",
      "Epoch 5/50\n",
      "3800/3800 - 5s - loss: 0.6904 - accuracy: 0.5115 - val_loss: 0.7015 - val_accuracy: 0.4997\n",
      "Epoch 6/50\n",
      "3800/3800 - 5s - loss: 0.6904 - accuracy: 0.5112 - val_loss: 0.7011 - val_accuracy: 0.5026\n",
      "Epoch 7/50\n",
      "3800/3800 - 5s - loss: 0.6903 - accuracy: 0.5114 - val_loss: 0.6991 - val_accuracy: 0.5001\n",
      "Epoch 8/50\n",
      "3800/3800 - 5s - loss: 0.6902 - accuracy: 0.5111 - val_loss: 0.7029 - val_accuracy: 0.5022\n",
      "Epoch 9/50\n",
      "3800/3800 - 5s - loss: 0.6900 - accuracy: 0.5112 - val_loss: 0.7014 - val_accuracy: 0.4991\n",
      "Epoch 10/50\n",
      "3800/3800 - 5s - loss: 0.6898 - accuracy: 0.5114 - val_loss: 0.7022 - val_accuracy: 0.4986\n",
      "Epoch 11/50\n",
      "3800/3800 - 5s - loss: 0.6898 - accuracy: 0.5122 - val_loss: 0.7008 - val_accuracy: 0.4963\n",
      "Epoch 12/50\n",
      "3800/3800 - 5s - loss: 0.6894 - accuracy: 0.5147 - val_loss: 0.7018 - val_accuracy: 0.4997\n",
      "Epoch 13/50\n",
      "3800/3800 - 5s - loss: 0.6894 - accuracy: 0.5114 - val_loss: 0.7053 - val_accuracy: 0.4969\n",
      "Epoch 14/50\n",
      "3800/3800 - 5s - loss: 0.6894 - accuracy: 0.5140 - val_loss: 0.7007 - val_accuracy: 0.4998\n",
      "Epoch 15/50\n",
      "3800/3800 - 5s - loss: 0.6893 - accuracy: 0.5129 - val_loss: 0.7057 - val_accuracy: 0.4998\n",
      "Epoch 16/50\n",
      "3800/3800 - 5s - loss: 0.6891 - accuracy: 0.5137 - val_loss: 0.7081 - val_accuracy: 0.5009\n",
      "Epoch 17/50\n",
      "3800/3800 - 6s - loss: 0.6887 - accuracy: 0.5169 - val_loss: 0.7070 - val_accuracy: 0.4997\n",
      "Epoch 18/50\n",
      "3800/3800 - 5s - loss: 0.6890 - accuracy: 0.5136 - val_loss: 0.7021 - val_accuracy: 0.4944\n",
      "Epoch 19/50\n",
      "3800/3800 - 5s - loss: 0.6886 - accuracy: 0.5149 - val_loss: 0.7069 - val_accuracy: 0.5008\n",
      "Epoch 20/50\n",
      "3800/3800 - 5s - loss: 0.6887 - accuracy: 0.5129 - val_loss: 0.7019 - val_accuracy: 0.4990\n",
      "Epoch 21/50\n",
      "3800/3800 - 5s - loss: 0.6884 - accuracy: 0.5154 - val_loss: 0.7058 - val_accuracy: 0.4971\n",
      "Epoch 22/50\n",
      "3800/3800 - 5s - loss: 0.6885 - accuracy: 0.5147 - val_loss: 0.7055 - val_accuracy: 0.5026\n",
      "Epoch 23/50\n",
      "3800/3800 - 5s - loss: 0.6882 - accuracy: 0.5159 - val_loss: 0.7081 - val_accuracy: 0.4993\n",
      "Epoch 24/50\n",
      "3800/3800 - 5s - loss: 0.6881 - accuracy: 0.5140 - val_loss: 0.7096 - val_accuracy: 0.5002\n",
      "Epoch 25/50\n",
      "3800/3800 - 5s - loss: 0.6878 - accuracy: 0.5145 - val_loss: 0.7054 - val_accuracy: 0.4983\n",
      "Epoch 26/50\n",
      "3800/3800 - 5s - loss: 0.6877 - accuracy: 0.5165 - val_loss: 0.7070 - val_accuracy: 0.5001\n",
      "Epoch 27/50\n",
      "3800/3800 - 5s - loss: 0.6879 - accuracy: 0.5134 - val_loss: 0.7041 - val_accuracy: 0.5014\n",
      "Epoch 28/50\n",
      "3800/3800 - 5s - loss: 0.6876 - accuracy: 0.5164 - val_loss: 0.7087 - val_accuracy: 0.4988\n",
      "Epoch 29/50\n",
      "3800/3800 - 4s - loss: 0.6875 - accuracy: 0.5156 - val_loss: 0.7092 - val_accuracy: 0.4986\n",
      "Epoch 30/50\n",
      "3800/3800 - 5s - loss: 0.6874 - accuracy: 0.5151 - val_loss: 0.7167 - val_accuracy: 0.4946\n",
      "Epoch 31/50\n",
      "3800/3800 - 5s - loss: 0.6871 - accuracy: 0.5172 - val_loss: 0.7059 - val_accuracy: 0.4989\n",
      "Epoch 32/50\n",
      "3800/3800 - 5s - loss: 0.6872 - accuracy: 0.5169 - val_loss: 0.7119 - val_accuracy: 0.5011\n",
      "Epoch 33/50\n",
      "3800/3800 - 5s - loss: 0.6871 - accuracy: 0.5162 - val_loss: 0.7132 - val_accuracy: 0.5009\n",
      "Epoch 34/50\n",
      "3800/3800 - 5s - loss: 0.6868 - accuracy: 0.5176 - val_loss: 0.7151 - val_accuracy: 0.4992\n",
      "Epoch 35/50\n",
      "3800/3800 - 5s - loss: 0.6869 - accuracy: 0.5172 - val_loss: 0.7099 - val_accuracy: 0.5020\n",
      "Epoch 36/50\n",
      "3800/3800 - 5s - loss: 0.6867 - accuracy: 0.5171 - val_loss: 0.7080 - val_accuracy: 0.5005\n",
      "Epoch 37/50\n",
      "3800/3800 - 5s - loss: 0.6863 - accuracy: 0.5183 - val_loss: 0.7088 - val_accuracy: 0.4931\n",
      "Epoch 38/50\n",
      "3800/3800 - 5s - loss: 0.6864 - accuracy: 0.5172 - val_loss: 0.7134 - val_accuracy: 0.4989\n",
      "Epoch 39/50\n",
      "3800/3800 - 5s - loss: 0.6864 - accuracy: 0.5159 - val_loss: 0.7133 - val_accuracy: 0.4959\n",
      "Epoch 40/50\n",
      "3800/3800 - 5s - loss: 0.6864 - accuracy: 0.5154 - val_loss: 0.7212 - val_accuracy: 0.4986\n",
      "Epoch 41/50\n",
      "3800/3800 - 5s - loss: 0.6859 - accuracy: 0.5175 - val_loss: 0.7160 - val_accuracy: 0.4996\n",
      "Epoch 42/50\n",
      "3800/3800 - 5s - loss: 0.6860 - accuracy: 0.5158 - val_loss: 0.7187 - val_accuracy: 0.4993\n",
      "Epoch 43/50\n",
      "3800/3800 - 5s - loss: 0.6860 - accuracy: 0.5157 - val_loss: 0.7120 - val_accuracy: 0.4994\n",
      "Epoch 44/50\n",
      "3800/3800 - 6s - loss: 0.6858 - accuracy: 0.5188 - val_loss: 0.7178 - val_accuracy: 0.5001\n",
      "Epoch 45/50\n",
      "3800/3800 - 5s - loss: 0.6859 - accuracy: 0.5181 - val_loss: 0.7163 - val_accuracy: 0.4983\n",
      "Epoch 46/50\n",
      "3800/3800 - 4s - loss: 0.6853 - accuracy: 0.5187 - val_loss: 0.7161 - val_accuracy: 0.5011\n",
      "Epoch 47/50\n",
      "3800/3800 - 5s - loss: 0.6855 - accuracy: 0.5193 - val_loss: 0.7168 - val_accuracy: 0.5001\n",
      "Epoch 48/50\n",
      "3800/3800 - 5s - loss: 0.6855 - accuracy: 0.5167 - val_loss: 0.7246 - val_accuracy: 0.5023\n",
      "Epoch 49/50\n",
      "3800/3800 - 5s - loss: 0.6854 - accuracy: 0.5163 - val_loss: 0.7144 - val_accuracy: 0.4948\n",
      "Epoch 50/50\n",
      "3800/3800 - 5s - loss: 0.6850 - accuracy: 0.5192 - val_loss: 0.7141 - val_accuracy: 0.4970\n"
     ]
    }
   ],
   "source": [
    "treino1 = model.fit(x = inp_train, y = out_train, validation_split= 0.1, epochs = 50, shuffle = True,verbose = 2)"
   ]
  },
  {
   "cell_type": "code",
   "execution_count": 38,
   "id": "whole-mounting",
   "metadata": {},
   "outputs": [
    {
     "data": {
      "image/png": "[encoded data removed]",
      "text/plain": [
       "<Figure size 432x288 with 1 Axes>"
      ]
     },
     "metadata": {
      "needs_background": "light"
     },
     "output_type": "display_data"
    }
   ],
   "source": [
    "plt.plot(treino1.history[\"val_loss\"])\n",
    "plt.show()"
   ]
  },
  {
   "cell_type": "code",
   "execution_count": null,
   "id": "distinct-gathering",
   "metadata": {},
   "outputs": [],
   "source": []
  }
 ],
 "metadata": {
  "kernelspec": {
   "display_name": "Python 3",
   "language": "python",
   "name": "python3"
  },
  "language_info": {
   "codemirror_mode": {
    "name": "ipython",
    "version": 3
   },
   "file_extension": ".py",
   "mimetype": "text/x-python",
   "name": "python",
   "nbconvert_exporter": "python",
   "pygments_lexer": "ipython3",
   "version": "3.8.9"
  }
 },
 "nbformat": 4,
 "nbformat_minor": 5
}
