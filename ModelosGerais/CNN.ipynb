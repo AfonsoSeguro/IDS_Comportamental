{
 "cells": [
  {
   "cell_type": "code",
   "execution_count": 1,
   "id": "b63da746",
   "metadata": {},
   "outputs": [],
   "source": [
    "import numpy as np\n",
    "import gc\n",
    "import pandas as pd\n",
    "from sklearn.utils import shuffle\n",
    "from sklearn.preprocessing import MinMaxScaler\n",
    "from sklearn.model_selection import train_test_split\n",
    "from sklearn.metrics import confusion_matrix\n",
    "from sklearn.metrics import roc_curve\n",
    "from sklearn.metrics import roc_auc_score\n",
    "from tensorflow import keras"
   ]
  },
  {
   "cell_type": "code",
   "execution_count": 2,
   "id": "8524b5ed",
   "metadata": {},
   "outputs": [],
   "source": [
    "df = pd.read_csv(\"DatasetTotal.csv\", low_memory = False)"
   ]
  },
  {
   "cell_type": "code",
   "execution_count": 3,
   "id": "e3736a88",
   "metadata": {},
   "outputs": [],
   "source": [
    "df = df.drop(columns = ['Timestamp'])\n",
    "df = df.drop([0,1])"
   ]
  },
  {
   "cell_type": "code",
   "execution_count": 4,
   "id": "8bd950ae",
   "metadata": {},
   "outputs": [],
   "source": [
    "input_label = np.array(df.loc[:, df.columns != \"Label\"]).astype(np.float)"
   ]
  },
  {
   "cell_type": "code",
   "execution_count": 5,
   "id": "7eeaed56",
   "metadata": {},
   "outputs": [],
   "source": [
    "output_label = np.array(df[\"Label\"])"
   ]
  },
  {
   "cell_type": "code",
   "execution_count": 6,
   "id": "66b988aa",
   "metadata": {},
   "outputs": [],
   "source": [
    "out = []\n",
    "for o in output_label:\n",
    "    if(o == \"Benign\"):out.append(0)\n",
    "    else: out.append(1)\n",
    "output_label = out"
   ]
  },
  {
   "cell_type": "code",
   "execution_count": 7,
   "id": "1807935c",
   "metadata": {},
   "outputs": [],
   "source": [
    "scaler = MinMaxScaler(feature_range=(0,1))\n",
    "scaler.fit(input_label)\n",
    "input_label = scaler.transform(input_label)"
   ]
  },
  {
   "cell_type": "code",
   "execution_count": 8,
   "id": "b73d13c9",
   "metadata": {},
   "outputs": [],
   "source": [
    "input_label, output_label = shuffle(input_label, output_label)"
   ]
  },
  {
   "cell_type": "code",
   "execution_count": 9,
   "id": "8f322b91",
   "metadata": {},
   "outputs": [],
   "source": [
    "inp_train,inp_test,out_train,out_test = train_test_split(input_label, input_label, test_size=0.2)"
   ]
  },
  {
   "cell_type": "code",
   "execution_count": 10,
   "id": "c4422e8d",
   "metadata": {},
   "outputs": [],
   "source": [
    "input_model = keras.layers.Input(shape = (78,))\n",
    "enc = keras.layers.Dense(units = 64, activation = \"relu\", use_bias = True)(input_model)\n",
    "enc = keras.layers.Dense(units = 36, activation = \"relu\", use_bias = True)(enc)\n",
    "enc = keras.layers.Dense(units = 18, activation = \"relu\")(enc)\n",
    "dec = keras.layers.Dense(units = 36, activation = \"relu\", use_bias = True)(enc)\n",
    "dec = keras.layers.Dense(units = 64, activation = \"relu\", use_bias = True)(dec)\n",
    "dec = keras.layers.Dense(units = 78, activation = \"relu\", use_bias = True)(dec)\n",
    "auto_encoder = keras.Model(input_model, dec)"
   ]
  },
  {
   "cell_type": "code",
   "execution_count": 11,
   "id": "638c046a",
   "metadata": {},
   "outputs": [],
   "source": [
    "encoder = keras.Model(input_model, enc)\n",
    "decoder_input = keras.layers.Input(shape = (18,))\n",
    "decoder_layer = auto_encoder.layers[-3](decoder_input)\n",
    "decoder_layer = auto_encoder.layers[-2](decoder_layer)\n",
    "decoder_layer = auto_encoder.layers[-1](decoder_layer)\n",
    "decoder = keras.Model(decoder_input, decoder_layer)"
   ]
  },
  {
   "cell_type": "code",
   "execution_count": 12,
   "id": "fb1c464b",
   "metadata": {},
   "outputs": [],
   "source": [
    "auto_encoder.compile(optimizer=keras.optimizers.Adam(lr=0.00025), loss = \"mean_squared_error\", metrics = ['accuracy'])"
   ]
  },
  {
   "cell_type": "code",
   "execution_count": null,
   "id": "a3d3a6a1",
   "metadata": {},
   "outputs": [
    {
     "name": "stdout",
     "output_type": "stream",
     "text": [
      "Epoch 1/10\n",
      " 15047/117353 [==>...........................] - ETA: 1:38 - loss: 0.0152 - accuracy: 0.0857"
     ]
    }
   ],
   "source": [
    "train = auto_encoder.fit(x = np.array(inp_train), y = np.array(out_train),validation_split= 0.1, epochs = 10, verbose = 1, shuffle = True)"
   ]
  },
  {
   "cell_type": "code",
   "execution_count": 14,
   "id": "a8e19041",
   "metadata": {},
   "outputs": [],
   "source": [
    "input_label = encoder.predict(input_label).reshape(len(input_label), 18, 1)"
   ]
  },
  {
   "cell_type": "code",
   "execution_count": 15,
   "id": "a955d109",
   "metadata": {},
   "outputs": [],
   "source": [
    "inp_train,inp_test,out_train,out_test = train_test_split(np.array(input_label), np.array(output_label), test_size=0.2)"
   ]
  },
  {
   "cell_type": "code",
   "execution_count": 16,
   "id": "cebdbc1d",
   "metadata": {},
   "outputs": [
    {
     "data": {
      "text/plain": [
       "6475"
      ]
     },
     "execution_count": 16,
     "metadata": {},
     "output_type": "execute_result"
    }
   ],
   "source": [
    "input_label = None\n",
    "output_label = None\n",
    "gc.collect()"
   ]
  },
  {
   "cell_type": "code",
   "execution_count": 17,
   "id": "4b4cb782",
   "metadata": {},
   "outputs": [],
   "source": [
    "model = keras.Sequential([\n",
    "        keras.layers.Conv1D(filters = 16, input_shape = (18,1), kernel_size = 3, padding = \"same\", activation = \"relu\", use_bias = True),\n",
    "        keras.layers.MaxPool1D(pool_size = 3),\n",
    "        keras.layers.Conv1D(filters = 8, kernel_size = 3, padding = \"same\", activation = \"relu\", use_bias = True),\n",
    "        keras.layers.MaxPool1D(pool_size = 3),\n",
    "        keras.layers.Flatten(),\n",
    "        keras.layers.Dense(units = 2, activation = \"softmax\")\n",
    "    ])"
   ]
  },
  {
   "cell_type": "code",
   "execution_count": 18,
   "id": "b09dda58",
   "metadata": {},
   "outputs": [],
   "source": [
    "model.compile(optimizer= keras.optimizers.Adam(lr= 0.00025), loss=\"sparse_categorical_crossentropy\", metrics=['accuracy'])"
   ]
  },
  {
   "cell_type": "code",
   "execution_count": 19,
   "id": "c9558326",
   "metadata": {},
   "outputs": [
    {
     "name": "stdout",
     "output_type": "stream",
     "text": [
      "Epoch 1/10\n",
      "7385/7385 [==============================] - 12s 1ms/step - loss: 0.5847 - accuracy: 0.7159 - val_loss: 0.5602 - val_accuracy: 0.7212\n",
      "Epoch 2/10\n",
      "7385/7385 [==============================] - 10s 1ms/step - loss: 0.5602 - accuracy: 0.7585 - val_loss: 0.5494 - val_accuracy: 0.7631\n",
      "Epoch 3/10\n",
      "7385/7385 [==============================] - 10s 1ms/step - loss: 0.5495 - accuracy: 0.7637 - val_loss: 0.5445 - val_accuracy: 0.7617\n",
      "Epoch 4/10\n",
      "7385/7385 [==============================] - 12s 2ms/step - loss: 0.5477 - accuracy: 0.7603 - val_loss: 0.5410 - val_accuracy: 0.7627\n",
      "Epoch 5/10\n",
      "7385/7385 [==============================] - 11s 2ms/step - loss: 0.5438 - accuracy: 0.7592 - val_loss: 0.5388 - val_accuracy: 0.7601\n",
      "Epoch 6/10\n",
      "7385/7385 [==============================] - 10s 1ms/step - loss: 0.5434 - accuracy: 0.7572 - val_loss: 0.5354 - val_accuracy: 0.7613\n",
      "Epoch 7/10\n",
      "7385/7385 [==============================] - 10s 1ms/step - loss: 0.5394 - accuracy: 0.7581 - val_loss: 0.5324 - val_accuracy: 0.7622\n",
      "Epoch 8/10\n",
      "7385/7385 [==============================] - 10s 1ms/step - loss: 0.5363 - accuracy: 0.7596 - val_loss: 0.5308 - val_accuracy: 0.7664\n",
      "Epoch 9/10\n",
      "7385/7385 [==============================] - 10s 1ms/step - loss: 0.5338 - accuracy: 0.7610 - val_loss: 0.5296 - val_accuracy: 0.7701\n",
      "Epoch 10/10\n",
      "7385/7385 [==============================] - 11s 1ms/step - loss: 0.5341 - accuracy: 0.7608 - val_loss: 0.5288 - val_accuracy: 0.7708\n"
     ]
    }
   ],
   "source": [
    "train = model.fit(x = inp_train, y = out_train, epochs = 10, validation_split = 0.1, shuffle = True, verbose = 1)"
   ]
  },
  {
   "cell_type": "code",
   "execution_count": null,
   "id": "9d5d3b71",
   "metadata": {},
   "outputs": [],
   "source": [
    "res = np.array([np.argmax(resu) for resu in model.predict(inp_test)])"
   ]
  },
  {
   "cell_type": "code",
   "execution_count": null,
   "id": "2a8ceb72",
   "metadata": {},
   "outputs": [],
   "source": [
    "print(confusion_matrix(out_test, res))\n",
    "fpr, tpr, _ = roc_curve(out_test,  res)\n",
    "print(str(fpr) + \" | \" + str(tpr))\n",
    "print(roc_auc_score(out_test, res))"
   ]
  },
  {
   "cell_type": "code",
   "execution_count": null,
   "id": "1c7af772",
   "metadata": {},
   "outputs": [],
   "source": []
  }
 ],
 "metadata": {
  "kernelspec": {
   "display_name": "Python 3",
   "language": "python",
   "name": "python3"
  },
  "language_info": {
   "codemirror_mode": {
    "name": "ipython",
    "version": 3
   },
   "file_extension": ".py",
   "mimetype": "text/x-python",
   "name": "python",
   "nbconvert_exporter": "python",
   "pygments_lexer": "ipython3",
   "version": "3.8.9"
  }
 },
 "nbformat": 4,
 "nbformat_minor": 5
}
