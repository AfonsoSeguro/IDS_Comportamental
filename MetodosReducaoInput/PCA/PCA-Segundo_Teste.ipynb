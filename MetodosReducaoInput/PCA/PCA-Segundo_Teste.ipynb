{
 "cells": [
  {
   "cell_type": "markdown",
   "id": "8bd1f5a5",
   "metadata": {},
   "source": [
    "<h1>PCA Training with Dos (16-02-2018)</h1>"
   ]
  },
  {
   "cell_type": "code",
   "execution_count": 1,
   "id": "0a7be825",
   "metadata": {},
   "outputs": [],
   "source": [
    "import os\n",
    "import tensorflow as tf\n",
    "import numpy as np\n",
    "import itertools\n",
    "import matplotlib.pyplot as plt\n",
    "import gc\n",
    "from datetime import datetime\n",
    "from sklearn.utils import shuffle\n",
    "from sklearn.preprocessing import StandardScaler\n",
    "from sklearn.preprocessing import MinMaxScaler\n",
    "from sklearn.model_selection import train_test_split\n",
    "from tensorflow import keras\n",
    "from tensorflow.keras import layers\n",
    "from sklearn.metrics import confusion_matrix"
   ]
  },
  {
   "cell_type": "code",
   "execution_count": 2,
   "id": "7af5a1f8",
   "metadata": {},
   "outputs": [
    {
     "name": "stdout",
     "output_type": "stream",
     "text": [
      "601802 446772\n"
     ]
    }
   ],
   "source": [
    "input_label = []\n",
    "output_label = []\n",
    "a,b = 0,0\n",
    "ficheiro = open(\"..\\\\DatasetTratado\\\\16-02-2018.csv\", \"r\")\n",
    "nome_label = ficheiro.readline().split(\",\")\n",
    "ficheiro.readline()\n",
    "ficheiro.readline()\n",
    "linha = ficheiro.readline()\n",
    "while(linha != \"\"):\n",
    "    linha = linha.split(\",\")\n",
    "    out = linha.pop(19)\n",
    "    if(out == \"Benign\"): \n",
    "        out = 0\n",
    "        b += 1\n",
    "    else: \n",
    "        out = 1\n",
    "        a += 1\n",
    "    output_label.append(out)\n",
    "    input_label.append(linha)\n",
    "    linha = ficheiro.readline()\n",
    "ficheiro.close()\n",
    "print(str(a) + \" \" + str(b))"
   ]
  },
  {
   "cell_type": "code",
   "execution_count": 3,
   "id": "6e623c72",
   "metadata": {},
   "outputs": [],
   "source": [
    "backup_input_label = input_label[:]\n",
    "backup_output_label = output_label[:]"
   ]
  },
  {
   "cell_type": "code",
   "execution_count": 4,
   "id": "b2e7f34f",
   "metadata": {},
   "outputs": [],
   "source": [
    "input_label = backup_input_label[:]\n",
    "output_label = backup_output_label[:]"
   ]
  },
  {
   "cell_type": "markdown",
   "id": "f0113f7b",
   "metadata": {},
   "source": [
    "## \"STANDARDIZATION\""
   ]
  },
  {
   "cell_type": "code",
   "execution_count": 5,
   "id": "bfc4fd95",
   "metadata": {},
   "outputs": [],
   "source": [
    "scaler = MinMaxScaler(feature_range=(0,1))\n",
    "scaler.fit(input_label)\n",
    "input_label = scaler.transform(input_label)"
   ]
  },
  {
   "cell_type": "code",
   "execution_count": 6,
   "id": "17ff354e",
   "metadata": {},
   "outputs": [
    {
     "data": {
      "text/plain": [
       "array([[0.00000000e+00, 0.00000000e+00, 0.00000000e+00, ...,\n",
       "        5.58842456e-06, 6.16648412e-01, 6.16648412e-01],\n",
       "       [0.00000000e+00, 0.00000000e+00, 0.00000000e+00, ...,\n",
       "        1.06351141e-05, 6.16648412e-01, 6.16648412e-01],\n",
       "       [0.00000000e+00, 0.00000000e+00, 0.00000000e+00, ...,\n",
       "        0.00000000e+00, 9.92137349e-02, 9.92137349e-02],\n",
       "       ...,\n",
       "       [0.00000000e+00, 0.00000000e+00, 0.00000000e+00, ...,\n",
       "        0.00000000e+00, 0.00000000e+00, 0.00000000e+00],\n",
       "       [0.00000000e+00, 0.00000000e+00, 0.00000000e+00, ...,\n",
       "        0.00000000e+00, 0.00000000e+00, 0.00000000e+00],\n",
       "       [0.00000000e+00, 0.00000000e+00, 0.00000000e+00, ...,\n",
       "        0.00000000e+00, 0.00000000e+00, 0.00000000e+00]])"
      ]
     },
     "execution_count": 6,
     "metadata": {},
     "output_type": "execute_result"
    }
   ],
   "source": [
    "input_label"
   ]
  },
  {
   "cell_type": "markdown",
   "id": "06e76b9f",
   "metadata": {},
   "source": [
    "<h2>NUMBER OF PARAMETERS WITH PCA</h2>"
   ]
  },
  {
   "cell_type": "code",
   "execution_count": 7,
   "id": "5d583eda",
   "metadata": {},
   "outputs": [],
   "source": [
    "from sklearn.decomposition import PCA"
   ]
  },
  {
   "cell_type": "code",
   "execution_count": 8,
   "id": "b1c09955",
   "metadata": {},
   "outputs": [],
   "source": [
    "pca=PCA(n_components=36)"
   ]
  },
  {
   "cell_type": "code",
   "execution_count": 9,
   "id": "0278dac0",
   "metadata": {},
   "outputs": [
    {
     "data": {
      "text/plain": [
       "PCA(n_components=36)"
      ]
     },
     "execution_count": 9,
     "metadata": {},
     "output_type": "execute_result"
    }
   ],
   "source": [
    "pca.fit(input_label)"
   ]
  },
  {
   "cell_type": "code",
   "execution_count": 10,
   "id": "fe904d47",
   "metadata": {},
   "outputs": [],
   "source": [
    "x_pca = pca.transform(input_label)"
   ]
  },
  {
   "cell_type": "code",
   "execution_count": 11,
   "id": "5affdb2c",
   "metadata": {},
   "outputs": [
    {
     "data": {
      "text/plain": [
       "(1048574, 78)"
      ]
     },
     "execution_count": 11,
     "metadata": {},
     "output_type": "execute_result"
    }
   ],
   "source": [
    "input_label.shape"
   ]
  },
  {
   "cell_type": "code",
   "execution_count": 12,
   "id": "a5867d34",
   "metadata": {},
   "outputs": [
    {
     "data": {
      "text/plain": [
       "(1048574, 36)"
      ]
     },
     "execution_count": 12,
     "metadata": {},
     "output_type": "execute_result"
    }
   ],
   "source": [
    "x_pca.shape"
   ]
  },
  {
   "cell_type": "code",
   "execution_count": 13,
   "id": "bca090df",
   "metadata": {},
   "outputs": [
    {
     "data": {
      "text/plain": [
       "array([[0.00000000e+00, 0.00000000e+00, 0.00000000e+00, ...,\n",
       "        5.58842456e-06, 6.16648412e-01, 6.16648412e-01],\n",
       "       [0.00000000e+00, 0.00000000e+00, 0.00000000e+00, ...,\n",
       "        1.06351141e-05, 6.16648412e-01, 6.16648412e-01],\n",
       "       [0.00000000e+00, 0.00000000e+00, 0.00000000e+00, ...,\n",
       "        0.00000000e+00, 9.92137349e-02, 9.92137349e-02],\n",
       "       ...,\n",
       "       [0.00000000e+00, 0.00000000e+00, 0.00000000e+00, ...,\n",
       "        0.00000000e+00, 0.00000000e+00, 0.00000000e+00],\n",
       "       [0.00000000e+00, 0.00000000e+00, 0.00000000e+00, ...,\n",
       "        0.00000000e+00, 0.00000000e+00, 0.00000000e+00],\n",
       "       [0.00000000e+00, 0.00000000e+00, 0.00000000e+00, ...,\n",
       "        0.00000000e+00, 0.00000000e+00, 0.00000000e+00]])"
      ]
     },
     "execution_count": 13,
     "metadata": {},
     "output_type": "execute_result"
    }
   ],
   "source": [
    "input_label"
   ]
  },
  {
   "cell_type": "code",
   "execution_count": 14,
   "id": "fc04b36b",
   "metadata": {},
   "outputs": [
    {
     "data": {
      "text/plain": [
       "array([[-2.63272351e-01, -1.47281948e-01, -1.43734469e-01, ...,\n",
       "         1.68138632e-05, -2.53136341e-03,  4.23915331e-05],\n",
       "       [-2.63271725e-01, -1.47281944e-01, -1.43734467e-01, ...,\n",
       "         1.68002869e-05, -2.52798074e-03,  4.60775556e-05],\n",
       "       [ 8.91646910e-02, -1.49573352e-01, -1.44805807e-01, ...,\n",
       "         5.39328618e-04, -1.11979808e-01,  1.28005403e-02],\n",
       "       ...,\n",
       "       [-6.54007059e-01, -1.50915937e-01, -1.45256256e-01, ...,\n",
       "        -8.68918912e-08, -1.29575184e-04,  2.43252552e-05],\n",
       "       [-6.17836973e-01, -1.50578811e-01, -1.45163928e-01, ...,\n",
       "         3.27091664e-07, -2.97093330e-04,  5.51943255e-05],\n",
       "       [-6.99219664e-01, -1.51337344e-01, -1.45371666e-01, ...,\n",
       "        -6.04335891e-07,  7.98147347e-05, -1.42602320e-05]])"
      ]
     },
     "execution_count": 14,
     "metadata": {},
     "output_type": "execute_result"
    }
   ],
   "source": [
    "x_pca"
   ]
  },
  {
   "cell_type": "code",
   "execution_count": 15,
   "id": "153ea6dc",
   "metadata": {},
   "outputs": [],
   "source": [
    "# plt.figure(figsize=(8,6))\n",
    "# plt.scatter(range(1000), x_pca[:,0][:1000])\n",
    "# plt.scatter(range(1000), x_pca[:,1][:1000], c=\"red\")\n",
    "# plt.xlabel('First principle component')\n",
    "# plt.ylabel('Second principle component')"
   ]
  },
  {
   "cell_type": "markdown",
   "id": "9fbd66d2",
   "metadata": {},
   "source": [
    "<h2>MATPLOTLIB</h2>"
   ]
  },
  {
   "cell_type": "code",
   "execution_count": 16,
   "id": "9fb52668",
   "metadata": {},
   "outputs": [
    {
     "data": {
      "text/plain": [
       "Text(0, 0.5, 'Second principle component')"
      ]
     },
     "execution_count": 16,
     "metadata": {},
     "output_type": "execute_result"
    },
    {
     "data": {
      "image/png": "[encoded data removed]",
      "text/plain": [
       "<Figure size 576x432 with 1 Axes>"
      ]
     },
     "metadata": {
      "needs_background": "light"
     },
     "output_type": "display_data"
    }
   ],
   "source": [
    "plt.figure(figsize=(8,6))\n",
    "plt.scatter(x_pca[:,0][:200000],x_pca[:,1][:200000])\n",
    "plt.xlabel('First principle component')\n",
    "plt.ylabel('Second principle component')"
   ]
  },
  {
   "cell_type": "markdown",
   "id": "cd38c090",
   "metadata": {},
   "source": [
    "<h2>MODEL TRAINING</h2>"
   ]
  },
  {
   "cell_type": "code",
   "execution_count": 17,
   "id": "a78d0825",
   "metadata": {},
   "outputs": [],
   "source": [
    "x_pca = x_pca.reshape(len(x_pca), 36, 1)\n",
    "y_pca = np.array(output_label)"
   ]
  },
  {
   "cell_type": "code",
   "execution_count": 18,
   "id": "a8662a0c",
   "metadata": {},
   "outputs": [],
   "source": [
    "x_pca, y_pca = shuffle(x_pca, y_pca)"
   ]
  },
  {
   "cell_type": "code",
   "execution_count": 19,
   "id": "f67b2f8f",
   "metadata": {},
   "outputs": [],
   "source": [
    "inp_train, inp_test, out_train, out_test = train_test_split(x_pca, y_pca, test_size = 0.2)"
   ]
  },
  {
   "cell_type": "code",
   "execution_count": 20,
   "id": "f0530572",
   "metadata": {},
   "outputs": [],
   "source": [
    "model = keras.Sequential([\n",
    "    layers.Input(shape = (36, 1)),\n",
    "    layers.Conv1D(filters = 32, kernel_size = 3, padding = \"same\", activation = \"relu\", use_bias = True),\n",
    "    layers.MaxPool1D(pool_size = 3),\n",
    "    layers.Conv1D(filters = 16, kernel_size = 3, padding = \"same\", activation = \"relu\", use_bias = True),\n",
    "    layers.MaxPool1D(pool_size = 3),\n",
    "    layers.Flatten(),\n",
    "    layers.Dense(units = 2, activation = \"softmax\")\n",
    "])"
   ]
  },
  {
   "cell_type": "code",
   "execution_count": 21,
   "id": "f5937993",
   "metadata": {},
   "outputs": [],
   "source": [
    "model.compile(optimizer= keras.optimizers.SGD(learning_rate= 0.08), loss=\"sparse_categorical_crossentropy\", metrics=['accuracy'])"
   ]
  },
  {
   "cell_type": "code",
   "execution_count": 22,
   "id": "795be3f6",
   "metadata": {},
   "outputs": [
    {
     "name": "stdout",
     "output_type": "stream",
     "text": [
      "Epoch 1/5\n",
      "23593/23593 [==============================] - 40s 2ms/step - loss: 0.6827 - accuracy: 0.5738 - val_loss: 0.6823 - val_accuracy: 0.5735\n",
      "Epoch 2/5\n",
      "23593/23593 [==============================] - 35s 1ms/step - loss: 0.6826 - accuracy: 0.5738 - val_loss: 0.6823 - val_accuracy: 0.5735\n",
      "Epoch 3/5\n",
      "23593/23593 [==============================] - 33s 1ms/step - loss: 0.6823 - accuracy: 0.5744 - val_loss: 0.6823 - val_accuracy: 0.5735\n",
      "Epoch 4/5\n",
      "23593/23593 [==============================] - 35s 1ms/step - loss: 0.6828 - accuracy: 0.5728 - val_loss: 0.6840 - val_accuracy: 0.5735\n",
      "Epoch 5/5\n",
      "23593/23593 [==============================] - 34s 1ms/step - loss: 0.6826 - accuracy: 0.5737 - val_loss: 0.6829 - val_accuracy: 0.5735\n"
     ]
    }
   ],
   "source": [
    "treino = model.fit(x = inp_train, y = out_train, validation_split= 0.1, epochs = 5, shuffle = True,verbose = 1)"
   ]
  },
  {
   "cell_type": "code",
   "execution_count": 23,
   "id": "a2cf1e9a",
   "metadata": {},
   "outputs": [],
   "source": [
    "res = [np.argmax(resu) for resu in model.predict(inp_test)]"
   ]
  },
  {
   "cell_type": "code",
   "execution_count": 24,
   "id": "c4936d3b",
   "metadata": {},
   "outputs": [],
   "source": [
    "cm = confusion_matrix(y_true = out_test.reshape(len(out_test)), y_pred = np.array(res))"
   ]
  },
  {
   "cell_type": "code",
   "execution_count": 25,
   "id": "8b03787a",
   "metadata": {},
   "outputs": [],
   "source": [
    "def plot_confusion_matrix(cm, classes, normaliza = False, title = \"Confusion matrix\", cmap = plt.cm.Blues):\n",
    "    plt.imshow(cm, interpolation='nearest', cmap=cmap)\n",
    "    plt.title(title)\n",
    "    plt.colorbar()\n",
    "    tick_marks = np.arange(len(classes))\n",
    "    plt.xticks(tick_marks, classes, rotation=45)\n",
    "    plt.yticks(tick_marks, classes)\n",
    "    if normaliza:\n",
    "        cm = cm.astype('float') / cm.sum(axis = 1)[:, np.newaxis]\n",
    "        print(\"Normalized confusion matrix\")\n",
    "    else:\n",
    "        print(\"Confusion matrix, without normalization\")\n",
    "    \n",
    "    print(cm)\n",
    "    \n",
    "    thresh = cm.max() / 2\n",
    "    for i, j in itertools.product(range(cm.shape[0]), range(cm.shape[1])):\n",
    "        plt.text(j, i, cm[i, j],\n",
    "        horizontalalignment=\"center\",\n",
    "        color=\"white\" if cm[i,j] > thresh else \"black\")\n",
    "    \n",
    "    plt.tight_layout()\n",
    "    plt.ylabel('True label')\n",
    "    plt.xlabel('Predicted label')"
   ]
  },
  {
   "cell_type": "code",
   "execution_count": 26,
   "id": "ac89fbc5",
   "metadata": {},
   "outputs": [
    {
     "name": "stdout",
     "output_type": "stream",
     "text": [
      "Confusion matrix, without normalization\n",
      "[[     0  89455]\n",
      " [     0 120260]]\n"
     ]
    },
    {
     "data": {
      "image/png": "[encoded data removed]",
      "text/plain": [
       "<Figure size 432x288 with 2 Axes>"
      ]
     },
     "metadata": {
      "needs_background": "light"
     },
     "output_type": "display_data"
    }
   ],
   "source": [
    "labels = [\"Benign\", \"Dos\"]\n",
    "plot_confusion_matrix(cm = cm, classes = labels, title = \"Dos IDS\")"
   ]
  },
  {
   "cell_type": "code",
   "execution_count": 27,
   "id": "69052f79",
   "metadata": {},
   "outputs": [],
   "source": [
    "model.save(\"CNN1DosNet(02-03-2018)PCA1.h5\")"
   ]
  },
  {
   "cell_type": "code",
   "execution_count": null,
   "id": "8512b2c4",
   "metadata": {},
   "outputs": [],
   "source": []
  }
 ],
 "metadata": {
  "kernelspec": {
   "display_name": "Python 3",
   "language": "python",
   "name": "python3"
  },
  "language_info": {
   "codemirror_mode": {
    "name": "ipython",
    "version": 3
   },
   "file_extension": ".py",
   "mimetype": "text/x-python",
   "name": "python",
   "nbconvert_exporter": "python",
   "pygments_lexer": "ipython3",
   "version": "3.8.6"
  }
 },
 "nbformat": 4,
 "nbformat_minor": 5
}
