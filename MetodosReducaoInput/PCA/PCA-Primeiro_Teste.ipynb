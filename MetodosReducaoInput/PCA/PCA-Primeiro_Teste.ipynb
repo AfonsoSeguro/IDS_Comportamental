{
 "cells": [
  {
   "cell_type": "markdown",
   "id": "65af1905",
   "metadata": {},
   "source": [
    "<h1>PCA Training with BotNet (02-03-2018)</h1>"
   ]
  },
  {
   "cell_type": "code",
   "execution_count": 1,
   "id": "0a7be825",
   "metadata": {},
   "outputs": [],
   "source": [
    "import os\n",
    "import tensorflow as tf\n",
    "import numpy as np\n",
    "import itertools\n",
    "import matplotlib.pyplot as plt\n",
    "import gc\n",
    "from datetime import datetime\n",
    "from sklearn.utils import shuffle\n",
    "from sklearn.preprocessing import StandardScaler\n",
    "from sklearn.preprocessing import MinMaxScaler\n",
    "from sklearn.model_selection import train_test_split\n",
    "from tensorflow import keras\n",
    "from tensorflow.keras import layers\n",
    "from sklearn.metrics import confusion_matrix"
   ]
  },
  {
   "cell_type": "code",
   "execution_count": 2,
   "id": "7af5a1f8",
   "metadata": {},
   "outputs": [
    {
     "name": "stdout",
     "output_type": "stream",
     "text": [
      "286191 758334\n"
     ]
    }
   ],
   "source": [
    "input_label = []\n",
    "output_label = []\n",
    "a,b = 0,0\n",
    "ficheiro = open(\"..\\\\DatasetTratado\\\\02-03-2018.csv\", \"r\")\n",
    "nome_label = ficheiro.readline().split(\",\")\n",
    "ficheiro.readline()\n",
    "ficheiro.readline()\n",
    "linha = ficheiro.readline()\n",
    "while(linha != \"\"):\n",
    "    linha = linha.split(\",\")\n",
    "    out = linha.pop(37)\n",
    "    if(out == \"Benign\"): \n",
    "        out = 0\n",
    "        b += 1\n",
    "    else: \n",
    "        out = 1\n",
    "        a += 1\n",
    "    output_label.append(out)\n",
    "    input_label.append(linha)\n",
    "    linha = ficheiro.readline()\n",
    "ficheiro.close()\n",
    "print(str(a) + \" \" + str(b))"
   ]
  },
  {
   "cell_type": "code",
   "execution_count": 3,
   "id": "6e623c72",
   "metadata": {},
   "outputs": [],
   "source": [
    "backup_input_label = input_label[:]\n",
    "backup_output_label = output_label[:]"
   ]
  },
  {
   "cell_type": "code",
   "execution_count": 44,
   "id": "b2e7f34f",
   "metadata": {},
   "outputs": [],
   "source": [
    "input_label = backup_input_label[:]\n",
    "output_label = backup_output_label[:]"
   ]
  },
  {
   "cell_type": "markdown",
   "id": "f0113f7b",
   "metadata": {},
   "source": [
    "## \"STANDARDIZATION\""
   ]
  },
  {
   "cell_type": "code",
   "execution_count": 45,
   "id": "bfc4fd95",
   "metadata": {},
   "outputs": [],
   "source": [
    "scaler = MinMaxScaler(feature_range=(0,1))\n",
    "scaler.fit(input_label)\n",
    "input_label = scaler.transform(input_label)"
   ]
  },
  {
   "cell_type": "code",
   "execution_count": 46,
   "id": "17ff354e",
   "metadata": {},
   "outputs": [
    {
     "data": {
      "text/plain": [
       "array([[0.00675985, 0.        , 0.35294118, ..., 0.        , 0.        ,\n",
       "        0.        ],\n",
       "       [0.75814081, 1.        , 0.35294118, ..., 0.        , 0.        ,\n",
       "        0.        ],\n",
       "       [0.00675985, 0.        , 0.35294118, ..., 0.        , 0.        ,\n",
       "        0.        ],\n",
       "       ...,\n",
       "       [0.05171361, 0.        , 0.35294118, ..., 0.        , 0.        ,\n",
       "        0.        ],\n",
       "       [0.05171361, 0.        , 0.35294118, ..., 0.        , 0.        ,\n",
       "        0.        ],\n",
       "       [0.05171361, 0.        , 0.35294118, ..., 0.        , 0.        ,\n",
       "        0.        ]])"
      ]
     },
     "execution_count": 46,
     "metadata": {},
     "output_type": "execute_result"
    }
   ],
   "source": [
    "input_label"
   ]
  },
  {
   "cell_type": "markdown",
   "id": "60f67b11",
   "metadata": {},
   "source": [
    "<h2>NUMBER OF PARAMETERS WITH PCA</h2>"
   ]
  },
  {
   "cell_type": "code",
   "execution_count": 47,
   "id": "5d583eda",
   "metadata": {},
   "outputs": [],
   "source": [
    "from sklearn.decomposition import PCA"
   ]
  },
  {
   "cell_type": "code",
   "execution_count": 48,
   "id": "b1c09955",
   "metadata": {},
   "outputs": [],
   "source": [
    "pca=PCA(n_components=18)"
   ]
  },
  {
   "cell_type": "code",
   "execution_count": 49,
   "id": "0278dac0",
   "metadata": {},
   "outputs": [
    {
     "data": {
      "text/plain": [
       "PCA(n_components=18)"
      ]
     },
     "execution_count": 49,
     "metadata": {},
     "output_type": "execute_result"
    }
   ],
   "source": [
    "pca.fit(input_label)"
   ]
  },
  {
   "cell_type": "code",
   "execution_count": 50,
   "id": "fe904d47",
   "metadata": {},
   "outputs": [],
   "source": [
    "x_pca = pca.transform(input_label)"
   ]
  },
  {
   "cell_type": "code",
   "execution_count": 51,
   "id": "5affdb2c",
   "metadata": {},
   "outputs": [
    {
     "data": {
      "text/plain": [
       "(1044525, 78)"
      ]
     },
     "execution_count": 51,
     "metadata": {},
     "output_type": "execute_result"
    }
   ],
   "source": [
    "input_label.shape"
   ]
  },
  {
   "cell_type": "code",
   "execution_count": 52,
   "id": "a5867d34",
   "metadata": {},
   "outputs": [
    {
     "data": {
      "text/plain": [
       "(1044525, 18)"
      ]
     },
     "execution_count": 52,
     "metadata": {},
     "output_type": "execute_result"
    }
   ],
   "source": [
    "x_pca.shape"
   ]
  },
  {
   "cell_type": "code",
   "execution_count": 53,
   "id": "bca090df",
   "metadata": {},
   "outputs": [
    {
     "data": {
      "text/plain": [
       "array([[0.00675985, 0.        , 0.35294118, ..., 0.        , 0.        ,\n",
       "        0.        ],\n",
       "       [0.75814081, 1.        , 0.35294118, ..., 0.        , 0.        ,\n",
       "        0.        ],\n",
       "       [0.00675985, 0.        , 0.35294118, ..., 0.        , 0.        ,\n",
       "        0.        ],\n",
       "       ...,\n",
       "       [0.05171361, 0.        , 0.35294118, ..., 0.        , 0.        ,\n",
       "        0.        ],\n",
       "       [0.05171361, 0.        , 0.35294118, ..., 0.        , 0.        ,\n",
       "        0.        ],\n",
       "       [0.05171361, 0.        , 0.35294118, ..., 0.        , 0.        ,\n",
       "        0.        ]])"
      ]
     },
     "execution_count": 53,
     "metadata": {},
     "output_type": "execute_result"
    }
   ],
   "source": [
    "input_label"
   ]
  },
  {
   "cell_type": "code",
   "execution_count": 54,
   "id": "fc04b36b",
   "metadata": {},
   "outputs": [
    {
     "data": {
      "text/plain": [
       "array([[ 1.52185576e+00,  5.79414968e-02,  5.04843125e-02, ...,\n",
       "        -2.90208004e-01,  1.00878518e-02, -1.58210788e-02],\n",
       "       [-9.90497882e-01, -1.77332261e-01,  3.67477747e-01, ...,\n",
       "        -1.19919468e-01, -5.54815210e-03, -3.47302953e-03],\n",
       "       [ 1.59210266e+00,  1.18780517e-01,  1.07167047e-03, ...,\n",
       "        -1.52666570e-01, -3.33479450e-02, -1.65813482e-03],\n",
       "       ...,\n",
       "       [ 1.61162595e+00, -5.24087691e-02,  2.30617271e-01, ...,\n",
       "        -2.51702662e-02, -2.01289469e-03, -7.45998534e-04],\n",
       "       [ 1.61129207e+00, -5.27058218e-02,  2.30545968e-01, ...,\n",
       "        -2.53182477e-02, -2.72028576e-03, -7.86218299e-04],\n",
       "       [ 1.60950290e+00, -5.35582057e-02,  2.30832356e-01, ...,\n",
       "        -3.23100656e-02, -1.77230877e-03, -1.41261032e-03]])"
      ]
     },
     "execution_count": 54,
     "metadata": {},
     "output_type": "execute_result"
    }
   ],
   "source": [
    "x_pca"
   ]
  },
  {
   "cell_type": "code",
   "execution_count": null,
   "id": "153ea6dc",
   "metadata": {},
   "outputs": [],
   "source": [
    "# plt.figure(figsize=(8,6))\n",
    "# plt.scatter(range(1000), x_pca[:,0][:1000])\n",
    "# plt.scatter(range(1000), x_pca[:,1][:1000], c=\"red\")\n",
    "# plt.xlabel('First principle component')\n",
    "# plt.ylabel('Second principle component')"
   ]
  },
  {
   "cell_type": "markdown",
   "id": "8a63b91c",
   "metadata": {},
   "source": [
    "<h2>MATPLOTLIB</h2>"
   ]
  },
  {
   "cell_type": "code",
   "execution_count": 55,
   "id": "9fb52668",
   "metadata": {},
   "outputs": [
    {
     "data": {
      "text/plain": [
       "Text(0, 0.5, 'Second principle component')"
      ]
     },
     "execution_count": 55,
     "metadata": {},
     "output_type": "execute_result"
    },
    {
     "data": {
      "image/png": "[encoded data removed]",
      "text/plain": [
       "<Figure size 576x432 with 1 Axes>"
      ]
     },
     "metadata": {
      "needs_background": "light"
     },
     "output_type": "display_data"
    }
   ],
   "source": [
    "plt.figure(figsize=(8,6))\n",
    "plt.scatter(x_pca[:,0][:200000],x_pca[:,1][:200000])\n",
    "plt.xlabel('First principle component')\n",
    "plt.ylabel('Second principle component')"
   ]
  },
  {
   "cell_type": "markdown",
   "id": "efe60df9",
   "metadata": {},
   "source": [
    "<h2>MODEL TRAINING</h2>"
   ]
  },
  {
   "cell_type": "code",
   "execution_count": 56,
   "id": "a78d0825",
   "metadata": {},
   "outputs": [],
   "source": [
    "x_pca = x_pca.reshape(len(x_pca), 18, 1)\n",
    "y_pca = np.array(output_label)"
   ]
  },
  {
   "cell_type": "code",
   "execution_count": 57,
   "id": "a8662a0c",
   "metadata": {},
   "outputs": [],
   "source": [
    "x_pca, y_pca = shuffle(x_pca, y_pca)"
   ]
  },
  {
   "cell_type": "code",
   "execution_count": 58,
   "id": "f67b2f8f",
   "metadata": {},
   "outputs": [],
   "source": [
    "inp_train, inp_test, out_train, out_test = train_test_split(x_pca, y_pca, test_size = 0.2)"
   ]
  },
  {
   "cell_type": "code",
   "execution_count": 59,
   "id": "f0530572",
   "metadata": {},
   "outputs": [],
   "source": [
    "model = keras.Sequential([\n",
    "    layers.Input(shape = (18, 1)),\n",
    "    layers.Conv1D(filters = 32, kernel_size = 3, padding = \"same\", activation = \"relu\", use_bias = True),\n",
    "    layers.MaxPool1D(pool_size = 3),\n",
    "    layers.Conv1D(filters = 16, kernel_size = 3, padding = \"same\", activation = \"relu\", use_bias = True),\n",
    "    layers.MaxPool1D(pool_size = 3),\n",
    "    layers.Flatten(),\n",
    "    layers.Dense(units = 2, activation = \"softmax\")\n",
    "])"
   ]
  },
  {
   "cell_type": "code",
   "execution_count": 60,
   "id": "f5937993",
   "metadata": {},
   "outputs": [],
   "source": [
    "model.compile(optimizer= keras.optimizers.SGD(learning_rate= 0.08), loss=\"sparse_categorical_crossentropy\", metrics=['accuracy'])"
   ]
  },
  {
   "cell_type": "code",
   "execution_count": 61,
   "id": "795be3f6",
   "metadata": {},
   "outputs": [
    {
     "name": "stdout",
     "output_type": "stream",
     "text": [
      "Epoch 1/5\n",
      "23502/23502 [==============================] - 26s 1ms/step - loss: 0.0433 - accuracy: 0.9844 - val_loss: 0.0047 - val_accuracy: 0.9988\n",
      "Epoch 2/5\n",
      "23502/23502 [==============================] - 24s 1ms/step - loss: 0.0048 - accuracy: 0.9988 - val_loss: 0.0036 - val_accuracy: 0.9993\n",
      "Epoch 3/5\n",
      "23502/23502 [==============================] - 25s 1ms/step - loss: 0.0040 - accuracy: 0.9992 - val_loss: 0.0027 - val_accuracy: 0.9994\n",
      "Epoch 4/5\n",
      "23502/23502 [==============================] - 24s 1ms/step - loss: 0.0034 - accuracy: 0.9993 - val_loss: 0.0026 - val_accuracy: 0.9994\n",
      "Epoch 5/5\n",
      "23502/23502 [==============================] - 24s 1ms/step - loss: 0.0029 - accuracy: 0.9994 - val_loss: 0.0023 - val_accuracy: 0.9997\n"
     ]
    }
   ],
   "source": [
    "treino = model.fit(x = inp_train, y = out_train, validation_split= 0.1, epochs = 5, shuffle = True,verbose = 1)"
   ]
  },
  {
   "cell_type": "code",
   "execution_count": 62,
   "id": "a2cf1e9a",
   "metadata": {},
   "outputs": [],
   "source": [
    "res = [np.argmax(resu) for resu in model.predict(inp_test)]"
   ]
  },
  {
   "cell_type": "code",
   "execution_count": 63,
   "id": "c4936d3b",
   "metadata": {},
   "outputs": [],
   "source": [
    "cm = confusion_matrix(y_true = out_test.reshape(len(out_test)), y_pred = np.array(res))"
   ]
  },
  {
   "cell_type": "code",
   "execution_count": 64,
   "id": "8b03787a",
   "metadata": {},
   "outputs": [],
   "source": [
    "def plot_confusion_matrix(cm, classes, normaliza = False, title = \"Confusion matrix\", cmap = plt.cm.Blues):\n",
    "    plt.imshow(cm, interpolation='nearest', cmap=cmap)\n",
    "    plt.title(title)\n",
    "    plt.colorbar()\n",
    "    tick_marks = np.arange(len(classes))\n",
    "    plt.xticks(tick_marks, classes, rotation=45)\n",
    "    plt.yticks(tick_marks, classes)\n",
    "    if normaliza:\n",
    "        cm = cm.astype('float') / cm.sum(axis = 1)[:, np.newaxis]\n",
    "        print(\"Normalized confusion matrix\")\n",
    "    else:\n",
    "        print(\"Confusion matrix, without normalization\")\n",
    "    \n",
    "    print(cm)\n",
    "    \n",
    "    thresh = cm.max() / 2\n",
    "    for i, j in itertools.product(range(cm.shape[0]), range(cm.shape[1])):\n",
    "        plt.text(j, i, cm[i, j],\n",
    "        horizontalalignment=\"center\",\n",
    "        color=\"white\" if cm[i,j] > thresh else \"black\")\n",
    "    \n",
    "    plt.tight_layout()\n",
    "    plt.ylabel('True label')\n",
    "    plt.xlabel('Predicted label')"
   ]
  },
  {
   "cell_type": "code",
   "execution_count": 65,
   "id": "ac89fbc5",
   "metadata": {},
   "outputs": [
    {
     "name": "stdout",
     "output_type": "stream",
     "text": [
      "Confusion matrix, without normalization\n",
      "[[151688     78]\n",
      " [    12  57127]]\n"
     ]
    },
    {
     "data": {
      "image/png": "[encoded data removed]",
      "text/plain": [
       "<Figure size 432x288 with 2 Axes>"
      ]
     },
     "metadata": {
      "needs_background": "light"
     },
     "output_type": "display_data"
    }
   ],
   "source": [
    "labels = [\"Benign\", \"Bot\"]\n",
    "plot_confusion_matrix(cm = cm, classes = labels, title = \"Bot IDS\")"
   ]
  },
  {
   "cell_type": "code",
   "execution_count": 66,
   "id": "69052f79",
   "metadata": {},
   "outputs": [],
   "source": [
    "model.save(\"CNN1BotNet(02-03-2018)PCA2.h5\")"
   ]
  },
  {
   "cell_type": "code",
   "execution_count": null,
   "id": "8512b2c4",
   "metadata": {},
   "outputs": [],
   "source": []
  }
 ],
 "metadata": {
  "kernelspec": {
   "display_name": "Python 3",
   "language": "python",
   "name": "python3"
  },
  "language_info": {
   "codemirror_mode": {
    "name": "ipython",
    "version": 3
   },
   "file_extension": ".py",
   "mimetype": "text/x-python",
   "name": "python",
   "nbconvert_exporter": "python",
   "pygments_lexer": "ipython3",
   "version": "3.8.9"
  }
 },
 "nbformat": 4,
 "nbformat_minor": 5
}
