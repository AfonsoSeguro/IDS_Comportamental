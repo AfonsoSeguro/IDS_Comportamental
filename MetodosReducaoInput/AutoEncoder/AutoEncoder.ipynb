{
 "cells": [
  {
   "cell_type": "code",
   "execution_count": 1,
   "id": "fe6c1867",
   "metadata": {},
   "outputs": [],
   "source": [
    "import os\n",
    "import tensorflow as tf\n",
    "import numpy as np\n",
    "import itertools\n",
    "import matplotlib.pyplot as plt\n",
    "import gc\n",
    "from datetime import datetime\n",
    "from sklearn.utils import shuffle\n",
    "from sklearn.preprocessing import StandardScaler\n",
    "from sklearn.preprocessing import MinMaxScaler\n",
    "from sklearn.model_selection import train_test_split\n",
    "from tensorflow import keras\n",
    "from tensorflow.keras import layers\n",
    "from sklearn.metrics import confusion_matrix"
   ]
  },
  {
   "cell_type": "markdown",
   "id": "7b0a81b3",
   "metadata": {},
   "source": [
    "<h2>Carregamento dos Dados</h2>"
   ]
  },
  {
   "cell_type": "code",
   "execution_count": 2,
   "id": "2199d550",
   "metadata": {},
   "outputs": [],
   "source": [
    "input_label = []\n",
    "output_label = []"
   ]
  },
  {
   "cell_type": "code",
   "execution_count": 3,
   "id": "05f737f4",
   "metadata": {},
   "outputs": [
    {
     "name": "stdout",
     "output_type": "stream",
     "text": [
      "286191 758334\n"
     ]
    }
   ],
   "source": [
    "a,b = 0,0\n",
    "ficheiro = open(\"..\\\\..\\\\Dataset\\\\02-03-2018.csv\", \"r\")\n",
    "nome_label = ficheiro.readline().split(\",\")\n",
    "ficheiro.readline()\n",
    "ficheiro.readline()\n",
    "linha = ficheiro.readline()\n",
    "while(linha != \"\"):\n",
    "    linha = linha.split(\",\")\n",
    "    out = linha.pop(37)\n",
    "    if(out == \"Benign\"): \n",
    "        out = 0\n",
    "        b += 1\n",
    "    else: \n",
    "        out = 1\n",
    "        a += 1\n",
    "    output_label.append(out)\n",
    "    input_label.append(linha)\n",
    "    linha = ficheiro.readline()\n",
    "ficheiro.close()\n",
    "print(str(a) + \" \" + str(b))"
   ]
  },
  {
   "cell_type": "code",
   "execution_count": 4,
   "id": "98610d90",
   "metadata": {},
   "outputs": [],
   "source": [
    "backup_input_label = input_label[:]\n",
    "backup_output_label = output_label[:]"
   ]
  },
  {
   "cell_type": "code",
   "execution_count": null,
   "id": "2b5db225",
   "metadata": {},
   "outputs": [],
   "source": [
    "input_label = backup_input_label[:]\n",
    "output_label = backup_output_label[:]"
   ]
  },
  {
   "cell_type": "markdown",
   "id": "afbd11eb",
   "metadata": {},
   "source": [
    "<h2>Normalização dos Dados</h2>"
   ]
  },
  {
   "cell_type": "code",
   "execution_count": 5,
   "id": "b5dc4ae9",
   "metadata": {},
   "outputs": [],
   "source": [
    "scaler = MinMaxScaler(feature_range = (0,1))\n",
    "scaler.fit(input_label)\n",
    "input_label = scaler.transform(input_label)"
   ]
  },
  {
   "cell_type": "code",
   "execution_count": 6,
   "id": "a14c48cf",
   "metadata": {},
   "outputs": [],
   "source": [
    "inp_train,inp_test,out_train,out_test = train_test_split(input_label, input_label, test_size=0.2)"
   ]
  },
  {
   "cell_type": "markdown",
   "id": "e98c91fa",
   "metadata": {},
   "source": [
    "<h2>Construção Das Redes</h2>"
   ]
  },
  {
   "cell_type": "code",
   "execution_count": 7,
   "id": "bc69a318",
   "metadata": {},
   "outputs": [],
   "source": [
    "input_model = layers.Input(shape = (78,))\n",
    "enc = layers.Dense(units = 64, activation = \"relu\", use_bias = True)(input_model)\n",
    "enc = layers.Dense(units = 36, activation = \"relu\")(enc)\n",
    "dec = layers.Dense(units = 64, activation = \"relu\", use_bias = True)(enc)\n",
    "dec = layers.Dense(units = 78, activation = \"relu\", use_bias = True)(dec)\n",
    "auto_encoder = keras.Model(input_model, dec)"
   ]
  },
  {
   "cell_type": "code",
   "execution_count": 8,
   "id": "67f9cb50",
   "metadata": {},
   "outputs": [],
   "source": [
    "encoder = keras.Model(input_model, enc)\n",
    "decoder_input = layers.Input(shape = (36,))\n",
    "decoder_layer = auto_encoder.layers[-2](decoder_input)\n",
    "decoder_layer = auto_encoder.layers[-1](decoder_layer)\n",
    "decoder = keras.Model(decoder_input, decoder_layer)"
   ]
  },
  {
   "cell_type": "code",
   "execution_count": 9,
   "id": "8c85e3bb",
   "metadata": {},
   "outputs": [],
   "source": [
    "auto_encoder.compile(optimizer=keras.optimizers.Adam(learning_rate=0.00025), loss = \"mean_squared_error\", metrics = ['accuracy'])"
   ]
  },
  {
   "cell_type": "markdown",
   "id": "e6d87d9f",
   "metadata": {},
   "source": [
    "<h2>Treino</h2>"
   ]
  },
  {
   "cell_type": "code",
   "execution_count": 10,
   "id": "0a834766",
   "metadata": {},
   "outputs": [
    {
     "name": "stdout",
     "output_type": "stream",
     "text": [
      "Epoch 1/5\n",
      "23502/23502 [==============================] - 41s 2ms/step - loss: 0.0135 - accuracy: 0.4970 - val_loss: 0.0125 - val_accuracy: 0.5257\n",
      "Epoch 2/5\n",
      "23502/23502 [==============================] - 23s 973us/step - loss: 0.0124 - accuracy: 0.5079 - val_loss: 0.0124 - val_accuracy: 0.5010\n",
      "Epoch 3/5\n",
      "23502/23502 [==============================] - 24s 1ms/step - loss: 0.0124 - accuracy: 0.5093 - val_loss: 0.0124 - val_accuracy: 0.49820.0124 - accuracy:  - ETA: 0s - loss: - ETA: 0s - loss: 0.0124 - accuracy: 0.50\n",
      "Epoch 4/5\n",
      "23502/23502 [==============================] - 24s 1ms/step - loss: 0.0124 - accuracy: 0.5095 - val_loss: 0.0124 - val_accuracy: 0.5032\n",
      "Epoch 5/5\n",
      "23502/23502 [==============================] - 25s 1ms/step - loss: 0.0124 - accuracy: 0.5100 - val_loss: 0.0124 - val_accuracy: 0.5016\n"
     ]
    }
   ],
   "source": [
    "train = auto_encoder.fit(x = inp_train, y = out_train,validation_split= 0.1, epochs = 5, verbose = 1, shuffle = True)"
   ]
  },
  {
   "cell_type": "code",
   "execution_count": 23,
   "id": "a2afc598",
   "metadata": {},
   "outputs": [],
   "source": [
    "encoder.save(\"autoencoder36.h5\")"
   ]
  },
  {
   "cell_type": "markdown",
   "id": "583b8b55",
   "metadata": {},
   "source": [
    "## Teste"
   ]
  },
  {
   "cell_type": "code",
   "execution_count": 11,
   "id": "34a896b7",
   "metadata": {},
   "outputs": [],
   "source": [
    "input_label = backup_input_label[:]\n",
    "output_label = backup_output_label[:]"
   ]
  },
  {
   "cell_type": "code",
   "execution_count": 12,
   "id": "3ee8d40d",
   "metadata": {},
   "outputs": [],
   "source": [
    "scaler = MinMaxScaler(feature_range=(0,1))\n",
    "scaler.fit(input_label)\n",
    "input_label = scaler.transform(input_label)"
   ]
  },
  {
   "cell_type": "code",
   "execution_count": 13,
   "id": "d2f8030d",
   "metadata": {},
   "outputs": [],
   "source": [
    "input_label = encoder.predict(input_label).reshape(len(input_label), 36, 1)\n",
    "output_label = np.array(output_label)"
   ]
  },
  {
   "cell_type": "code",
   "execution_count": 14,
   "id": "4fd1da6d",
   "metadata": {},
   "outputs": [],
   "source": [
    "input_label, output_label = shuffle(input_label, output_label)"
   ]
  },
  {
   "cell_type": "code",
   "execution_count": 15,
   "id": "12909d08",
   "metadata": {},
   "outputs": [],
   "source": [
    "inp_train, inp_test, out_train, out_test = train_test_split(input_label, output_label, test_size = 0.2)"
   ]
  },
  {
   "cell_type": "code",
   "execution_count": 16,
   "id": "08d12efb",
   "metadata": {},
   "outputs": [],
   "source": [
    "model = keras.Sequential([\n",
    "    layers.Input(shape = (36,1)),\n",
    "    layers.Conv1D(filters = 32, kernel_size = 3, padding = \"same\", activation = \"relu\", use_bias = True),\n",
    "    layers.MaxPool1D(pool_size = 3),\n",
    "    layers.Conv1D(filters = 16, kernel_size = 3, padding = \"same\", activation = \"relu\", use_bias = True),\n",
    "    layers.MaxPool1D(pool_size = 3),\n",
    "    layers.Flatten(),\n",
    "    layers.Dense(units = 2, activation = \"softmax\")\n",
    "])"
   ]
  },
  {
   "cell_type": "code",
   "execution_count": 17,
   "id": "e02f21cd",
   "metadata": {},
   "outputs": [],
   "source": [
    "model.compile(optimizer= keras.optimizers.SGD(learning_rate= 0.08), loss=\"sparse_categorical_crossentropy\", metrics=['accuracy'])"
   ]
  },
  {
   "cell_type": "code",
   "execution_count": 18,
   "id": "67a92e96",
   "metadata": {},
   "outputs": [
    {
     "name": "stdout",
     "output_type": "stream",
     "text": [
      "Epoch 1/5\n",
      "23502/23502 [==============================] - 54s 2ms/step - loss: 0.0754 - accuracy: 0.9695 - val_loss: 0.0069 - val_accuracy: 0.9983\n",
      "Epoch 2/5\n",
      "23502/23502 [==============================] - 52s 2ms/step - loss: 0.0065 - accuracy: 0.9985 - val_loss: 0.0046 - val_accuracy: 0.9989\n",
      "Epoch 3/5\n",
      "23502/23502 [==============================] - 51s 2ms/step - loss: 0.0050 - accuracy: 0.9989 - val_loss: 0.0034 - val_accuracy: 0.9992\n",
      "Epoch 4/5\n",
      "23502/23502 [==============================] - 53s 2ms/step - loss: 0.0036 - accuracy: 0.9991 - val_loss: 0.0028 - val_accuracy: 0.9991\n",
      "Epoch 5/5\n",
      "23502/23502 [==============================] - 53s 2ms/step - loss: 0.0043 - accuracy: 0.9993 - val_loss: 0.0028 - val_accuracy: 0.9992\n"
     ]
    }
   ],
   "source": [
    "treino = model.fit(x = inp_train, y = out_train, validation_split= 0.1, epochs = 5, shuffle = True,verbose = 1)"
   ]
  },
  {
   "cell_type": "code",
   "execution_count": 19,
   "id": "6960c71f",
   "metadata": {},
   "outputs": [],
   "source": [
    "res = [np.argmax(resu) for resu in model.predict(inp_test)]"
   ]
  },
  {
   "cell_type": "code",
   "execution_count": 20,
   "id": "00c02bf2",
   "metadata": {},
   "outputs": [],
   "source": [
    "cm = confusion_matrix(y_true = out_test.reshape(len(out_test)), y_pred = np.array(res))"
   ]
  },
  {
   "cell_type": "code",
   "execution_count": 21,
   "id": "d74f0950",
   "metadata": {},
   "outputs": [],
   "source": [
    "def plot_confusion_matrix(cm, classes, normaliza = False, title = \"Confusion matrix\", cmap = plt.cm.Blues):\n",
    "    plt.imshow(cm, interpolation='nearest', cmap=cmap)\n",
    "    plt.title(title)\n",
    "    plt.colorbar()\n",
    "    tick_marks = np.arange(len(classes))\n",
    "    plt.xticks(tick_marks, classes, rotation=45)\n",
    "    plt.yticks(tick_marks, classes)\n",
    "    if normaliza:\n",
    "        cm = cm.astype('float') / cm.sum(axis = 1)[:, np.newaxis]\n",
    "        print(\"Normalized confusion matrix\")\n",
    "    else:\n",
    "        print(\"Confusion matrix, without normalization\")\n",
    "    \n",
    "    print(cm)\n",
    "    \n",
    "    thresh = cm.max() / 2\n",
    "    for i, j in itertools.product(range(cm.shape[0]), range(cm.shape[1])):\n",
    "        plt.text(j, i, cm[i, j],\n",
    "        horizontalalignment=\"center\",\n",
    "        color=\"white\" if cm[i,j] > thresh else \"black\")\n",
    "    \n",
    "    plt.tight_layout()\n",
    "    plt.ylabel('True label')\n",
    "    plt.xlabel('Predicted label')"
   ]
  },
  {
   "cell_type": "code",
   "execution_count": 22,
   "id": "f1f55d52",
   "metadata": {},
   "outputs": [
    {
     "name": "stdout",
     "output_type": "stream",
     "text": [
      "Confusion matrix, without normalization\n",
      "[[151394    126]\n",
      " [    13  57372]]\n"
     ]
    },
    {
     "data": {
      "image/png": "[encoded data removed]",
      "text/plain": [
       "<Figure size 432x288 with 2 Axes>"
      ]
     },
     "metadata": {
      "needs_background": "light"
     },
     "output_type": "display_data"
    }
   ],
   "source": [
    "labels = [\"Benign\", \"Bot\"]\n",
    "plot_confusion_matrix(cm = cm, classes = labels, title = \"Bot IDS\")"
   ]
  },
  {
   "cell_type": "code",
   "execution_count": null,
   "id": "d9906402",
   "metadata": {},
   "outputs": [],
   "source": []
  }
 ],
 "metadata": {
  "kernelspec": {
   "display_name": "Python 3",
   "language": "python",
   "name": "python3"
  },
  "language_info": {
   "codemirror_mode": {
    "name": "ipython",
    "version": 3
   },
   "file_extension": ".py",
   "mimetype": "text/x-python",
   "name": "python",
   "nbconvert_exporter": "python",
   "pygments_lexer": "ipython3",
   "version": "3.8.9"
  }
 },
 "nbformat": 4,
 "nbformat_minor": 5
}
