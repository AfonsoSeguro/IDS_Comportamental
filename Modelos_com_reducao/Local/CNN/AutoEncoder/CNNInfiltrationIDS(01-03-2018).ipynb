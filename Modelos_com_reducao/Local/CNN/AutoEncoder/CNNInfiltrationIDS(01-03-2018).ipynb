{
 "cells": [
  {
   "cell_type": "code",
   "execution_count": 1,
   "id": "played-object",
   "metadata": {},
   "outputs": [],
   "source": [
    "import os\n",
    "import tensorflow as tf\n",
    "import numpy as np\n",
    "import itertools\n",
    "import matplotlib.pyplot as plt\n",
    "import gc\n",
    "from datetime import datetime\n",
    "from sklearn.utils import shuffle\n",
    "from sklearn.preprocessing import StandardScaler\n",
    "from sklearn.preprocessing import MinMaxScaler\n",
    "from sklearn.model_selection import train_test_split\n",
    "from tensorflow import keras\n",
    "from tensorflow.keras import layers\n",
    "from sklearn.metrics import confusion_matrix\n",
    "from sklearn.metrics import roc_curve\n",
    "from sklearn.metrics import roc_auc_score"
   ]
  },
  {
   "cell_type": "code",
   "execution_count": 2,
   "id": "identical-equality",
   "metadata": {},
   "outputs": [],
   "source": [
    "input_label = []\n",
    "output_label = []"
   ]
  },
  {
   "cell_type": "code",
   "execution_count": 3,
   "id": "standard-estonia",
   "metadata": {},
   "outputs": [
    {
     "name": "stdout",
     "output_type": "stream",
     "text": [
      "92403 235778\n"
     ]
    }
   ],
   "source": [
    "a,b = 0,0\n",
    "\n",
    "ficheiro = open(\"..\\\\..\\\\..\\\\Dataset\\\\01-03-2018.csv\", \"r\")\n",
    "\n",
    "ficheiro.readline()\n",
    "ficheiro.readline()\n",
    "ficheiro.readline()\n",
    "\n",
    "linha = ficheiro.readline()\n",
    "while(linha != \"\"):\n",
    "    linha = linha.split(\",\")\n",
    "    out = linha.pop(18)\n",
    "    if(out == \"Benign\"): \n",
    "        out = 0\n",
    "        b += 1\n",
    "    else: \n",
    "        out = 1\n",
    "        a += 1\n",
    "    output_label.append(out)\n",
    "    input_label.append(linha)\n",
    "    linha = ficheiro.readline()\n",
    "    \n",
    "ficheiro.close()\n",
    "print(str(a) + \" \" + str(b))"
   ]
  },
  {
   "cell_type": "code",
   "execution_count": 4,
   "id": "waiting-testing",
   "metadata": {},
   "outputs": [],
   "source": [
    "scaler = MinMaxScaler(feature_range=(0,1))\n",
    "scaler.fit(input_label)\n",
    "input_label = scaler.transform(input_label)"
   ]
  },
  {
   "cell_type": "code",
   "execution_count": 5,
   "id": "improving-conclusion",
   "metadata": {},
   "outputs": [],
   "source": [
    "input_label = np.array(input_label).reshape(len(input_label), 78, 1)\n",
    "output_label = np.array(output_label)"
   ]
  },
  {
   "cell_type": "code",
   "execution_count": 6,
   "id": "proprietary-package",
   "metadata": {},
   "outputs": [],
   "source": [
    "input_label, output_label = shuffle(input_label, output_label)"
   ]
  },
  {
   "cell_type": "markdown",
   "id": "77ae8a69",
   "metadata": {},
   "source": [
    "<h2>AutoEncoder</h2>"
   ]
  },
  {
   "cell_type": "code",
   "execution_count": 7,
   "id": "9264b65c",
   "metadata": {},
   "outputs": [],
   "source": [
    "inp_train,inp_test,out_train,out_test = train_test_split(input_label.reshape(len(input_label), 78), input_label.reshape(len(input_label), 78), test_size=0.2)"
   ]
  },
  {
   "cell_type": "code",
   "execution_count": 8,
   "id": "9922d84b",
   "metadata": {},
   "outputs": [],
   "source": [
    "input_model = layers.Input(shape = (78,))\n",
    "enc = layers.Dense(units = 64, activation = \"relu\", use_bias = True)(input_model)\n",
    "enc = layers.Dense(units = 36, activation = \"relu\", use_bias = True)(enc)\n",
    "enc = layers.Dense(units = 18, activation = \"relu\")(enc)\n",
    "dec = layers.Dense(units = 36, activation = \"relu\", use_bias = True)(enc)\n",
    "dec = layers.Dense(units = 64, activation = \"relu\", use_bias = True)(dec)\n",
    "dec = layers.Dense(units = 78, activation = \"relu\", use_bias = True)(dec)\n",
    "auto_encoder = keras.Model(input_model, dec)"
   ]
  },
  {
   "cell_type": "code",
   "execution_count": 9,
   "id": "fdf4d2c9",
   "metadata": {},
   "outputs": [],
   "source": [
    "encoder = keras.Model(input_model, enc)\n",
    "decoder_input = layers.Input(shape = (18,))\n",
    "decoder_layer = auto_encoder.layers[-3](decoder_input)\n",
    "decoder_layer = auto_encoder.layers[-2](decoder_layer)\n",
    "decoder_layer = auto_encoder.layers[-1](decoder_layer)\n",
    "decoder = keras.Model(decoder_input, decoder_layer)"
   ]
  },
  {
   "cell_type": "code",
   "execution_count": 10,
   "id": "8083ca95",
   "metadata": {},
   "outputs": [],
   "source": [
    "auto_encoder.compile(optimizer=keras.optimizers.Adam(learning_rate=0.00025), loss = \"mean_squared_error\", metrics = ['accuracy'])"
   ]
  },
  {
   "cell_type": "code",
   "execution_count": 11,
   "id": "e68f3f0e",
   "metadata": {},
   "outputs": [
    {
     "name": "stdout",
     "output_type": "stream",
     "text": [
      "Epoch 1/10\n",
      "7385/7385 [==============================] - 16s 2ms/step - loss: 0.0120 - accuracy: 0.5410 - val_loss: 0.0103 - val_accuracy: 0.6668\n",
      "Epoch 2/10\n",
      "7385/7385 [==============================] - 11s 1ms/step - loss: 0.0101 - accuracy: 0.5840 - val_loss: 0.0103 - val_accuracy: 0.5004\n",
      "Epoch 3/10\n",
      "7385/7385 [==============================] - 11s 1ms/step - loss: 0.0101 - accuracy: 0.5892 - val_loss: 0.0102 - val_accuracy: 0.5937\n",
      "Epoch 4/10\n",
      "7385/7385 [==============================] - 11s 2ms/step - loss: 0.0100 - accuracy: 0.5892 - val_loss: 0.0102 - val_accuracy: 0.6150\n",
      "Epoch 5/10\n",
      "7385/7385 [==============================] - 12s 2ms/step - loss: 0.0100 - accuracy: 0.5888 - val_loss: 0.0100 - val_accuracy: 0.6614\n",
      "Epoch 6/10\n",
      "7385/7385 [==============================] - 13s 2ms/step - loss: 0.0099 - accuracy: 0.5915 - val_loss: 0.0100 - val_accuracy: 0.6687\n",
      "Epoch 7/10\n",
      "7385/7385 [==============================] - 12s 2ms/step - loss: 0.0098 - accuracy: 0.5886 - val_loss: 0.0100 - val_accuracy: 0.6676\n",
      "Epoch 8/10\n",
      "7385/7385 [==============================] - 11s 2ms/step - loss: 0.0098 - accuracy: 0.5920 - val_loss: 0.0100 - val_accuracy: 0.6142\n",
      "Epoch 9/10\n",
      "7385/7385 [==============================] - 11s 2ms/step - loss: 0.0098 - accuracy: 0.5890 - val_loss: 0.0100 - val_accuracy: 0.6743\n",
      "Epoch 10/10\n",
      "7385/7385 [==============================] - 11s 2ms/step - loss: 0.0098 - accuracy: 0.5931 - val_loss: 0.0100 - val_accuracy: 0.6629\n"
     ]
    }
   ],
   "source": [
    "train = auto_encoder.fit(x = inp_train, y = out_train,validation_split= 0.1, epochs = 10, verbose = 1, shuffle = True)"
   ]
  },
  {
   "cell_type": "code",
   "execution_count": 12,
   "id": "6ef6d636",
   "metadata": {},
   "outputs": [],
   "source": [
    "predict = auto_encoder.predict(inp_test)"
   ]
  },
  {
   "cell_type": "code",
   "execution_count": 13,
   "id": "b432e25f",
   "metadata": {},
   "outputs": [],
   "source": [
    "losses = keras.losses.mean_squared_error(out_test, predict).numpy()"
   ]
  },
  {
   "cell_type": "code",
   "execution_count": 14,
   "id": "6c8fc18c",
   "metadata": {},
   "outputs": [
    {
     "name": "stdout",
     "output_type": "stream",
     "text": [
      "0.009848457502393085\n"
     ]
    }
   ],
   "source": [
    "total = 0\n",
    "for loss in losses:\n",
    "    total += loss\n",
    "print(total / len(losses))"
   ]
  },
  {
   "cell_type": "markdown",
   "id": "e1f1ce7f",
   "metadata": {},
   "source": [
    "<h2>cross validation</h2>"
   ]
  },
  {
   "cell_type": "code",
   "execution_count": 15,
   "id": "2557424d",
   "metadata": {},
   "outputs": [],
   "source": [
    "confusion_matrixs = []\n",
    "roc_curvs = []"
   ]
  },
  {
   "cell_type": "code",
   "execution_count": 16,
   "id": "ffc4e7b1",
   "metadata": {},
   "outputs": [],
   "source": [
    "input_label = encoder.predict(input_label).reshape(len(input_label), 18, 1)"
   ]
  },
  {
   "cell_type": "code",
   "execution_count": 17,
   "id": "57f6512f",
   "metadata": {},
   "outputs": [
    {
     "name": "stdout",
     "output_type": "stream",
     "text": [
      "0\n",
      "1\n",
      "2\n",
      "3\n",
      "4\n",
      "5\n",
      "6\n",
      "7\n",
      "8\n",
      "9\n"
     ]
    }
   ],
   "source": [
    "for i in range(10):\n",
    "    \n",
    "    mini = int(len(input_label) * 0.10) * i\n",
    "    maxi = int((len(input_label) * 0.10) * (i + 1))\n",
    "    \n",
    "    inp_train = np.array([*input_label[0: mini],*input_label[maxi:len(input_label)]])\n",
    "    inp_test = np.array(input_label[mini: maxi])\n",
    "    out_train = np.array([*output_label[0: mini],*output_label[maxi:len(output_label)]])\n",
    "    out_test = np.array(output_label[mini:maxi])\n",
    "    \n",
    "    model = keras.Sequential([\n",
    "        layers.Input(shape = (18,1)),\n",
    "        layers.Conv1D(filters = 16, kernel_size = 3, padding = \"same\", activation = \"relu\", use_bias = True),\n",
    "        layers.MaxPool1D(pool_size = 3),\n",
    "        layers.Conv1D(filters = 8, kernel_size = 3, padding = \"same\", activation = \"relu\", use_bias = True),\n",
    "        layers.MaxPool1D(pool_size = 3),\n",
    "        layers.Flatten(),\n",
    "        layers.Dense(units = 2, activation = \"softmax\")\n",
    "    ])\n",
    "    \n",
    "    model.compile(optimizer= keras.optimizers.Adam(learning_rate= 0.00025), loss=\"sparse_categorical_crossentropy\", metrics=['accuracy'])\n",
    "    \n",
    "    treino = model.fit(x = inp_train, y = out_train, validation_split= 0.1, epochs = 10, shuffle = True,verbose = 0)\n",
    "    \n",
    "    res = np.array([np.argmax(resu) for resu in model.predict(inp_test)])\n",
    "    \n",
    "    confusion_matrixs.append(confusion_matrix(out_test, res))\n",
    "    fpr, tpr, _ = roc_curve(out_test,  res)\n",
    "    auc = roc_auc_score(out_test, res)\n",
    "    roc_curvs.append([fpr, tpr, auc])\n",
    "    print(i)"
   ]
  },
  {
   "cell_type": "markdown",
   "id": "c590ac24",
   "metadata": {},
   "source": [
    "<h2>Roc Curves</h2>"
   ]
  },
  {
   "cell_type": "code",
   "execution_count": 18,
   "id": "c1fef4f6",
   "metadata": {
    "scrolled": true
   },
   "outputs": [
    {
     "data": {
      "image/png": "[encoded data removed]",
      "text/plain": [
       "<Figure size 432x288 with 1 Axes>"
      ]
     },
     "metadata": {
      "needs_background": "light"
     },
     "output_type": "display_data"
    }
   ],
   "source": [
    "cores = [\"blue\", \"orange\", \"green\", \"red\", \"purple\", \"brown\", \"pink\", \"gray\", \"olive\", \"cyan\"]\n",
    "for i in range(10):\n",
    "    plt.plot(roc_curvs[i][0],roc_curvs[i][1],label=\"curva \" + str(i) + \", auc=\" + str(roc_curvs[i][2]), c = cores[i])\n",
    "plt.legend(loc=4)\n",
    "plt.show()"
   ]
  },
  {
   "cell_type": "code",
   "execution_count": 19,
   "id": "d8edc4d2",
   "metadata": {},
   "outputs": [],
   "source": [
    "total_conv_matrix = [[0,0],[0,0]]\n",
    "for cov in confusion_matrixs:\n",
    "    total_conv_matrix[0][0] += cov[0][0] \n",
    "    total_conv_matrix[0][1] += cov[0][1]\n",
    "    total_conv_matrix[1][0] += cov[1][0]\n",
    "    total_conv_matrix[1][1] += cov[1][1]\n"
   ]
  },
  {
   "cell_type": "code",
   "execution_count": 20,
   "id": "156d0645",
   "metadata": {},
   "outputs": [],
   "source": [
    "def plot_confusion_matrix(cm, classes, normaliza = False, title = \"Confusion matrix\", cmap = plt.cm.Blues):\n",
    "    plt.imshow(cm, interpolation='nearest', cmap=cmap)\n",
    "    plt.title(title)\n",
    "    plt.colorbar()\n",
    "    tick_marks = np.arange(len(classes))\n",
    "    plt.xticks(tick_marks, classes, rotation=45)\n",
    "    plt.yticks(tick_marks, classes)\n",
    "    if normaliza:\n",
    "        cm = cm.astype('float') / cm.sum(axis = 1)[:, np.newaxis]\n",
    "        print(\"Normalized confusion matrix\")\n",
    "    else:\n",
    "        print(\"Confusion matrix, without normalization\")\n",
    "    \n",
    "    print(cm)\n",
    "    \n",
    "    thresh = cm.max() / 2\n",
    "    for i, j in itertools.product(range(cm.shape[0]), range(cm.shape[1])):\n",
    "        plt.text(j, i, cm[i, j],\n",
    "        horizontalalignment=\"center\",\n",
    "        color=\"white\" if cm[i,j] > thresh else \"black\")\n",
    "    \n",
    "    plt.tight_layout()\n",
    "    plt.ylabel('True label')\n",
    "    plt.xlabel('Predicted label')"
   ]
  },
  {
   "cell_type": "code",
   "execution_count": 21,
   "id": "ee5f6e63",
   "metadata": {},
   "outputs": [
    {
     "name": "stdout",
     "output_type": "stream",
     "text": [
      "Confusion matrix, without normalization\n",
      "[[228648   7130]\n",
      " [ 71664  20739]]\n"
     ]
    },
    {
     "data": {
      "image/png": "[encoded data removed]",
      "text/plain": [
       "<Figure size 432x288 with 2 Axes>"
      ]
     },
     "metadata": {
      "needs_background": "light"
     },
     "output_type": "display_data"
    }
   ],
   "source": [
    "labels = [\"Benign\", \"Infiltration\"]\n",
    "plot_confusion_matrix(cm = np.array(total_conv_matrix), classes = labels, title = \"Infiltration IDS\")"
   ]
  }
 ],
 "metadata": {
  "kernelspec": {
   "display_name": "Python 3",
   "language": "python",
   "name": "python3"
  },
  "language_info": {
   "codemirror_mode": {
    "name": "ipython",
    "version": 3
   },
   "file_extension": ".py",
   "mimetype": "text/x-python",
   "name": "python",
   "nbconvert_exporter": "python",
   "pygments_lexer": "ipython3",
   "version": "3.8.9"
  }
 },
 "nbformat": 4,
 "nbformat_minor": 5
}
