{
 "cells": [
  {
   "cell_type": "code",
   "execution_count": 1,
   "id": "played-object",
   "metadata": {},
   "outputs": [],
   "source": [
    "import os\n",
    "import tensorflow as tf\n",
    "import numpy as np\n",
    "import itertools\n",
    "import matplotlib.pyplot as plt\n",
    "import gc\n",
    "from datetime import datetime\n",
    "from sklearn.utils import shuffle\n",
    "from sklearn.preprocessing import StandardScaler\n",
    "from sklearn.preprocessing import MinMaxScaler\n",
    "from sklearn.model_selection import train_test_split\n",
    "from tensorflow import keras\n",
    "from tensorflow.keras import layers\n",
    "from sklearn.metrics import confusion_matrix\n",
    "from sklearn.metrics import roc_curve\n",
    "from sklearn.metrics import roc_auc_score\n",
    "from sklearn.decomposition import PCA"
   ]
  },
  {
   "cell_type": "code",
   "execution_count": 2,
   "id": "identical-equality",
   "metadata": {},
   "outputs": [],
   "source": [
    "input_label = []\n",
    "output_label = []"
   ]
  },
  {
   "cell_type": "code",
   "execution_count": 3,
   "id": "standard-estonia",
   "metadata": {},
   "outputs": [
    {
     "name": "stdout",
     "output_type": "stream",
     "text": [
      "52498 988050\n"
     ]
    }
   ],
   "source": [
    "a,b = 0,0\n",
    "\n",
    "ficheiro = open(\"..\\\\..\\\\DatasetTratado\\\\15-02-2018.csv\", \"r\")\n",
    "\n",
    "ficheiro.readline()\n",
    "ficheiro.readline()\n",
    "ficheiro.readline()\n",
    "\n",
    "linha = ficheiro.readline()\n",
    "while(linha != \"\"):\n",
    "    linha = linha.split(\",\")\n",
    "    out = linha.pop(37)\n",
    "    if(out == \"Benign\"): \n",
    "        out = 0\n",
    "        b += 1\n",
    "    else: \n",
    "        out = 1\n",
    "        a += 1\n",
    "    output_label.append(out)\n",
    "    input_label.append(linha)\n",
    "    linha = ficheiro.readline()\n",
    "    \n",
    "ficheiro.close()\n",
    "\n",
    "print(str(a) + \" \" + str(b))"
   ]
  },
  {
   "cell_type": "code",
   "execution_count": 4,
   "id": "waiting-testing",
   "metadata": {},
   "outputs": [],
   "source": [
    "scaler = MinMaxScaler(feature_range=(0,1))\n",
    "scaler.fit(input_label)\n",
    "input_label = scaler.transform(input_label)"
   ]
  },
  {
   "cell_type": "markdown",
   "id": "2d8c7db9",
   "metadata": {},
   "source": [
    "<h2>PCA</h2>"
   ]
  },
  {
   "cell_type": "code",
   "execution_count": 5,
   "id": "b14df506",
   "metadata": {},
   "outputs": [],
   "source": [
    "pca = PCA(n_components=18)"
   ]
  },
  {
   "cell_type": "code",
   "execution_count": 6,
   "id": "27167570",
   "metadata": {},
   "outputs": [
    {
     "data": {
      "text/plain": [
       "PCA(n_components=18)"
      ]
     },
     "execution_count": 6,
     "metadata": {},
     "output_type": "execute_result"
    }
   ],
   "source": [
    "pca.fit(input_label)"
   ]
  },
  {
   "cell_type": "code",
   "execution_count": 7,
   "id": "aecf165c",
   "metadata": {},
   "outputs": [],
   "source": [
    "x_pca = pca.transform(input_label)"
   ]
  },
  {
   "cell_type": "code",
   "execution_count": 8,
   "id": "2f9f5519",
   "metadata": {},
   "outputs": [
    {
     "data": {
      "text/plain": [
       "(1040548, 78)"
      ]
     },
     "execution_count": 8,
     "metadata": {},
     "output_type": "execute_result"
    }
   ],
   "source": [
    "input_label.shape"
   ]
  },
  {
   "cell_type": "code",
   "execution_count": 9,
   "id": "09234c8b",
   "metadata": {},
   "outputs": [
    {
     "data": {
      "text/plain": [
       "(1040548, 18)"
      ]
     },
     "execution_count": 9,
     "metadata": {},
     "output_type": "execute_result"
    }
   ],
   "source": [
    "x_pca.shape"
   ]
  },
  {
   "cell_type": "code",
   "execution_count": 10,
   "id": "16df3a7d",
   "metadata": {},
   "outputs": [],
   "source": [
    "x_pca = x_pca.reshape(len(x_pca), 18, 1)\n",
    "y_pca = np.array(output_label)"
   ]
  },
  {
   "cell_type": "code",
   "execution_count": 11,
   "id": "b83ded60",
   "metadata": {},
   "outputs": [],
   "source": [
    "x_pca, y_pca = shuffle(x_pca, y_pca)"
   ]
  },
  {
   "cell_type": "markdown",
   "id": "1b1ab4ee",
   "metadata": {},
   "source": [
    "<h2>Cross Validation</h2>"
   ]
  },
  {
   "cell_type": "code",
   "execution_count": 12,
   "id": "3a0a8f8e",
   "metadata": {},
   "outputs": [],
   "source": [
    "confusion_matrixs = []\n",
    "roc_curvs = []"
   ]
  },
  {
   "cell_type": "code",
   "execution_count": 13,
   "id": "3fc9a61a",
   "metadata": {},
   "outputs": [
    {
     "name": "stdout",
     "output_type": "stream",
     "text": [
      "0\n",
      "1\n",
      "2\n",
      "3\n",
      "4\n",
      "5\n",
      "6\n",
      "7\n",
      "8\n",
      "9\n"
     ]
    }
   ],
   "source": [
    "for i in range(10):\n",
    "    mini = int(len(x_pca) * 0.10) * i\n",
    "    maxi = int((len(x_pca) * 0.10) * (i + 1))\n",
    "    \n",
    "    inp_train = np.array([*x_pca[0: mini],*x_pca[maxi:len(x_pca)]])\n",
    "    inp_test = np.array(x_pca[mini: maxi])\n",
    "    out_train = np.array([*y_pca[0: mini],*y_pca[maxi:len(y_pca)]])\n",
    "    out_test = np.array(y_pca[mini:maxi])\n",
    "    \n",
    "    \n",
    "    model = keras.Sequential([\n",
    "        layers.Input(shape = (18,1)),\n",
    "        layers.Conv1D(filters = 16, kernel_size = 3, padding = \"same\", activation = \"relu\", use_bias = True),\n",
    "        layers.MaxPool1D(pool_size = 3),\n",
    "        layers.Conv1D(filters = 8, kernel_size = 3, padding = \"same\", activation = \"relu\", use_bias = True),\n",
    "        layers.MaxPool1D(pool_size = 3),\n",
    "        layers.Flatten(),\n",
    "        layers.Dense(units = 2, activation = \"softmax\")\n",
    "    ])\n",
    "    \n",
    "    model.compile(optimizer= keras.optimizers.Adam(learning_rate= 0.00025), loss=\"sparse_categorical_crossentropy\", metrics=['accuracy'])\n",
    "    \n",
    "    treino = model.fit(x = inp_train, y = out_train, validation_split= 0.1, epochs = 10, shuffle = True,verbose = 0)\n",
    "    \n",
    "    res = np.array([np.argmax(resu) for resu in model.predict(inp_test)])\n",
    "    \n",
    "    confusion_matrixs.append(confusion_matrix(out_test, res))\n",
    "    fpr, tpr, _ = roc_curve(out_test,  res)\n",
    "    auc = roc_auc_score(out_test, res)\n",
    "    roc_curvs.append([fpr, tpr, auc])\n",
    "    print(i)"
   ]
  },
  {
   "cell_type": "markdown",
   "id": "154f4bb5",
   "metadata": {},
   "source": [
    "<h2>Roc Curves</h2>"
   ]
  },
  {
   "cell_type": "code",
   "execution_count": 14,
   "id": "15446213",
   "metadata": {
    "scrolled": true
   },
   "outputs": [
    {
     "data": {
      "image/png": "[encoded data removed]",
      "text/plain": [
       "<Figure size 432x288 with 1 Axes>"
      ]
     },
     "metadata": {
      "needs_background": "light"
     },
     "output_type": "display_data"
    }
   ],
   "source": [
    "cores = [\"blue\", \"orange\", \"green\", \"red\", \"purple\", \"brown\", \"pink\", \"gray\", \"olive\", \"cyan\"]\n",
    "for i in range(10):\n",
    "    plt.plot(roc_curvs[i][0],roc_curvs[i][1],label=\"curva \" + str(i) + \", auc=\" + str(roc_curvs[i][2]), c = cores[i])\n",
    "plt.legend(loc=4)\n",
    "plt.show()"
   ]
  },
  {
   "cell_type": "code",
   "execution_count": 15,
   "id": "72323fd7",
   "metadata": {},
   "outputs": [],
   "source": [
    "total_conv_matrix = [[0,0],[0,0]]\n",
    "for cov in confusion_matrixs:\n",
    "    total_conv_matrix[0][0] += cov[0][0] \n",
    "    total_conv_matrix[0][1] += cov[0][1]\n",
    "    total_conv_matrix[1][0] += cov[1][0]\n",
    "    total_conv_matrix[1][1] += cov[1][1]\n"
   ]
  },
  {
   "cell_type": "code",
   "execution_count": 16,
   "id": "cf93329b",
   "metadata": {},
   "outputs": [],
   "source": [
    "def plot_confusion_matrix(cm, classes, normaliza = False, title = \"Confusion matrix\", cmap = plt.cm.Blues):\n",
    "    plt.imshow(cm, interpolation='nearest', cmap=cmap)\n",
    "    plt.title(title)\n",
    "    plt.colorbar()\n",
    "    tick_marks = np.arange(len(classes))\n",
    "    plt.xticks(tick_marks, classes, rotation=45)\n",
    "    plt.yticks(tick_marks, classes)\n",
    "    if normaliza:\n",
    "        cm = cm.astype('float') / cm.sum(axis = 1)[:, np.newaxis]\n",
    "        print(\"Normalized confusion matrix\")\n",
    "    else:\n",
    "        print(\"Confusion matrix, without normalization\")\n",
    "    \n",
    "    print(cm)\n",
    "    \n",
    "    thresh = cm.max() / 2\n",
    "    for i, j in itertools.product(range(cm.shape[0]), range(cm.shape[1])):\n",
    "        plt.text(j, i, cm[i, j],\n",
    "        horizontalalignment=\"center\",\n",
    "        color=\"white\" if cm[i,j] > thresh else \"black\")\n",
    "    \n",
    "    plt.tight_layout()\n",
    "    plt.ylabel('True label')\n",
    "    plt.xlabel('Predicted label')"
   ]
  },
  {
   "cell_type": "code",
   "execution_count": 17,
   "id": "c4ec771b",
   "metadata": {},
   "outputs": [
    {
     "name": "stdout",
     "output_type": "stream",
     "text": [
      "Confusion matrix, without normalization\n",
      "[[987801    280]\n",
      " [    28  52471]]\n"
     ]
    },
    {
     "data": {
      "image/png": "[encoded data removed]",
      "text/plain": [
       "<Figure size 432x288 with 2 Axes>"
      ]
     },
     "metadata": {
      "needs_background": "light"
     },
     "output_type": "display_data"
    }
   ],
   "source": [
    "labels = [\"Benign\", \"Dos\"]\n",
    "plot_confusion_matrix(cm = np.array(total_conv_matrix), classes = labels, title = \"Dos IDS\")"
   ]
  }
 ],
 "metadata": {
  "kernelspec": {
   "display_name": "Python 3",
   "language": "python",
   "name": "python3"
  },
  "language_info": {
   "codemirror_mode": {
    "name": "ipython",
    "version": 3
   },
   "file_extension": ".py",
   "mimetype": "text/x-python",
   "name": "python",
   "nbconvert_exporter": "python",
   "pygments_lexer": "ipython3",
   "version": "3.8.6"
  }
 },
 "nbformat": 4,
 "nbformat_minor": 5
}
