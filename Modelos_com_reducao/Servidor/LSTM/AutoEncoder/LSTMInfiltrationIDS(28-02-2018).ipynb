{
 "cells": [
  {
   "cell_type": "code",
   "execution_count": 1,
   "id": "played-object",
   "metadata": {},
   "outputs": [],
   "source": [
    "import os\n",
    "import tensorflow as tf\n",
    "import numpy as np\n",
    "import gc\n",
    "import pandas as pd\n",
    "from datetime import datetime\n",
    "from sklearn.utils import shuffle\n",
    "from sklearn.preprocessing import StandardScaler\n",
    "from sklearn.preprocessing import MinMaxScaler\n",
    "from sklearn.model_selection import train_test_split\n",
    "from sklearn.model_selection import StratifiedKFold\n",
    "from sklearn.metrics import confusion_matrix\n",
    "from sklearn.metrics import roc_curve\n",
    "from sklearn.metrics import roc_auc_score\n",
    "from tensorflow import keras"
   ]
  },
  {
   "cell_type": "code",
   "execution_count": 2,
   "id": "93aa819c",
   "metadata": {},
   "outputs": [],
   "source": [
    "df = pd.read_csv(\"../Dataset/28-02-2018(Time).csv\", low_memory = False)"
   ]
  },
  {
   "cell_type": "code",
   "execution_count": 4,
   "id": "41910f93",
   "metadata": {},
   "outputs": [],
   "source": [
    "df = df.drop([0,1])"
   ]
  },
  {
   "cell_type": "code",
   "execution_count": null,
   "id": "747e46f2",
   "metadata": {},
   "outputs": [],
   "source": [
    "df['Timestamp']= pd.to_datetime(df['Timestamp'])"
   ]
  },
  {
   "cell_type": "code",
   "execution_count": null,
   "id": "4a53b912",
   "metadata": {},
   "outputs": [],
   "source": [
    "df = df.sort_values(by=['Timestamp'])"
   ]
  },
  {
   "cell_type": "code",
   "execution_count": null,
   "id": "c580a673",
   "metadata": {},
   "outputs": [],
   "source": [
    "df = df.drop(columns = ['Timestamp'])"
   ]
  },
  {
   "cell_type": "code",
   "execution_count": 5,
   "id": "identical-equality",
   "metadata": {},
   "outputs": [],
   "source": [
    "input_label = np.array(df.loc[:, df.columns != \"Label\"]).astype(np.float)"
   ]
  },
  {
   "cell_type": "code",
   "execution_count": 6,
   "id": "e44cb97e",
   "metadata": {},
   "outputs": [],
   "source": [
    "output_label = np.array(df[\"Label\"])"
   ]
  },
  {
   "cell_type": "code",
   "execution_count": 7,
   "id": "fc5abb49",
   "metadata": {},
   "outputs": [],
   "source": [
    "out = []\n",
    "for o in output_label:\n",
    "    if(o == \"Benign\"):out.append(0)\n",
    "    else: out.append(1)\n",
    "output_label = out"
   ]
  },
  {
   "cell_type": "code",
   "execution_count": 8,
   "id": "waiting-testing",
   "metadata": {},
   "outputs": [],
   "source": [
    "scaler = MinMaxScaler(feature_range=(0,1))\n",
    "scaler.fit(input_label)\n",
    "input_label = scaler.transform(input_label)"
   ]
  },
  {
   "cell_type": "markdown",
   "id": "77ae8a69",
   "metadata": {},
   "source": [
    "<h2>AutoEncoder</h2>"
   ]
  },
  {
   "cell_type": "code",
   "execution_count": 9,
   "id": "8c2794d8",
   "metadata": {},
   "outputs": [],
   "source": [
    "inp = shuffle(input_label)"
   ]
  },
  {
   "cell_type": "code",
   "execution_count": 10,
   "id": "9264b65c",
   "metadata": {},
   "outputs": [],
   "source": [
    "inp_train,inp_test,out_train,out_test = train_test_split(inp, inp, test_size=0.2)"
   ]
  },
  {
   "cell_type": "code",
   "execution_count": 11,
   "id": "9922d84b",
   "metadata": {},
   "outputs": [],
   "source": [
    "input_model = keras.layers.Input(shape = (78,))\n",
    "enc = keras.layers.Dense(units = 64, activation = \"relu\", use_bias = True)(input_model)\n",
    "enc = keras.layers.Dense(units = 36, activation = \"relu\", use_bias = True)(enc)\n",
    "enc = keras.layers.Dense(units = 18, activation = \"relu\")(enc)\n",
    "dec = keras.layers.Dense(units = 36, activation = \"relu\", use_bias = True)(enc)\n",
    "dec = keras.layers.Dense(units = 64, activation = \"relu\", use_bias = True)(dec)\n",
    "dec = keras.layers.Dense(units = 78, activation = \"relu\", use_bias = True)(dec)\n",
    "auto_encoder = keras.Model(input_model, dec)"
   ]
  },
  {
   "cell_type": "code",
   "execution_count": 12,
   "id": "fdf4d2c9",
   "metadata": {},
   "outputs": [],
   "source": [
    "encoder = keras.Model(input_model, enc)\n",
    "decoder_input = keras.layers.Input(shape = (18,))\n",
    "decoder_layer = auto_encoder.layers[-3](decoder_input)\n",
    "decoder_layer = auto_encoder.layers[-2](decoder_layer)\n",
    "decoder_layer = auto_encoder.layers[-1](decoder_layer)\n",
    "decoder = keras.Model(decoder_input, decoder_layer)"
   ]
  },
  {
   "cell_type": "code",
   "execution_count": 13,
   "id": "8083ca95",
   "metadata": {},
   "outputs": [],
   "source": [
    "auto_encoder.compile(optimizer=keras.optimizers.Adam(lr=0.00025), loss = \"mean_squared_error\", metrics = ['accuracy'])"
   ]
  },
  {
   "cell_type": "code",
   "execution_count": 14,
   "id": "e68f3f0e",
   "metadata": {},
   "outputs": [
    {
     "name": "stdout",
     "output_type": "stream",
     "text": [
      "Epoch 1/10\n",
      "23502/23502 [==============================] - 30s 1ms/step - loss: 0.0159 - accuracy: 0.3499 - val_loss: 0.0145 - val_accuracy: 0.3834\n",
      "Epoch 2/10\n",
      "23502/23502 [==============================] - 26s 1ms/step - loss: 0.0145 - accuracy: 0.3671 - val_loss: 0.0145 - val_accuracy: 0.3553\n",
      "Epoch 3/10\n",
      "23502/23502 [==============================] - 24s 1ms/step - loss: 0.0145 - accuracy: 0.3708 - val_loss: 0.0145 - val_accuracy: 0.3774\n",
      "Epoch 4/10\n",
      "23502/23502 [==============================] - 24s 1ms/step - loss: 0.0145 - accuracy: 0.3707 - val_loss: 0.0145 - val_accuracy: 0.3605\n",
      "Epoch 5/10\n",
      "23502/23502 [==============================] - 24s 1ms/step - loss: 0.0145 - accuracy: 0.3718 - val_loss: 0.0145 - val_accuracy: 0.3684\n",
      "Epoch 6/10\n",
      "23502/23502 [==============================] - 24s 1ms/step - loss: 0.0145 - accuracy: 0.3720 - val_loss: 0.0145 - val_accuracy: 0.3904\n",
      "Epoch 7/10\n",
      "23502/23502 [==============================] - 24s 1ms/step - loss: 0.0145 - accuracy: 0.3734 - val_loss: 0.0145 - val_accuracy: 0.3942\n",
      "Epoch 8/10\n",
      "23502/23502 [==============================] - 24s 1ms/step - loss: 0.0145 - accuracy: 0.3707 - val_loss: 0.0145 - val_accuracy: 0.3580\n",
      "Epoch 9/10\n",
      "23502/23502 [==============================] - 25s 1ms/step - loss: 0.0145 - accuracy: 0.3723 - val_loss: 0.0145 - val_accuracy: 0.3864\n",
      "Epoch 10/10\n",
      "23502/23502 [==============================] - 26s 1ms/step - loss: 0.0145 - accuracy: 0.3730 - val_loss: 0.0145 - val_accuracy: 0.3940\n"
     ]
    }
   ],
   "source": [
    "train = auto_encoder.fit(x = np.array(inp_train), y = np.array(out_train),validation_split= 0.1, epochs = 10, verbose = 2, shuffle = True)"
   ]
  },
  {
   "cell_type": "markdown",
   "id": "e1f1ce7f",
   "metadata": {},
   "source": [
    "<h2>cross validation</h2>"
   ]
  },
  {
   "cell_type": "code",
   "execution_count": 18,
   "id": "ffc4e7b1",
   "metadata": {},
   "outputs": [],
   "source": [
    "input_label = encoder.predict(input_label)"
   ]
  },
  {
   "cell_type": "code",
   "execution_count": 19,
   "id": "2ba2a04c",
   "metadata": {},
   "outputs": [],
   "source": [
    "inp = []\n",
    "out = []\n",
    "num = 0\n",
    "for i in range(len(input_label) - 20 + 1):\n",
    "    aux = []\n",
    "    for j in range(i, i + 20):\n",
    "        aux.append(input_label[j])\n",
    "    inp.append(aux)\n",
    "    out.append(output_label[i + 20 - 1])"
   ]
  },
  {
   "cell_type": "code",
   "execution_count": 20,
   "id": "3dfb90af",
   "metadata": {},
   "outputs": [],
   "source": [
    "input_label = np.array(inp)\n",
    "output_label = np.array(out)"
   ]
  },
  {
   "cell_type": "code",
   "execution_count": 21,
   "id": "991670e6",
   "metadata": {},
   "outputs": [
    {
     "data": {
      "text/plain": [
       "30"
      ]
     },
     "execution_count": 21,
     "metadata": {},
     "output_type": "execute_result"
    }
   ],
   "source": [
    "inp = None\n",
    "out = None\n",
    "gc.collect()"
   ]
  },
  {
   "cell_type": "code",
   "execution_count": 22,
   "id": "0ca35966",
   "metadata": {},
   "outputs": [],
   "source": [
    "def createModel():\n",
    "    model = keras.Sequential([\n",
    "        keras.layers.Input(shape = (20,18)),\n",
    "        keras.layers.LSTM(units = 16, return_sequences = True, use_bias = True),\n",
    "        keras.layers.LSTM(units = 8, return_sequences = False, use_bias = True),\n",
    "        keras.layers.Dense(units = 2, activation = \"softmax\")\n",
    "    ])\n",
    "    model.compile(optimizer= keras.optimizers.Adam(lr= 0.00025), loss=\"sparse_categorical_crossentropy\", metrics=['accuracy'])\n",
    "    return model"
   ]
  },
  {
   "cell_type": "code",
   "execution_count": 23,
   "id": "1df82992",
   "metadata": {},
   "outputs": [],
   "source": [
    "skf = StratifiedKFold(n_splits = 10, shuffle = True, random_state=1)"
   ]
  },
  {
   "cell_type": "code",
   "execution_count": 24,
   "id": "2557424d",
   "metadata": {},
   "outputs": [],
   "source": [
    "confusion_matrixs = []\n",
    "roc_curvs = []"
   ]
  },
  {
   "cell_type": "code",
   "execution_count": null,
   "id": "879f10c5",
   "metadata": {},
   "outputs": [
    {
     "name": "stdout",
     "output_type": "stream",
     "text": [
      "Epoch 1/10\n",
      " 7246/26440 [=======>......................] - ETA: 3:29 - loss: 0.1147 - accuracy: 0.9618"
     ]
    }
   ],
   "source": [
    "for i, (train, test) in enumerate(skf.split(input_label, output_label)):\n",
    "    print(\"Modelo \" + str(i))\n",
    "    inp_train, out_train = np.array(input_label)[train], np.array(output_label)[train]\n",
    "    inp_test, out_test = np.array(input_label)[test], np.array(output_label)[test]\n",
    "    model = createModel()\n",
    "    model.fit(x = inp_train, y = out_train, validation_split= 0.1, epochs = 10, shuffle = True,verbose = 2)\n",
    "    res = np.array([np.argmax(resu) for resu in model.predict(inp_test)])\n",
    "    confusion_matrixs.append(confusion_matrix(out_test, res))\n",
    "    fpr, tpr, _ = roc_curve(out_test,  res)\n",
    "    auc = roc_auc_score(out_test, res)\n",
    "    roc_curvs.append([fpr, tpr, auc])\n",
    "    print(\"\\n\\n\")"
   ]
  },
  {
   "cell_type": "markdown",
   "id": "c590ac24",
   "metadata": {},
   "source": [
    "<h2>Roc Curves</h2>"
   ]
  },
  {
   "cell_type": "code",
   "execution_count": null,
   "id": "bf7ba52f",
   "metadata": {},
   "outputs": [],
   "source": [
    "for i in range(10):\n",
    "    print(\"------------------------------------\")\n",
    "    print(\"Modelo \" + str(i))\n",
    "    print(roc_curvs[i])\n",
    "    print(confusion_matrixs[i])\n",
    "    print(\"------------------------------------\")"
   ]
  }
 ],
 "metadata": {
  "kernelspec": {
   "display_name": "Python 3",
   "language": "python",
   "name": "python3"
  },
  "language_info": {
   "codemirror_mode": {
    "name": "ipython",
    "version": 3
   },
   "file_extension": ".py",
   "mimetype": "text/x-python",
   "name": "python",
   "nbconvert_exporter": "python",
   "pygments_lexer": "ipython3",
   "version": "3.8.9"
  }
 },
 "nbformat": 4,
 "nbformat_minor": 5
}
