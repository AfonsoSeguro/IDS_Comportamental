{
 "cells": [
  {
   "cell_type": "code",
   "execution_count": 1,
   "id": "8e0e6c32",
   "metadata": {},
   "outputs": [],
   "source": [
    "import numpy as np\n",
    "import itertools\n",
    "import matplotlib.pyplot as plt"
   ]
  },
  {
   "cell_type": "code",
   "execution_count": 7,
   "id": "1d822073",
   "metadata": {},
   "outputs": [],
   "source": [
    "fpr = np.array([0.        , 0.02756924, 1.])\n",
    "tpr = np.array([0.        , 0.21599394, 1.])\n",
    "auc = 0.5942123494200624\n",
    "matrix = np.array([[22927, 650],[7245, 1996]])"
   ]
  },
  {
   "cell_type": "markdown",
   "id": "dd43426d",
   "metadata": {},
   "source": [
    "## Roc Curve"
   ]
  },
  {
   "cell_type": "code",
   "execution_count": 3,
   "id": "5ab433dd",
   "metadata": {},
   "outputs": [
    {
     "data": {
      "image/png": "[encoded data removed]",
      "text/plain": [
       "<Figure size 432x288 with 1 Axes>"
      ]
     },
     "metadata": {
      "needs_background": "light"
     },
     "output_type": "display_data"
    }
   ],
   "source": [
    "plt.plot(fpr,tpr,label=\"auc=\" + str(auc))\n",
    "plt.xlabel(\"False positive rate\")\n",
    "plt.ylabel(\"True positive rate\")\n",
    "plt.legend(loc=4)\n",
    "plt.show()"
   ]
  },
  {
   "cell_type": "markdown",
   "id": "00ef948f",
   "metadata": {},
   "source": [
    "## Confusion Matrix"
   ]
  },
  {
   "cell_type": "code",
   "execution_count": 4,
   "id": "9900872f",
   "metadata": {},
   "outputs": [],
   "source": [
    "def plot_confusion_matrix(cm, classes, normaliza = False, title = \"Confusion matrix\", cmap = plt.cm.Blues):\n",
    "    plt.imshow(cm, interpolation='nearest', cmap=cmap)\n",
    "    plt.title(title)\n",
    "    plt.colorbar()\n",
    "    tick_marks = np.arange(len(classes))\n",
    "    plt.xticks(tick_marks, classes, rotation=45)\n",
    "    plt.yticks(tick_marks, classes)\n",
    "    if normaliza:\n",
    "        cm = cm.astype('float') / cm.sum(axis = 1)[:, np.newaxis]\n",
    "        print(\"Normalized confusion matrix\")\n",
    "    else:\n",
    "        print(\"Confusion matrix, without normalization\")\n",
    "    \n",
    "    print(cm)\n",
    "    \n",
    "    thresh = cm.max() / 2\n",
    "    for i, j in itertools.product(range(cm.shape[0]), range(cm.shape[1])):\n",
    "        plt.text(j, i, cm[i, j],\n",
    "        horizontalalignment=\"center\",\n",
    "        color=\"white\" if cm[i,j] > thresh else \"black\")\n",
    "    \n",
    "    plt.tight_layout()\n",
    "    plt.ylabel('True label')\n",
    "    plt.xlabel('Predicted label')"
   ]
  },
  {
   "cell_type": "code",
   "execution_count": 8,
   "id": "ce7c3ae1",
   "metadata": {},
   "outputs": [
    {
     "name": "stdout",
     "output_type": "stream",
     "text": [
      "Confusion matrix, without normalization\n",
      "[[22927   650]\n",
      " [ 7245  1996]]\n"
     ]
    },
    {
     "data": {
      "image/png": "[encoded data removed]",
      "text/plain": [
       "<Figure size 432x288 with 2 Axes>"
      ]
     },
     "metadata": {
      "needs_background": "light"
     },
     "output_type": "display_data"
    }
   ],
   "source": [
    "plot_confusion_matrix(cm = matrix, classes = [\"Benign\", \"Malign\"], title = \"IDS\")"
   ]
  },
  {
   "cell_type": "code",
   "execution_count": 6,
   "id": "c465efa5",
   "metadata": {},
   "outputs": [],
   "source": [
    "TP = matrix[1][1]\n",
    "FN = matrix[1][0]\n",
    "FP = matrix[0][1]\n",
    "TN = matrix[0][0]"
   ]
  },
  {
   "cell_type": "markdown",
   "id": "3dcf54c1",
   "metadata": {},
   "source": [
    "## Precision"
   ]
  },
  {
   "cell_type": "code",
   "execution_count": 7,
   "id": "432ce5bb",
   "metadata": {},
   "outputs": [
    {
     "name": "stdout",
     "output_type": "stream",
     "text": [
      "0.7543461829176115\n"
     ]
    }
   ],
   "source": [
    "print(TP/(TP + FP))"
   ]
  },
  {
   "cell_type": "markdown",
   "id": "675f9b3d",
   "metadata": {},
   "source": [
    "## Recall"
   ]
  },
  {
   "cell_type": "code",
   "execution_count": 8,
   "id": "4b361697",
   "metadata": {},
   "outputs": [
    {
     "name": "stdout",
     "output_type": "stream",
     "text": [
      "0.21599394004977815\n"
     ]
    }
   ],
   "source": [
    "print(TP/(TP + FN))"
   ]
  },
  {
   "cell_type": "markdown",
   "id": "fc0edc82",
   "metadata": {},
   "source": [
    "## False Alarm Rate"
   ]
  },
  {
   "cell_type": "code",
   "execution_count": 9,
   "id": "57ee08c2",
   "metadata": {},
   "outputs": [
    {
     "name": "stdout",
     "output_type": "stream",
     "text": [
      "0.027569241209653476\n"
     ]
    }
   ],
   "source": [
    "print(FP/(FP + TN))"
   ]
  },
  {
   "cell_type": "markdown",
   "id": "a9e2ed70",
   "metadata": {},
   "source": [
    "## True Negative Rate"
   ]
  },
  {
   "cell_type": "code",
   "execution_count": 10,
   "id": "482cd308",
   "metadata": {},
   "outputs": [
    {
     "name": "stdout",
     "output_type": "stream",
     "text": [
      "0.9724307587903466\n"
     ]
    }
   ],
   "source": [
    "print(TN/(TN + FP))"
   ]
  },
  {
   "cell_type": "markdown",
   "id": "e6ada773",
   "metadata": {},
   "source": [
    "## Accuracy"
   ]
  },
  {
   "cell_type": "code",
   "execution_count": 11,
   "id": "a6914ac8",
   "metadata": {},
   "outputs": [
    {
     "name": "stdout",
     "output_type": "stream",
     "text": [
      "0.759430800170638\n"
     ]
    }
   ],
   "source": [
    "print((TP+TN)/(TP+TN+FP+FN))"
   ]
  }
 ],
 "metadata": {
  "kernelspec": {
   "display_name": "Python 3",
   "language": "python",
   "name": "python3"
  },
  "language_info": {
   "codemirror_mode": {
    "name": "ipython",
    "version": 3
   },
   "file_extension": ".py",
   "mimetype": "text/x-python",
   "name": "python",
   "nbconvert_exporter": "python",
   "pygments_lexer": "ipython3",
   "version": "3.8.9"
  }
 },
 "nbformat": 4,
 "nbformat_minor": 5
}
