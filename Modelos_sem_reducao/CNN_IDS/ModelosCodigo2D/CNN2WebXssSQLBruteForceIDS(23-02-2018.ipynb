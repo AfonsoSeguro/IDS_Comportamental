{
 "cells": [
  {
   "cell_type": "code",
   "execution_count": 1,
   "id": "downtown-nebraska",
   "metadata": {},
   "outputs": [],
   "source": [
    "import os\n",
    "import tensorflow as tf\n",
    "import numpy as np\n",
    "import itertools\n",
    "import matplotlib.pyplot as plt\n",
    "import gc\n",
    "from datetime import datetime\n",
    "from sklearn.utils import shuffle\n",
    "from sklearn.preprocessing import StandardScaler\n",
    "from sklearn.preprocessing import MinMaxScaler\n",
    "from sklearn.model_selection import train_test_split\n",
    "from tensorflow import keras\n",
    "from tensorflow.keras import layers\n",
    "from sklearn.metrics import confusion_matrix"
   ]
  },
  {
   "cell_type": "code",
   "execution_count": 2,
   "id": "published-merchandise",
   "metadata": {},
   "outputs": [],
   "source": [
    "input_label = []\n",
    "output_label = []"
   ]
  },
  {
   "cell_type": "code",
   "execution_count": 3,
   "id": "fantastic-stone",
   "metadata": {},
   "outputs": [
    {
     "name": "stdout",
     "output_type": "stream",
     "text": [
      "566 1042301\n"
     ]
    }
   ],
   "source": [
    "a,b = 0,0\n",
    "\n",
    "ficheiro = open(\"..\\\\..\\\\Dataset\\\\23-02-2018.csv\", \"r\")\n",
    "\n",
    "ficheiro.readline()\n",
    "ficheiro.readline()\n",
    "ficheiro.readline()\n",
    "\n",
    "linha = ficheiro.readline()\n",
    "while(linha != \"\"):\n",
    "    linha = linha.split(\",\")\n",
    "    out = linha.pop(37)\n",
    "    if(out == \"Benign\"): \n",
    "        out = 0\n",
    "        b += 1\n",
    "    else: \n",
    "        out = 1\n",
    "        a += 1\n",
    "    output_label.append(out)\n",
    "    input_label.append(linha)\n",
    "    linha = ficheiro.readline()\n",
    "ficheiro.close()\n",
    "print(str(a) + \" \" + str(b))"
   ]
  },
  {
   "cell_type": "code",
   "execution_count": 4,
   "id": "decent-spice",
   "metadata": {},
   "outputs": [],
   "source": [
    "scaler = MinMaxScaler(feature_range=(0,1))\n",
    "scaler.fit(input_label)\n",
    "input_label = scaler.transform(input_label)"
   ]
  },
  {
   "cell_type": "code",
   "execution_count": 5,
   "id": "communist-trinidad",
   "metadata": {},
   "outputs": [],
   "source": [
    "input_label = np.array(input_label).reshape(len(input_label), 6, 13, 1)\n",
    "output_label = np.array(output_label)"
   ]
  },
  {
   "cell_type": "code",
   "execution_count": 6,
   "id": "mobile-crime",
   "metadata": {},
   "outputs": [],
   "source": [
    "input_label, output_label = shuffle(input_label, output_label)"
   ]
  },
  {
   "cell_type": "code",
   "execution_count": 7,
   "id": "close-comment",
   "metadata": {},
   "outputs": [],
   "source": [
    "inp_train, inp_test, out_train, out_test = train_test_split(input_label, output_label, test_size = 0.2)"
   ]
  },
  {
   "cell_type": "code",
   "execution_count": 8,
   "id": "maritime-mounting",
   "metadata": {},
   "outputs": [],
   "source": [
    "model = keras.Sequential([\n",
    "    layers.Conv2D(filters = 128, kernel_size = ((3,3)), input_shape=(6, 13, 1), padding = \"same\", activation = \"relu\", use_bias = True), \n",
    "    layers.MaxPool2D(pool_size=(3, 3), padding='same'),\n",
    "    layers.Conv2D(filters = 64, kernel_size = ((3,3)), padding = \"same\", activation = \"relu\", use_bias = True),\n",
    "    layers.MaxPool2D(pool_size=(3, 3), padding='same'),\n",
    "    layers.Conv2D(filters = 32, kernel_size = ((3,3)), padding = \"same\", activation = \"relu\", use_bias = True),\n",
    "    layers.MaxPool2D(pool_size=(3, 3), padding='same'),\n",
    "    layers.Flatten(),\n",
    "    layers.Dense(units = 2, activation = \"softmax\")\n",
    "])"
   ]
  },
  {
   "cell_type": "code",
   "execution_count": 9,
   "id": "complimentary-maker",
   "metadata": {},
   "outputs": [],
   "source": [
    "model.compile(optimizer= keras.optimizers.SGD(learning_rate= 0.08), loss=\"sparse_categorical_crossentropy\", metrics=['accuracy'])"
   ]
  },
  {
   "cell_type": "code",
   "execution_count": 10,
   "id": "sought-planet",
   "metadata": {},
   "outputs": [
    {
     "name": "stdout",
     "output_type": "stream",
     "text": [
      "Epoch 1/10\n",
      "23465/23465 [==============================] - 171s 7ms/step - loss: 0.0068 - accuracy: 0.9990 - val_loss: 0.0042 - val_accuracy: 0.9995\n",
      "Epoch 2/10\n",
      "23465/23465 [==============================] - 114s 5ms/step - loss: 0.0041 - accuracy: 0.9995 - val_loss: 0.0034 - val_accuracy: 0.9995\n",
      "Epoch 3/10\n",
      "23465/23465 [==============================] - 113s 5ms/step - loss: 0.0026 - accuracy: 0.9995 - val_loss: 0.0024 - val_accuracy: 0.9996\n",
      "Epoch 4/10\n",
      "23465/23465 [==============================] - 112s 5ms/step - loss: 0.0022 - accuracy: 0.9996 - val_loss: 0.0023 - val_accuracy: 0.9996\n",
      "Epoch 5/10\n",
      "23465/23465 [==============================] - 113s 5ms/step - loss: 0.0021 - accuracy: 0.9996 - val_loss: 0.0024 - val_accuracy: 0.9996\n",
      "Epoch 6/10\n",
      "23465/23465 [==============================] - 112s 5ms/step - loss: 0.0020 - accuracy: 0.9996 - val_loss: 0.0023 - val_accuracy: 0.9996\n",
      "Epoch 7/10\n",
      "23465/23465 [==============================] - 113s 5ms/step - loss: 0.0020 - accuracy: 0.9996 - val_loss: 0.0024 - val_accuracy: 0.9996\n",
      "Epoch 8/10\n",
      "23465/23465 [==============================] - 112s 5ms/step - loss: 0.0020 - accuracy: 0.9996 - val_loss: 0.0022 - val_accuracy: 0.9996\n",
      "Epoch 9/10\n",
      "23465/23465 [==============================] - 112s 5ms/step - loss: 0.0019 - accuracy: 0.9997 - val_loss: 0.0022 - val_accuracy: 0.9996\n",
      "Epoch 10/10\n",
      "23465/23465 [==============================] - 112s 5ms/step - loss: 0.0020 - accuracy: 0.9996 - val_loss: 0.0026 - val_accuracy: 0.9996\n"
     ]
    }
   ],
   "source": [
    "treino = model.fit(x = inp_train, y = out_train, validation_split= 0.1, epochs = 10, shuffle = True,verbose = 1)"
   ]
  },
  {
   "cell_type": "code",
   "execution_count": 11,
   "id": "danish-martial",
   "metadata": {},
   "outputs": [
    {
     "data": {
      "image/png": "[encoded data removed]",
      "text/plain": [
       "<Figure size 432x288 with 1 Axes>"
      ]
     },
     "metadata": {
      "needs_background": "light"
     },
     "output_type": "display_data"
    }
   ],
   "source": [
    "plt.plot(treino.history[\"loss\"])\n",
    "plt.show()"
   ]
  },
  {
   "cell_type": "code",
   "execution_count": 12,
   "id": "functional-retrieval",
   "metadata": {},
   "outputs": [
    {
     "data": {
      "image/png": "[encoded data removed]",
      "text/plain": [
       "<Figure size 432x288 with 1 Axes>"
      ]
     },
     "metadata": {
      "needs_background": "light"
     },
     "output_type": "display_data"
    }
   ],
   "source": [
    "plt.plot(treino.history[\"accuracy\"])\n",
    "plt.show()"
   ]
  },
  {
   "cell_type": "code",
   "execution_count": 13,
   "id": "7107c4f3",
   "metadata": {},
   "outputs": [],
   "source": [
    "model.save(\"CNN2WebXssSQLBruteForceNet(23-02-2018).h5\")"
   ]
  },
  {
   "cell_type": "code",
   "execution_count": 14,
   "id": "83d2c527",
   "metadata": {},
   "outputs": [],
   "source": [
    "res = [np.argmax(resu) for resu in model.predict(inp_test)]"
   ]
  },
  {
   "cell_type": "code",
   "execution_count": 15,
   "id": "795120da",
   "metadata": {},
   "outputs": [],
   "source": [
    "cm = confusion_matrix(y_true = out_test.reshape(len(out_test)), y_pred = np.array(res))"
   ]
  },
  {
   "cell_type": "code",
   "execution_count": 16,
   "id": "99df3e8a",
   "metadata": {},
   "outputs": [],
   "source": [
    "def plot_confusion_matrix(cm, classes, normaliza = False, title = \"Confusion matrix\", cmap = plt.cm.Blues):\n",
    "    plt.imshow(cm, interpolation='nearest', cmap=cmap)\n",
    "    plt.title(title)\n",
    "    plt.colorbar()\n",
    "    tick_marks = np.arange(len(classes))\n",
    "    plt.xticks(tick_marks, classes, rotation=45)\n",
    "    plt.yticks(tick_marks, classes)\n",
    "    if normaliza:\n",
    "        cm = cm.astype('float') / cm.sum(axis = 1)[:, np.newaxis]\n",
    "        print(\"Normalized confusion matrix\")\n",
    "    else:\n",
    "        print(\"Confusion matrix, without normalization\")\n",
    "    \n",
    "    print(cm)\n",
    "    \n",
    "    thresh = cm.max() / 2\n",
    "    for i, j in itertools.product(range(cm.shape[0]), range(cm.shape[1])):\n",
    "        plt.text(j, i, cm[i, j],\n",
    "        horizontalalignment=\"center\",\n",
    "        color=\"white\" if cm[i,j] > thresh else \"black\")\n",
    "    \n",
    "    plt.tight_layout()\n",
    "    plt.ylabel('True label')\n",
    "    plt.xlabel('Predicted label')"
   ]
  },
  {
   "cell_type": "code",
   "execution_count": 17,
   "id": "77e61996",
   "metadata": {},
   "outputs": [
    {
     "name": "stdout",
     "output_type": "stream",
     "text": [
      "Confusion matrix, without normalization\n",
      "[[208438      1]\n",
      " [    88     47]]\n"
     ]
    },
    {
     "data": {
      "image/png": "[encoded data removed]",
      "text/plain": [
       "<Figure size 432x288 with 2 Axes>"
      ]
     },
     "metadata": {
      "needs_background": "light"
     },
     "output_type": "display_data"
    }
   ],
   "source": [
    "labels = [\"Benign\", \"WebXssSQLBruteForce\"]\n",
    "plot_confusion_matrix(cm = cm, classes = labels, title = \"WebXssSQLBruteForce IDS\")"
   ]
  },
  {
   "cell_type": "code",
   "execution_count": null,
   "id": "51be232f",
   "metadata": {},
   "outputs": [],
   "source": []
  }
 ],
 "metadata": {
  "kernelspec": {
   "display_name": "Python 3",
   "language": "python",
   "name": "python3"
  },
  "language_info": {
   "codemirror_mode": {
    "name": "ipython",
    "version": 3
   },
   "file_extension": ".py",
   "mimetype": "text/x-python",
   "name": "python",
   "nbconvert_exporter": "python",
   "pygments_lexer": "ipython3",
   "version": "3.8.9"
  }
 },
 "nbformat": 4,
 "nbformat_minor": 5
}
