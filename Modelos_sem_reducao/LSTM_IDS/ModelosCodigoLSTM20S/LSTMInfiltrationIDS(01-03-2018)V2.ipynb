{
 "cells": [
  {
   "cell_type": "code",
   "execution_count": 1,
   "id": "invalid-cache",
   "metadata": {},
   "outputs": [],
   "source": [
    "import os\n",
    "import tensorflow as tf\n",
    "import numpy as np\n",
    "import itertools\n",
    "import matplotlib.pyplot as plt\n",
    "import gc\n",
    "from datetime import datetime\n",
    "from sklearn.utils import shuffle\n",
    "from sklearn.preprocessing import StandardScaler\n",
    "from sklearn.preprocessing import MinMaxScaler\n",
    "from sklearn.model_selection import train_test_split\n",
    "from tensorflow import keras\n",
    "from tensorflow.keras import layers\n",
    "from sklearn.metrics import confusion_matrix"
   ]
  },
  {
   "cell_type": "code",
   "execution_count": 2,
   "id": "similar-platform",
   "metadata": {},
   "outputs": [],
   "source": [
    "input_label = []\n",
    "output_label = []\n",
    "label = []"
   ]
  },
  {
   "cell_type": "code",
   "execution_count": 3,
   "id": "fifteen-editor",
   "metadata": {},
   "outputs": [],
   "source": [
    "ficheiro = open(\"..\\\\Dataset\\\\01-03-2018(Time).csv\", \"r\")\n",
    "\n",
    "ficheiro.readline()\n",
    "ficheiro.readline()\n",
    "ficheiro.readline()\n",
    "\n",
    "countLinha = 0\n",
    "linha = ficheiro.readline()\n",
    "while(linha != \"\"):\n",
    "#for i in range(10000):\n",
    "    linha = linha.split(\",\")\n",
    "    linha.append(datetime.strptime(linha.pop(21) + \"\", '%d/%m/%Y %H:%M:%S').time())\n",
    "    label.append(linha)\n",
    "    countLinha += 1\n",
    "    linha = ficheiro.readline()\n",
    "ficheiro.close()"
   ]
  },
  {
   "cell_type": "code",
   "execution_count": 4,
   "id": "regulated-rehabilitation",
   "metadata": {},
   "outputs": [],
   "source": [
    "label.sort(key = lambda array : array[len(array) - 1])"
   ]
  },
  {
   "cell_type": "code",
   "execution_count": 5,
   "id": "interpreted-iraqi",
   "metadata": {},
   "outputs": [
    {
     "name": "stdout",
     "output_type": "stream",
     "text": [
      "['0', '0', '0', '0', '0', '0', '1', '1', '0', '0', '0', '1', '0', '0', '0', '0', '0', '0', 'Benign', '3389', '6', '2230949', '8', '8', '1128', '1874', '661', '0', '141', '222.6233206', '1173', '0', '234.25', '398.9009007', '1345.6157', '7.171835842', '148729.9333', '240731.5528', '953185', '56', '2230949', '318707', '389336.5405', '1146707', '56', '2089736', '298533.7143', '293598.937', '953185', '154766', '172', '172', '3.585917921', '3.585917921', '0', '1173', '176.5882353', '309.101128', '95543.50735', '1', '187.625', '141', '234.25', '8', '1128', '8', '1874', '8192', '62872', '5', '20', '0', '0', '0', '0', '0', '0', '0', '0\\n', datetime.time(1, 0, 4)]\n"
     ]
    }
   ],
   "source": [
    "print(label[10])"
   ]
  },
  {
   "cell_type": "code",
   "execution_count": 6,
   "id": "welsh-learning",
   "metadata": {},
   "outputs": [],
   "source": [
    "for i in range(len(label)):\n",
    "    label[i].pop(len(label[i]) - 1)"
   ]
  },
  {
   "cell_type": "code",
   "execution_count": 7,
   "id": "casual-blowing",
   "metadata": {},
   "outputs": [],
   "source": [
    "b = 0\n",
    "a = 0\n",
    "for i in range(len(label)):\n",
    "    out = label[i].pop(18)\n",
    "    if(out == \"Benign\"):\n",
    "        out = 0\n",
    "        b += 1\n",
    "    else:\n",
    "        out = 1\n",
    "        a += 1\n",
    "    output_label.append(out)\n",
    "    input_label.append(label[i])"
   ]
  },
  {
   "cell_type": "code",
   "execution_count": 8,
   "id": "dense-taxation",
   "metadata": {},
   "outputs": [
    {
     "name": "stdout",
     "output_type": "stream",
     "text": [
      "92403 235778\n"
     ]
    }
   ],
   "source": [
    "print(str(a) + \" \" + str(b))"
   ]
  },
  {
   "cell_type": "code",
   "execution_count": 9,
   "id": "f0404b38",
   "metadata": {},
   "outputs": [],
   "source": [
    "scaler = MinMaxScaler(feature_range=(0,1))\n",
    "scaler.fit(input_label)\n",
    "input_label = scaler.transform(input_label)"
   ]
  },
  {
   "cell_type": "code",
   "execution_count": 10,
   "id": "971b4b72",
   "metadata": {},
   "outputs": [],
   "source": [
    "inp = []\n",
    "out = []\n",
    "num = 0\n",
    "for i in range(len(input_label) - 20 + 1):\n",
    "    aux = []\n",
    "    for j in range(i, i + 20):\n",
    "        aux.append(input_label[j])\n",
    "    inp.append(aux)\n",
    "    out.append(output_label[i + 20 - 1])"
   ]
  },
  {
   "cell_type": "code",
   "execution_count": 11,
   "id": "answering-column",
   "metadata": {},
   "outputs": [],
   "source": [
    "inp_train, inp_test, out_train, out_test = train_test_split(inp, out, test_size = 0.2, shuffle = False)"
   ]
  },
  {
   "cell_type": "code",
   "execution_count": 12,
   "id": "5d079c4c",
   "metadata": {},
   "outputs": [
    {
     "data": {
      "text/plain": [
       "30"
      ]
     },
     "execution_count": 12,
     "metadata": {},
     "output_type": "execute_result"
    }
   ],
   "source": [
    "input_labeL = []\n",
    "output_label = []\n",
    "inp = []\n",
    "out = []\n",
    "gc.collect()"
   ]
  },
  {
   "cell_type": "code",
   "execution_count": 13,
   "id": "cognitive-auditor",
   "metadata": {},
   "outputs": [],
   "source": [
    "inp_train = np.array(inp_train)#.reshape(len(inp_train), 78,1)\n",
    "out_train = np.array(out_train)#.reshape(len(out_train),1)\n",
    "inp_test = np.array(inp_test)#.reshape(len(inp_test), 78,1)\n",
    "out_test = np.array(out_test)#.reshape(len(out_test),1)"
   ]
  },
  {
   "cell_type": "code",
   "execution_count": 14,
   "id": "dirty-maple",
   "metadata": {},
   "outputs": [
    {
     "name": "stdout",
     "output_type": "stream",
     "text": [
      "(262529, 20, 78)\n"
     ]
    }
   ],
   "source": [
    "print(inp_train.shape)"
   ]
  },
  {
   "cell_type": "code",
   "execution_count": 15,
   "id": "progressive-challenge",
   "metadata": {},
   "outputs": [],
   "source": [
    "model = keras.Sequential([\n",
    "    layers.LSTM(units = 128, input_shape = (20, 78), return_sequences = True, use_bias = True),\n",
    "    layers.LSTM(units = 64, return_sequences = True, use_bias = True),\n",
    "    layers.LSTM(units = 32, return_sequences = False, use_bias = True),\n",
    "    layers.Dense(units = 2, activation = \"softmax\")\n",
    "])"
   ]
  },
  {
   "cell_type": "code",
   "execution_count": 16,
   "id": "quick-money",
   "metadata": {},
   "outputs": [],
   "source": [
    "model.compile(optimizer=keras.optimizers.SGD(learning_rate = 0.08), loss=\"sparse_categorical_crossentropy\", metrics=['accuracy'])"
   ]
  },
  {
   "cell_type": "code",
   "execution_count": 17,
   "id": "injured-identifier",
   "metadata": {},
   "outputs": [
    {
     "name": "stdout",
     "output_type": "stream",
     "text": [
      "Epoch 1/10\n",
      "7384/7384 [==============================] - 163s 21ms/step - loss: 0.5344 - accuracy: 0.7625 - val_loss: 0.8005 - val_accuracy: 0.5164\n",
      "Epoch 2/10\n",
      "7384/7384 [==============================] - 145s 20ms/step - loss: 0.5094 - accuracy: 0.7703 - val_loss: 0.6862 - val_accuracy: 0.5421\n",
      "Epoch 3/10\n",
      "7384/7384 [==============================] - 146s 20ms/step - loss: 0.5001 - accuracy: 0.7727 - val_loss: 0.6898 - val_accuracy: 0.5335\n",
      "Epoch 4/10\n",
      "7384/7384 [==============================] - 146s 20ms/step - loss: 0.4947 - accuracy: 0.7749 - val_loss: 0.7146 - val_accuracy: 0.5459\n",
      "Epoch 5/10\n",
      "7384/7384 [==============================] - 150s 20ms/step - loss: 0.4936 - accuracy: 0.7741 - val_loss: 0.7441 - val_accuracy: 0.5334\n",
      "Epoch 6/10\n",
      "7384/7384 [==============================] - 151s 20ms/step - loss: 0.4912 - accuracy: 0.7747 - val_loss: 0.6836 - val_accuracy: 0.5622\n",
      "Epoch 7/10\n",
      "7384/7384 [==============================] - 147s 20ms/step - loss: 0.4880 - accuracy: 0.7761 - val_loss: 0.7094 - val_accuracy: 0.5521\n",
      "Epoch 8/10\n",
      "7384/7384 [==============================] - 146s 20ms/step - loss: 0.4850 - accuracy: 0.7786 - val_loss: 0.6756 - val_accuracy: 0.5666\n",
      "Epoch 9/10\n",
      "7384/7384 [==============================] - 149s 20ms/step - loss: 0.4832 - accuracy: 0.7789 - val_loss: 0.6484 - val_accuracy: 0.5779\n",
      "Epoch 10/10\n",
      "7384/7384 [==============================] - 148s 20ms/step - loss: 0.4790 - accuracy: 0.7810 - val_loss: 0.7373 - val_accuracy: 0.5531\n"
     ]
    }
   ],
   "source": [
    "train = model.fit(x = inp_train, y = out_train, validation_split = 0.1, epochs= 10, verbose = 1)"
   ]
  },
  {
   "cell_type": "code",
   "execution_count": 18,
   "id": "naked-communications",
   "metadata": {},
   "outputs": [
    {
     "data": {
      "image/png": "[encoded data removed]",
      "text/plain": [
       "<Figure size 432x288 with 1 Axes>"
      ]
     },
     "metadata": {
      "needs_background": "light"
     },
     "output_type": "display_data"
    }
   ],
   "source": [
    "plt.plot(train.history[\"loss\"])\n",
    "plt.show()"
   ]
  },
  {
   "cell_type": "code",
   "execution_count": 19,
   "id": "bc860b00",
   "metadata": {},
   "outputs": [
    {
     "data": {
      "image/png": "[encoded data removed]",
      "text/plain": [
       "<Figure size 432x288 with 1 Axes>"
      ]
     },
     "metadata": {
      "needs_background": "light"
     },
     "output_type": "display_data"
    }
   ],
   "source": [
    "plt.plot(train.history[\"accuracy\"])\n",
    "plt.show()"
   ]
  },
  {
   "cell_type": "code",
   "execution_count": 20,
   "id": "virtual-alexander",
   "metadata": {},
   "outputs": [],
   "source": [
    "model.save(\"LSTMInfiltrationIDS(01-03-2018)V2.h5\")"
   ]
  },
  {
   "cell_type": "code",
   "execution_count": 21,
   "id": "opening-checklist",
   "metadata": {},
   "outputs": [],
   "source": [
    "res = [np.argmax(resu) for resu in model.predict(inp_test)]"
   ]
  },
  {
   "cell_type": "code",
   "execution_count": 22,
   "id": "supported-wrong",
   "metadata": {},
   "outputs": [],
   "source": [
    "cm = confusion_matrix(y_true = out_test.reshape(len(out_test)), y_pred = np.array(res))"
   ]
  },
  {
   "cell_type": "code",
   "execution_count": 23,
   "id": "broke-yugoslavia",
   "metadata": {},
   "outputs": [],
   "source": [
    "def plot_confusion_matrix(cm, classes, normaliza = False, title = \"Confusion matrix\", cmap = plt.cm.Blues):\n",
    "    plt.imshow(cm, interpolation='nearest', cmap=cmap)\n",
    "    plt.title(title)\n",
    "    plt.colorbar()\n",
    "    tick_marks = np.arange(len(classes))\n",
    "    plt.xticks(tick_marks, classes, rotation=45)\n",
    "    plt.yticks(tick_marks, classes)\n",
    "    if normaliza:\n",
    "        cm = cm.astype('float') / cm.sum(axis = 1)[:, np.newaxis]\n",
    "        print(\"Normalized confusion matrix\")\n",
    "    else:\n",
    "        print(\"Confusion matrix, without normalization\")\n",
    "    \n",
    "    print(cm)\n",
    "    \n",
    "    thresh = cm.max() / 2\n",
    "    for i, j in itertools.product(range(cm.shape[0]), range(cm.shape[1])):\n",
    "        plt.text(j, i, cm[i, j],\n",
    "        horizontalalignment=\"center\",\n",
    "        color=\"white\" if cm[i,j] > thresh else \"black\")\n",
    "    \n",
    "    plt.tight_layout()\n",
    "    plt.ylabel('True label')\n",
    "    plt.xlabel('Predicted label')"
   ]
  },
  {
   "cell_type": "code",
   "execution_count": 23,
   "id": "55164f79",
   "metadata": {},
   "outputs": [
    {
     "name": "stdout",
     "output_type": "stream",
     "text": [
      "Confusion matrix, without normalization\n",
      "[[53882  1101]\n",
      " [ 5676  4977]]\n"
     ]
    },
    {
     "data": {
      "image/png": "[encoded data removed]",
      "text/plain": [
       "<Figure size 432x288 with 2 Axes>"
      ]
     },
     "metadata": {
      "needs_background": "light"
     },
     "output_type": "display_data"
    }
   ],
   "source": [
    "labels = [\"Benign\", \"Infiltration\"]\n",
    "plot_confusion_matrix(cm = cm, classes = labels, title = \"Infiltration IDS\")"
   ]
  },
  {
   "cell_type": "code",
   "execution_count": 23,
   "id": "3c231a28",
   "metadata": {},
   "outputs": [
    {
     "name": "stdout",
     "output_type": "stream",
     "text": [
      "Confusion matrix, without normalization\n",
      "[[53735  1245]\n",
      " [ 5011  5642]]\n"
     ]
    },
    {
     "data": {
      "image/png": "[encoded data removed]",
      "text/plain": [
       "<Figure size 432x288 with 2 Axes>"
      ]
     },
     "metadata": {
      "needs_background": "light"
     },
     "output_type": "display_data"
    }
   ],
   "source": [
    "labels = [\"Benign\", \"Infiltration\"]\n",
    "plot_confusion_matrix(cm = cm, classes = labels, title = \"Infiltration IDS\")"
   ]
  },
  {
   "cell_type": "code",
   "execution_count": 23,
   "id": "bae6b46c",
   "metadata": {},
   "outputs": [
    {
     "name": "stdout",
     "output_type": "stream",
     "text": [
      "Confusion matrix, without normalization\n",
      "[[51065  3909]\n",
      " [ 4240  6413]]\n"
     ]
    },
    {
     "data": {
      "image/png": "[encoded data removed]",
      "text/plain": [
       "<Figure size 432x288 with 2 Axes>"
      ]
     },
     "metadata": {
      "needs_background": "light"
     },
     "output_type": "display_data"
    }
   ],
   "source": [
    "labels = [\"Benign\", \"Infiltration\"]\n",
    "plot_confusion_matrix(cm = cm, classes = labels, title = \"Infiltration IDS\")"
   ]
  },
  {
   "cell_type": "code",
   "execution_count": 24,
   "id": "df20297b",
   "metadata": {},
   "outputs": [
    {
     "name": "stdout",
     "output_type": "stream",
     "text": [
      "Confusion matrix, without normalization\n",
      "[[54406   574]\n",
      " [ 5348  5305]]\n"
     ]
    },
    {
     "data": {
      "image/png": "[encoded data removed]",
      "text/plain": [
       "<Figure size 432x288 with 2 Axes>"
      ]
     },
     "metadata": {
      "needs_background": "light"
     },
     "output_type": "display_data"
    }
   ],
   "source": [
    "labels = [\"Benign\", \"Infiltration\"]\n",
    "plot_confusion_matrix(cm = cm, classes = labels, title = \"Infiltration IDS\")"
   ]
  }
 ],
 "metadata": {
  "kernelspec": {
   "display_name": "Python 3",
   "language": "python",
   "name": "python3"
  },
  "language_info": {
   "codemirror_mode": {
    "name": "ipython",
    "version": 3
   },
   "file_extension": ".py",
   "mimetype": "text/x-python",
   "name": "python",
   "nbconvert_exporter": "python",
   "pygments_lexer": "ipython3",
   "version": "3.8.9"
  }
 },
 "nbformat": 4,
 "nbformat_minor": 5
}
