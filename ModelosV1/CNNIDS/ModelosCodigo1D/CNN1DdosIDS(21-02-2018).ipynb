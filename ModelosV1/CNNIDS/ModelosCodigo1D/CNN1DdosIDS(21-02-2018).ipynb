{
 "cells": [
  {
   "cell_type": "code",
   "execution_count": 1,
   "id": "played-object",
   "metadata": {},
   "outputs": [],
   "source": [
    "import os\n",
    "import tensorflow as tf\n",
    "import numpy as np\n",
    "import itertools\n",
    "import matplotlib.pyplot as plt\n",
    "import gc\n",
    "from datetime import datetime\n",
    "from sklearn.utils import shuffle\n",
    "from sklearn.preprocessing import StandardScaler\n",
    "from sklearn.preprocessing import MinMaxScaler\n",
    "from sklearn.model_selection import train_test_split\n",
    "from tensorflow import keras\n",
    "from tensorflow.keras import layers\n",
    "from sklearn.metrics import confusion_matrix"
   ]
  },
  {
   "cell_type": "code",
   "execution_count": 3,
   "id": "identical-equality",
   "metadata": {},
   "outputs": [],
   "source": [
    "input_label = []\n",
    "output_label = []"
   ]
  },
  {
   "cell_type": "code",
   "execution_count": 22,
   "id": "standard-estonia",
   "metadata": {},
   "outputs": [
    {
     "name": "stdout",
     "output_type": "stream",
     "text": [
      "687742 360833\n"
     ]
    }
   ],
   "source": [
    "a,b = 0,0\n",
    "\n",
    "ficheiro = open(\"..\\\\Dataset\\\\21-02-2018.csv\", \"r\")\n",
    "\n",
    "ficheiro.readline()\n",
    "ficheiro.readline()\n",
    "ficheiro.readline()\n",
    "\n",
    "linha = ficheiro.readline()\n",
    "while(linha != \"\"):\n",
    "    linha = linha.split(\",\")\n",
    "    out = linha.pop(37)\n",
    "    if(out == \"Benign\"): \n",
    "        out = 0\n",
    "        b += 1\n",
    "    else: \n",
    "        out = 1\n",
    "        a += 1\n",
    "    output_label.append(out)\n",
    "    input_label.append(linha)\n",
    "    linha = ficheiro.readline()\n",
    "    \n",
    "ficheiro.close()\n",
    "\n",
    "print(str(a) + \" \" + str(b))"
   ]
  },
  {
   "cell_type": "code",
   "execution_count": 23,
   "id": "waiting-testing",
   "metadata": {},
   "outputs": [],
   "source": [
    "scaler = MinMaxScaler(feature_range=(0,1))\n",
    "input_label = scaler.fit_transform(input_label)"
   ]
  },
  {
   "cell_type": "code",
   "execution_count": 25,
   "id": "improving-conclusion",
   "metadata": {},
   "outputs": [],
   "source": [
    "input_label = np.array(input_label).reshape(len(input_label), 78, 1)\n",
    "output_label = np.array(output_label)"
   ]
  },
  {
   "cell_type": "code",
   "execution_count": 26,
   "id": "proprietary-package",
   "metadata": {},
   "outputs": [],
   "source": [
    "input_label, output_label = shuffle(input_label, output_label)"
   ]
  },
  {
   "cell_type": "code",
   "execution_count": 27,
   "id": "random-state",
   "metadata": {},
   "outputs": [],
   "source": [
    "inp_train, inp_test, out_train, out_test = train_test_split(input_label, output_label, test_size = 0.2)"
   ]
  },
  {
   "cell_type": "code",
   "execution_count": 35,
   "id": "psychological-financing",
   "metadata": {},
   "outputs": [],
   "source": [
    "model = keras.Sequential([\n",
    "    layers.Conv1D(filters = 128, kernel_size = 3, input_shape = (78,1), padding = \"same\", activation = \"relu\", use_bias = True), \n",
    "    layers.MaxPool1D(),\n",
    "    layers.Conv1D(filters = 64, kernel_size = 3, padding = \"same\", activation = \"relu\", use_bias = True),\n",
    "    layers.MaxPool1D(),\n",
    "    layers.Conv1D(filters = 32, kernel_size = 3, padding = \"same\", activation = \"relu\", use_bias = True),\n",
    "    layers.MaxPool1D(),\n",
    "    layers.Flatten(),\n",
    "    layers.Dense(units = 2, activation = \"softmax\")\n",
    "])"
   ]
  },
  {
   "cell_type": "code",
   "execution_count": 36,
   "id": "registered-warrior",
   "metadata": {},
   "outputs": [],
   "source": [
    "model.compile(optimizer= keras.optimizers.SGD(learning_rate= 0.08), loss=\"sparse_categorical_crossentropy\", metrics=['accuracy'])"
   ]
  },
  {
   "cell_type": "code",
   "execution_count": 37,
   "id": "accepting-cabin",
   "metadata": {},
   "outputs": [
    {
     "name": "stdout",
     "output_type": "stream",
     "text": [
      "Epoch 1/10\n",
      "23593/23593 [==============================] - 164s 7ms/step - loss: 0.0122 - accuracy: 0.9959 - val_loss: 9.4374e-05 - val_accuracy: 1.0000\n",
      "Epoch 2/10\n",
      "23593/23593 [==============================] - 166s 7ms/step - loss: 1.3117e-04 - accuracy: 1.0000 - val_loss: 5.2824e-05 - val_accuracy: 1.0000\n",
      "Epoch 3/10\n",
      "23593/23593 [==============================] - 164s 7ms/step - loss: 6.5279e-05 - accuracy: 1.0000 - val_loss: 3.7382e-05 - val_accuracy: 1.0000\n",
      "Epoch 4/10\n",
      "23593/23593 [==============================] - 163s 7ms/step - loss: 5.8598e-05 - accuracy: 1.0000 - val_loss: 3.7242e-05 - val_accuracy: 1.0000\n",
      "Epoch 5/10\n",
      "23593/23593 [==============================] - 165s 7ms/step - loss: 3.9089e-05 - accuracy: 1.0000 - val_loss: 3.2168e-05 - val_accuracy: 1.0000\n",
      "Epoch 6/10\n",
      "23593/23593 [==============================] - 170s 7ms/step - loss: 3.7285e-05 - accuracy: 1.0000 - val_loss: 3.1822e-05 - val_accuracy: 1.0000\n",
      "Epoch 7/10\n",
      "23593/23593 [==============================] - 162s 7ms/step - loss: 2.5842e-05 - accuracy: 1.0000 - val_loss: 3.1186e-05 - val_accuracy: 1.0000\n",
      "Epoch 8/10\n",
      "23593/23593 [==============================] - 167s 7ms/step - loss: 2.2078e-05 - accuracy: 1.0000 - val_loss: 2.7386e-05 - val_accuracy: 1.0000\n",
      "Epoch 9/10\n",
      "23593/23593 [==============================] - 166s 7ms/step - loss: 3.5063e-05 - accuracy: 1.0000 - val_loss: 2.8694e-05 - val_accuracy: 1.0000\n",
      "Epoch 10/10\n",
      "23593/23593 [==============================] - 166s 7ms/step - loss: 2.2604e-05 - accuracy: 1.0000 - val_loss: 2.5417e-05 - val_accuracy: 1.0000\n"
     ]
    }
   ],
   "source": [
    "treino1 = model.fit(x = inp_train, y = out_train, validation_split= 0.1, epochs = 10, shuffle = True,verbose = 1)"
   ]
  },
  {
   "cell_type": "code",
   "execution_count": 38,
   "id": "biological-replication",
   "metadata": {},
   "outputs": [
    {
     "data": {
      "image/png": "[encoded data removed]",
      "text/plain": [
       "<Figure size 432x288 with 1 Axes>"
      ]
     },
     "metadata": {
      "needs_background": "light"
     },
     "output_type": "display_data"
    }
   ],
   "source": [
    "plt.plot(treino1.history[\"loss\"])\n",
    "plt.show()"
   ]
  },
  {
   "cell_type": "code",
   "execution_count": 39,
   "id": "pleased-murder",
   "metadata": {},
   "outputs": [
    {
     "data": {
      "image/png": "[encoded data removed]",
      "text/plain": [
       "<Figure size 432x288 with 1 Axes>"
      ]
     },
     "metadata": {
      "needs_background": "light"
     },
     "output_type": "display_data"
    }
   ],
   "source": [
    "plt.plot(treino1.history[\"accuracy\"])\n",
    "plt.show()"
   ]
  },
  {
   "cell_type": "code",
   "execution_count": 40,
   "id": "dff4c1fe",
   "metadata": {},
   "outputs": [],
   "source": [
    "model.save(\"CNN1DdosNet(21-02-2018).h5\")"
   ]
  },
  {
   "cell_type": "code",
   "execution_count": 41,
   "id": "006e9dd5",
   "metadata": {},
   "outputs": [],
   "source": [
    "res = [np.argmax(resu) for resu in model.predict(inp_test)]"
   ]
  },
  {
   "cell_type": "code",
   "execution_count": 42,
   "id": "5859639b",
   "metadata": {},
   "outputs": [],
   "source": [
    "cm = confusion_matrix(y_true = out_test.reshape(len(out_test)), y_pred = np.array(res))"
   ]
  },
  {
   "cell_type": "code",
   "execution_count": 43,
   "id": "57426530",
   "metadata": {},
   "outputs": [],
   "source": [
    "def plot_confusion_matrix(cm, classes, normaliza = False, title = \"Confusion matrix\", cmap = plt.cm.Blues):\n",
    "    plt.imshow(cm, interpolation='nearest', cmap=cmap)\n",
    "    plt.title(title)\n",
    "    plt.colorbar()\n",
    "    tick_marks = np.arange(len(classes))\n",
    "    plt.xticks(tick_marks, classes, rotation=45)\n",
    "    plt.yticks(tick_marks, classes)\n",
    "    if normaliza:\n",
    "        cm = cm.astype('float') / cm.sum(axis = 1)[:, np.newaxis]\n",
    "        print(\"Normalized confusion matrix\")\n",
    "    else:\n",
    "        print(\"Confusion matrix, without normalization\")\n",
    "    \n",
    "    print(cm)\n",
    "    \n",
    "    thresh = cm.max() / 2\n",
    "    for i, j in itertools.product(range(cm.shape[0]), range(cm.shape[1])):\n",
    "        plt.text(j, i, cm[i, j],\n",
    "        horizontalalignment=\"center\",\n",
    "        color=\"white\" if cm[i,j] > thresh else \"black\")\n",
    "    \n",
    "    plt.tight_layout()\n",
    "    plt.ylabel('True label')\n",
    "    plt.xlabel('Predicted label')"
   ]
  },
  {
   "cell_type": "code",
   "execution_count": 45,
   "id": "7980819e",
   "metadata": {},
   "outputs": [
    {
     "name": "stdout",
     "output_type": "stream",
     "text": [
      "Confusion matrix, without normalization\n",
      "[[ 72176      1]\n",
      " [     0 137538]]\n"
     ]
    },
    {
     "data": {
      "image/png": "[encoded data removed]",
      "text/plain": [
       "<Figure size 432x288 with 2 Axes>"
      ]
     },
     "metadata": {
      "needs_background": "light"
     },
     "output_type": "display_data"
    }
   ],
   "source": [
    "labels = [\"Benign\", \"DDos\"]\n",
    "plot_confusion_matrix(cm = cm, classes = labels, title = \"DDos IDS\")"
   ]
  },
  {
   "cell_type": "code",
   "execution_count": null,
   "id": "5dd16f6c",
   "metadata": {},
   "outputs": [],
   "source": []
  }
 ],
 "metadata": {
  "kernelspec": {
   "display_name": "Python 3",
   "language": "python",
   "name": "python3"
  },
  "language_info": {
   "codemirror_mode": {
    "name": "ipython",
    "version": 3
   },
   "file_extension": ".py",
   "mimetype": "text/x-python",
   "name": "python",
   "nbconvert_exporter": "python",
   "pygments_lexer": "ipython3",
   "version": "3.8.9"
  }
 },
 "nbformat": 4,
 "nbformat_minor": 5
}
