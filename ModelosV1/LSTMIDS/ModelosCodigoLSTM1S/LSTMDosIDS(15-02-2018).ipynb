{
 "cells": [
  {
   "cell_type": "code",
   "execution_count": 1,
   "id": "quiet-update",
   "metadata": {},
   "outputs": [],
   "source": [
    "import os\n",
    "import tensorflow as tf\n",
    "import numpy as np\n",
    "import matplotlib.pyplot as plt\n",
    "from datetime import datetime\n",
    "from sklearn.utils import shuffle\n",
    "from sklearn.preprocessing import MinMaxScaler\n",
    "from sklearn.model_selection import train_test_split\n",
    "from tensorflow import keras\n",
    "from tensorflow.keras import layers\n",
    "from PIL import Image"
   ]
  },
  {
   "cell_type": "code",
   "execution_count": 2,
   "id": "excited-boston",
   "metadata": {},
   "outputs": [],
   "source": [
    "input_label = []\n",
    "output_label = []\n",
    "label = []"
   ]
  },
  {
   "cell_type": "code",
   "execution_count": 3,
   "id": "greek-hollow",
   "metadata": {},
   "outputs": [],
   "source": [
    "ficheiro = open(\"..\\\\15-02-2018(Time).csv\", \"r\")\n",
    "\n",
    "ficheiro.readline()\n",
    "ficheiro.readline()\n",
    "ficheiro.readline()\n",
    "\n",
    "countLinha = 0\n",
    "linha = ficheiro.readline()\n",
    "while(linha != \"\"):\n",
    "#for i in range(10000):\n",
    "    linha = linha.split(\",\")\n",
    "    linha.append(datetime.strptime(linha.pop(len(linha) - 1) + \"\", '%d/%m/%Y %H:%M:%S\\n\\n').time())\n",
    "    label.append(linha)\n",
    "    countLinha += 1\n",
    "    linha = ficheiro.readline()\n",
    "ficheiro.close()"
   ]
  },
  {
   "cell_type": "code",
   "execution_count": 4,
   "id": "funky-length",
   "metadata": {},
   "outputs": [],
   "source": [
    "label.sort(key = lambda array : array[len(array) - 1])"
   ]
  },
  {
   "cell_type": "code",
   "execution_count": null,
   "id": "satellite-painting",
   "metadata": {},
   "outputs": [],
   "source": [
    "for i in label:\n",
    "    print(i[len(i) - 2])"
   ]
  },
  {
   "cell_type": "code",
   "execution_count": 5,
   "id": "practical-watch",
   "metadata": {},
   "outputs": [],
   "source": [
    "for i in range(len(label)):\n",
    "    label[i].pop(len(label[i]) - 1)"
   ]
  },
  {
   "cell_type": "code",
   "execution_count": 6,
   "id": "checked-mobility",
   "metadata": {},
   "outputs": [],
   "source": [
    "b = 0\n",
    "a = 0\n",
    "for i in range(len(label)):\n",
    "    out = label[i].pop(len(label[i]) - 1)\n",
    "    if(out == \"Benign\"):\n",
    "        out = 0\n",
    "        b += 1\n",
    "    else:\n",
    "        out = 1\n",
    "        a += 1\n",
    "    output_label.append(out)\n",
    "    input_label.append(label[i])"
   ]
  },
  {
   "cell_type": "code",
   "execution_count": 7,
   "id": "verbal-schema",
   "metadata": {},
   "outputs": [
    {
     "name": "stdout",
     "output_type": "stream",
     "text": [
      "52498 988050\n"
     ]
    }
   ],
   "source": [
    "print(str(a) + \" \" + str(b))"
   ]
  },
  {
   "cell_type": "code",
   "execution_count": 8,
   "id": "veterinary-there",
   "metadata": {},
   "outputs": [],
   "source": [
    "scaler = MinMaxScaler(feature_range=(0,1))\n",
    "scaler.fit(input_label)\n",
    "input_label = scaler.transform(input_label)"
   ]
  },
  {
   "cell_type": "code",
   "execution_count": 18,
   "id": "sixth-information",
   "metadata": {},
   "outputs": [],
   "source": [
    "inp_train = input_label[:int(len(input_label) * 0.8)]\n",
    "inp_test = input_label[int(len(input_label) * 0.8):]\n",
    "out_train = output_label[0:int(len(output_label) * 0.8)]\n",
    "out_test = output_label[int(len(output_label) * 0.8):]"
   ]
  },
  {
   "cell_type": "code",
   "execution_count": 9,
   "id": "thrown-remains",
   "metadata": {},
   "outputs": [],
   "source": [
    "inp_train, inp_test, out_train, out_test = train_test_split(input_label, output_label, test_size = 0.2, shuffle = False)"
   ]
  },
  {
   "cell_type": "code",
   "execution_count": 10,
   "id": "utility-stress",
   "metadata": {},
   "outputs": [],
   "source": [
    "inp_train = np.array(inp_train).reshape(len(inp_train), 78,1)\n",
    "out_train = np.array(out_train).reshape(len(out_train),1)\n",
    "inp_test = np.array(inp_test).reshape(len(inp_test), 78,1)\n",
    "out_test = np.array(out_test).reshape(len(out_test),1)"
   ]
  },
  {
   "cell_type": "code",
   "execution_count": 11,
   "id": "varied-copper",
   "metadata": {},
   "outputs": [],
   "source": [
    "model = keras.Sequential([\n",
    "    layers.LSTM(units = 32, input_shape = (78, 1), return_sequences = True, use_bias = True),\n",
    "    layers.LSTM(units = 16, return_sequences = True, use_bias = True),\n",
    "    layers.LSTM(units = 6, return_sequences = False, use_bias = True),\n",
    "    layers.Dense(units = 2, activation = \"softmax\")\n",
    "])"
   ]
  },
  {
   "cell_type": "code",
   "execution_count": 12,
   "id": "reported-ticket",
   "metadata": {},
   "outputs": [],
   "source": [
    "model.compile(optimizer=keras.optimizers.SGD(learning_rate = 0.08), loss=\"sparse_categorical_crossentropy\", metrics=['accuracy'])"
   ]
  },
  {
   "cell_type": "code",
   "execution_count": 13,
   "id": "recognized-locking",
   "metadata": {},
   "outputs": [
    {
     "name": "stdout",
     "output_type": "stream",
     "text": [
      "Epoch 1/5\n",
      "23413/23413 [==============================] - 1390s 59ms/step - loss: 0.2027 - accuracy: 0.9443 - val_loss: 0.1675 - val_accuracy: 0.9491\n",
      "Epoch 2/5\n",
      "23413/23413 [==============================] - 1382s 59ms/step - loss: 0.1689 - accuracy: 0.9508 - val_loss: 0.1467 - val_accuracy: 0.9724\n",
      "Epoch 3/5\n",
      "23413/23413 [==============================] - 1255s 54ms/step - loss: 0.0175 - accuracy: 0.9936 - val_loss: 0.1176 - val_accuracy: 0.9816\n",
      "Epoch 4/5\n",
      "23413/23413 [==============================] - 1368s 58ms/step - loss: 0.0040 - accuracy: 0.9988 - val_loss: 0.0908 - val_accuracy: 0.9839\n",
      "Epoch 5/5\n",
      "23413/23413 [==============================] - 1246s 53ms/step - loss: 0.0023 - accuracy: 0.9993 - val_loss: 0.1244 - val_accuracy: 0.9841\n"
     ]
    }
   ],
   "source": [
    "train = model.fit(x = inp_train, y = out_train, validation_split = 0.1, epochs= 5, verbose = 1)"
   ]
  },
  {
   "cell_type": "code",
   "execution_count": 14,
   "id": "imported-trigger",
   "metadata": {},
   "outputs": [
    {
     "data": {
      "image/png": "[encoded data removed]",
      "text/plain": [
       "<Figure size 432x288 with 1 Axes>"
      ]
     },
     "metadata": {
      "needs_background": "light"
     },
     "output_type": "display_data"
    }
   ],
   "source": [
    "plt.plot(train.history[\"loss\"])\n",
    "plt.show()"
   ]
  },
  {
   "cell_type": "code",
   "execution_count": 15,
   "id": "civilian-window",
   "metadata": {},
   "outputs": [
    {
     "data": {
      "image/png": "[encoded data removed]",
      "text/plain": [
       "<Figure size 432x288 with 1 Axes>"
      ]
     },
     "metadata": {
      "needs_background": "light"
     },
     "output_type": "display_data"
    }
   ],
   "source": [
    "plt.plot(train.history[\"accuracy\"])\n",
    "plt.show()"
   ]
  },
  {
   "cell_type": "code",
   "execution_count": 16,
   "id": "dense-puppy",
   "metadata": {},
   "outputs": [],
   "source": [
    "model.save(\"DosNet(15-02-2018).h5\")"
   ]
  },
  {
   "cell_type": "code",
   "execution_count": 17,
   "id": "conventional-moldova",
   "metadata": {},
   "outputs": [],
   "source": [
    "from sklearn.metrics import confusion_matrix\n",
    "import itertools\n",
    "import matplotlib.pyplot as plt"
   ]
  },
  {
   "cell_type": "code",
   "execution_count": 18,
   "id": "coral-making",
   "metadata": {},
   "outputs": [],
   "source": [
    "res = [np.argmax(resu) for resu in model.predict(inp_test)]"
   ]
  },
  {
   "cell_type": "code",
   "execution_count": 19,
   "id": "chief-butler",
   "metadata": {},
   "outputs": [],
   "source": [
    "cm = confusion_matrix(y_true = out_test.reshape(len(out_test)), y_pred = np.array(res))"
   ]
  },
  {
   "cell_type": "code",
   "execution_count": 20,
   "id": "coupled-process",
   "metadata": {},
   "outputs": [],
   "source": [
    "def plot_confusion_matrix(cm, classes, normaliza = False, title = \"Confusion matrix\", cmap = plt.cm.Blues):\n",
    "    plt.imshow(cm, interpolation='nearest', cmap=cmap)\n",
    "    plt.title(title)\n",
    "    plt.colorbar()\n",
    "    tick_marks = np.arange(len(classes))\n",
    "    plt.xticks(tick_marks, classes, rotation=45)\n",
    "    plt.yticks(tick_marks, classes)\n",
    "    if normaliza:\n",
    "        cm = cm.astype('float') / cm.sum(axis = 1)[:, np.newaxis]\n",
    "        print(\"Normalized confusion matrix\")\n",
    "    else:\n",
    "        print(\"Confusion matrix, without normalization\")\n",
    "    \n",
    "    print(cm)\n",
    "    \n",
    "    thresh = cm.max() / 2\n",
    "    for i, j in itertools.product(range(cm.shape[0]), range(cm.shape[1])):\n",
    "        plt.text(j, i, cm[i, j],\n",
    "        horizontalalignment=\"center\",\n",
    "        color=\"white\" if cm[i,j] > thresh else \"black\")\n",
    "    \n",
    "    plt.tight_layout()\n",
    "    plt.ylabel('True label')\n",
    "    plt.xlabel('Predicted label')"
   ]
  },
  {
   "cell_type": "code",
   "execution_count": 21,
   "id": "sufficient-carol",
   "metadata": {},
   "outputs": [
    {
     "name": "stdout",
     "output_type": "stream",
     "text": [
      "Confusion matrix, without normalization\n",
      "[[201344     14]\n",
      " [  2448   4304]]\n"
     ]
    },
    {
     "data": {
      "image/png": "[encoded data removed]",
      "text/plain": [
       "<Figure size 432x288 with 2 Axes>"
      ]
     },
     "metadata": {
      "needs_background": "light"
     },
     "output_type": "display_data"
    }
   ],
   "source": [
    "labels = [\"Benign\", \"Dos\"]\n",
    "plot_confusion_matrix(cm = cm, classes = labels, title = \"Dos IDS\")"
   ]
  },
  {
   "cell_type": "code",
   "execution_count": 22,
   "id": "british-interest",
   "metadata": {},
   "outputs": [
    {
     "name": "stdout",
     "output_type": "stream",
     "text": [
      "Confusion matrix, without normalization\n",
      "[[201344     14]\n",
      " [  2448   4304]]\n"
     ]
    },
    {
     "data": {
      "image/png": "[encoded data removed]",
      "text/plain": [
       "<Figure size 432x288 with 2 Axes>"
      ]
     },
     "metadata": {
      "needs_background": "light"
     },
     "output_type": "display_data"
    }
   ],
   "source": [
    "labels = [\"Benign\", \"Dos\"]\n",
    "plot_confusion_matrix(cm = cm, classes = labels, title = \"Dos IDS\")"
   ]
  },
  {
   "cell_type": "code",
   "execution_count": null,
   "id": "attractive-attention",
   "metadata": {},
   "outputs": [],
   "source": []
  }
 ],
 "metadata": {
  "kernelspec": {
   "display_name": "Python 3",
   "language": "python",
   "name": "python3"
  },
  "language_info": {
   "codemirror_mode": {
    "name": "ipython",
    "version": 3
   },
   "file_extension": ".py",
   "mimetype": "text/x-python",
   "name": "python",
   "nbconvert_exporter": "python",
   "pygments_lexer": "ipython3",
   "version": "3.8.8"
  }
 },
 "nbformat": 4,
 "nbformat_minor": 5
}
