{
 "cells": [
  {
   "cell_type": "code",
   "execution_count": 1,
   "id": "invalid-cache",
   "metadata": {},
   "outputs": [],
   "source": [
    "import os\n",
    "import tensorflow as tf\n",
    "import numpy as np\n",
    "import itertools\n",
    "import matplotlib.pyplot as plt\n",
    "from datetime import datetime\n",
    "from sklearn.utils import shuffle\n",
    "from sklearn.preprocessing import MinMaxScaler\n",
    "from sklearn.model_selection import train_test_split\n",
    "from tensorflow import keras\n",
    "from tensorflow.keras import layers\n",
    "from sklearn.metrics import confusion_matrix"
   ]
  },
  {
   "cell_type": "code",
   "execution_count": 2,
   "id": "similar-platform",
   "metadata": {},
   "outputs": [],
   "source": [
    "input_label = []\n",
    "output_label = []\n",
    "label = []"
   ]
  },
  {
   "cell_type": "code",
   "execution_count": 4,
   "id": "fifteen-editor",
   "metadata": {},
   "outputs": [],
   "source": [
    "ficheiro = open(\"..\\\\Dataset\\\\28-02-2018(Time).csv\", \"r\")\n",
    "\n",
    "ficheiro.readline()\n",
    "ficheiro.readline()\n",
    "ficheiro.readline()\n",
    "countLinha = 0\n",
    "linha = ficheiro.readline()\n",
    "while(linha != \"\"):\n",
    "#for i in range(10000):\n",
    "    linha = linha.split(\",\")\n",
    "    linha.append(datetime.strptime(linha.pop(21) + \"\", '%d/%m/%Y %H:%M:%S').time())\n",
    "    label.append(linha)\n",
    "    countLinha += 1\n",
    "    linha = ficheiro.readline()\n",
    "ficheiro.close()\n"
   ]
  },
  {
   "cell_type": "code",
   "execution_count": 5,
   "id": "sublime-dimension",
   "metadata": {},
   "outputs": [
    {
     "name": "stdout",
     "output_type": "stream",
     "text": [
      "['0', '0', '0', '0', '0', '0', '1', '1', '0', '0', '0', '1', '0', '0', '0', '0', '0', '0', 'Benign', '443', '6', '60971210', '13', '15', '339', '3264', '207', '0', '26.0769230769', '64.4792751439', '1460', '0', '217.6', '507.1374567117', '59.093463948', '0.4592331364', '2258192.96296296', '4221258.15627905', '10008522', '0', '60971210', '5080934.16666667', '5206600.43673163', '10077854', '139', '60901300', '4350092.85714286', '5147223.20403585', '10078748', '0', '272', '304', '0.2132153848', '0.2460177517', '0', '1460', '124.2413793103', '374.2599035022', '140070.475369458', '1', '128.6785714286', '26.0769230769', '217.6', '13', '339', '15', '3264', '8192', '48180', '8', '20', '99850.1666666667', '74094.4086916595', '251094', '69332', '10007229.1666667', '2471.4096719619', '10008522', '10002209\\n', datetime.time(8, 23, 19)]\n"
     ]
    }
   ],
   "source": [
    "print(label[32])"
   ]
  },
  {
   "cell_type": "code",
   "execution_count": 6,
   "id": "regulated-rehabilitation",
   "metadata": {},
   "outputs": [],
   "source": [
    "label.sort(key = lambda array : array[len(array) - 1])"
   ]
  },
  {
   "cell_type": "code",
   "execution_count": 7,
   "id": "welsh-learning",
   "metadata": {},
   "outputs": [],
   "source": [
    "for i in range(len(label)):\n",
    "    label[i].pop(len(label[i]) - 1)"
   ]
  },
  {
   "cell_type": "code",
   "execution_count": 8,
   "id": "casual-blowing",
   "metadata": {},
   "outputs": [],
   "source": [
    "b = 0\n",
    "a = 0\n",
    "for i in range(len(label)):\n",
    "    out = label[i].pop(18)\n",
    "    if(out == \"Benign\"):\n",
    "        out = 0\n",
    "        b += 1\n",
    "    else:\n",
    "        out = 1\n",
    "        a += 1\n",
    "    output_label.append(out)\n",
    "    input_label.append(label[i])"
   ]
  },
  {
   "cell_type": "code",
   "execution_count": 9,
   "id": "daily-romania",
   "metadata": {},
   "outputs": [
    {
     "name": "stdout",
     "output_type": "stream",
     "text": [
      "68236 538666\n"
     ]
    }
   ],
   "source": [
    "print(str(a) + \" \" + str(b))"
   ]
  },
  {
   "cell_type": "code",
   "execution_count": 10,
   "id": "everyday-updating",
   "metadata": {},
   "outputs": [],
   "source": [
    "scaler = MinMaxScaler(feature_range=(0,1))\n",
    "scaler.fit(input_label)\n",
    "input_label = scaler.transform(input_label)"
   ]
  },
  {
   "cell_type": "code",
   "execution_count": 11,
   "id": "temporal-feedback",
   "metadata": {},
   "outputs": [],
   "source": [
    "inp_train, inp_test, out_train, out_test = train_test_split(input_label, output_label, test_size = 0.2, shuffle = False)"
   ]
  },
  {
   "cell_type": "code",
   "execution_count": 12,
   "id": "northern-treasury",
   "metadata": {},
   "outputs": [
    {
     "name": "stdout",
     "output_type": "stream",
     "text": [
      "78\n"
     ]
    }
   ],
   "source": [
    "print(len(inp_train[0]))"
   ]
  },
  {
   "cell_type": "code",
   "execution_count": 13,
   "id": "cognitive-auditor",
   "metadata": {},
   "outputs": [],
   "source": [
    "inp_train = np.array(inp_train).reshape(len(inp_train), 78,1)\n",
    "out_train = np.array(out_train).reshape(len(out_train),1)\n",
    "inp_test = np.array(inp_test).reshape(len(inp_test), 78,1)\n",
    "out_test = np.array(out_test).reshape(len(out_test),1)"
   ]
  },
  {
   "cell_type": "code",
   "execution_count": 14,
   "id": "progressive-challenge",
   "metadata": {},
   "outputs": [],
   "source": [
    "model = keras.Sequential([\n",
    "    layers.LSTM(units = 32, input_shape = (78, 1), return_sequences = True, use_bias = True),\n",
    "    layers.LSTM(units = 16, return_sequences = True, use_bias = True),\n",
    "    layers.LSTM(units = 6, return_sequences = False, use_bias = True),\n",
    "    layers.Dense(units = 2, activation = \"softmax\")\n",
    "])"
   ]
  },
  {
   "cell_type": "code",
   "execution_count": 15,
   "id": "quick-money",
   "metadata": {},
   "outputs": [],
   "source": [
    "model.compile(optimizer=keras.optimizers.SGD(learning_rate = 0.08), loss=\"sparse_categorical_crossentropy\", metrics=['accuracy'])"
   ]
  },
  {
   "cell_type": "code",
   "execution_count": 16,
   "id": "injured-identifier",
   "metadata": {},
   "outputs": [
    {
     "name": "stdout",
     "output_type": "stream",
     "text": [
      "Epoch 1/5\n",
      "13656/13656 [==============================] - 764s 56ms/step - loss: 0.2265 - accuracy: 0.9409 - val_loss: 0.8263 - val_accuracy: 0.7242\n",
      "Epoch 2/5\n",
      "13656/13656 [==============================] - 795s 58ms/step - loss: 0.2245 - accuracy: 0.9410 - val_loss: 0.8553 - val_accuracy: 0.7242\n",
      "Epoch 3/5\n",
      "13656/13656 [==============================] - 801s 59ms/step - loss: 0.2224 - accuracy: 0.9417 - val_loss: 0.8056 - val_accuracy: 0.7242\n",
      "Epoch 4/5\n",
      "13656/13656 [==============================] - 801s 59ms/step - loss: 0.2242 - accuracy: 0.9410 - val_loss: 0.8111 - val_accuracy: 0.7242\n",
      "Epoch 5/5\n",
      "13656/13656 [==============================] - 804s 59ms/step - loss: 0.2268 - accuracy: 0.9401 - val_loss: 0.8557 - val_accuracy: 0.7242\n"
     ]
    }
   ],
   "source": [
    "train = model.fit(x = inp_train, y = out_train, validation_split = 0.1, validation_data=(inp_test, out_test), epochs= 5, verbose = 1)"
   ]
  },
  {
   "cell_type": "code",
   "execution_count": 17,
   "id": "naked-communications",
   "metadata": {},
   "outputs": [
    {
     "data": {
      "image/png": "[encoded data removed]",
      "text/plain": [
       "<Figure size 432x288 with 1 Axes>"
      ]
     },
     "metadata": {
      "needs_background": "light"
     },
     "output_type": "display_data"
    }
   ],
   "source": [
    "plt.plot(train.history[\"loss\"])\n",
    "plt.show()"
   ]
  },
  {
   "cell_type": "code",
   "execution_count": 17,
   "id": "animal-usage",
   "metadata": {},
   "outputs": [],
   "source": [
    "model.save(\"InfiltrationNet(28-02-2018).h5\")"
   ]
  },
  {
   "cell_type": "code",
   "execution_count": 18,
   "id": "premium-episode",
   "metadata": {},
   "outputs": [],
   "source": [
    "res = [np.argmax(resu) for resu in model.predict(inp_test)]"
   ]
  },
  {
   "cell_type": "code",
   "execution_count": 19,
   "id": "raised-smile",
   "metadata": {},
   "outputs": [],
   "source": [
    "cm = confusion_matrix(y_true = out_test.reshape(len(out_test)), y_pred = np.array(res))"
   ]
  },
  {
   "cell_type": "code",
   "execution_count": 20,
   "id": "higher-issue",
   "metadata": {},
   "outputs": [],
   "source": [
    "def plot_confusion_matrix(cm, classes, normaliza = False, title = \"Confusion matrix\", cmap = plt.cm.Blues):\n",
    "    plt.imshow(cm, interpolation='nearest', cmap=cmap)\n",
    "    plt.title(title)\n",
    "    plt.colorbar()\n",
    "    tick_marks = np.arange(len(classes))\n",
    "    plt.xticks(tick_marks, classes, rotation=45)\n",
    "    plt.yticks(tick_marks, classes)\n",
    "    if normaliza:\n",
    "        cm = cm.astype('float') / cm.sum(axis = 1)[:, np.newaxis]\n",
    "        print(\"Normalized confusion matrix\")\n",
    "    else:\n",
    "        print(\"Confusion matrix, without normalization\")\n",
    "    \n",
    "    print(cm)\n",
    "    \n",
    "    thresh = cm.max() / 2\n",
    "    for i, j in itertools.product(range(cm.shape[0]), range(cm.shape[1])):\n",
    "        plt.text(j, i, cm[i, j],\n",
    "        horizontalalignment=\"center\",\n",
    "        color=\"white\" if cm[i,j] > thresh else \"black\")\n",
    "    \n",
    "    plt.tight_layout()\n",
    "    plt.ylabel('True label')\n",
    "    plt.xlabel('Predicted label')"
   ]
  },
  {
   "cell_type": "code",
   "execution_count": 21,
   "id": "eligible-robin",
   "metadata": {},
   "outputs": [
    {
     "name": "stdout",
     "output_type": "stream",
     "text": [
      "Confusion matrix, without normalization\n",
      "[[92387     0]\n",
      " [28994     0]]\n"
     ]
    },
    {
     "data": {
      "image/png": "[encoded data removed]",
      "text/plain": [
       "<Figure size 432x288 with 2 Axes>"
      ]
     },
     "metadata": {
      "needs_background": "light"
     },
     "output_type": "display_data"
    }
   ],
   "source": [
    "labels = [\"Bening\", \"Infiltration\"]\n",
    "plot_confusion_matrix(cm = cm, classes = labels, title = \"Infiltration IDS\")"
   ]
  }
 ],
 "metadata": {
  "kernelspec": {
   "display_name": "Python 3",
   "language": "python",
   "name": "python3"
  },
  "language_info": {
   "codemirror_mode": {
    "name": "ipython",
    "version": 3
   },
   "file_extension": ".py",
   "mimetype": "text/x-python",
   "name": "python",
   "nbconvert_exporter": "python",
   "pygments_lexer": "ipython3",
   "version": "3.8.9"
  }
 },
 "nbformat": 4,
 "nbformat_minor": 5
}
