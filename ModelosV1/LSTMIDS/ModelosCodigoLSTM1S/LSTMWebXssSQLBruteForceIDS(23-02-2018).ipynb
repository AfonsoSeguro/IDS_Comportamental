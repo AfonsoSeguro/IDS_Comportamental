{
 "cells": [
  {
   "cell_type": "code",
   "execution_count": 1,
   "id": "correct-sigma",
   "metadata": {},
   "outputs": [],
   "source": [
    "import os\n",
    "import tensorflow as tf\n",
    "import numpy as np\n",
    "import itertools\n",
    "import matplotlib.pyplot as plt\n",
    "from datetime import datetime\n",
    "from sklearn.utils import shuffle\n",
    "from sklearn.preprocessing import MinMaxScaler\n",
    "from sklearn.model_selection import train_test_split\n",
    "from tensorflow import keras\n",
    "from tensorflow.keras import layers\n",
    "from sklearn.metrics import confusion_matrix"
   ]
  },
  {
   "cell_type": "code",
   "execution_count": 2,
   "id": "adapted-heater",
   "metadata": {},
   "outputs": [],
   "source": [
    "input_label = []\n",
    "output_label = []\n",
    "label = []"
   ]
  },
  {
   "cell_type": "code",
   "execution_count": 3,
   "id": "healthy-joyce",
   "metadata": {},
   "outputs": [],
   "source": [
    "ficheiro = open(\"..\\\\Dataset\\\\23-02-2018(Time).csv\", \"r\")\n",
    "\n",
    "ficheiro.readline()\n",
    "ficheiro.readline()\n",
    "ficheiro.readline()\n",
    "countLinha = 0\n",
    "linha = ficheiro.readline()\n",
    "while(linha != \"\"):\n",
    "    linha = linha.split(\",\")\n",
    "    linha.append(datetime.strptime(linha.pop(len(linha) - 1) + \"\", '%d/%m/%Y %H:%M:%S\\n\\n').time())\n",
    "    label.append(linha)\n",
    "    countLinha += 1\n",
    "    linha = ficheiro.readline()\n",
    "ficheiro.close()"
   ]
  },
  {
   "cell_type": "code",
   "execution_count": 4,
   "id": "resident-testimony",
   "metadata": {},
   "outputs": [],
   "source": [
    "label.sort(key = lambda array : array[len(array) - 1])"
   ]
  },
  {
   "cell_type": "code",
   "execution_count": 5,
   "id": "structural-electron",
   "metadata": {},
   "outputs": [],
   "source": [
    "for i in range(len(label)):\n",
    "    label[i].pop(len(label[i]) - 1)"
   ]
  },
  {
   "cell_type": "code",
   "execution_count": 6,
   "id": "available-aquatic",
   "metadata": {},
   "outputs": [
    {
     "name": "stdout",
     "output_type": "stream",
     "text": [
      "['3389.0', '6.0', '4056949.0', '14.0', '9.0', '1440.0', '1731.0', '725.0', '0.0', '102.8571428571', '191.1728405006', '1179.0', '0.0', '192.3333333333', '386.0744746807', '781.6218542555', '5.6692849725', '184406.772727273', '261925.184043247', '955268.0', '57.0', '4056949.0', '312073.0', '364224.22668598', '1280908.0', '19986.0', '3978758.0', '497344.75', '379149.926999767', '1079395.0', '62504.0', '0', '0', '0', '0', '292.0', '192.0', '3.4508691137', '2.2184158588', '0.0', '1179.0', '132.125', '274.2273434025', '75200.6358695652', '0', '0', '1', '1', '0', '0', '0', '1', '0.0', '137.8695652174', '102.8571428571', '192.3333333333', '0', '0', '0', '0', '0', '0', '14.0', '1440.0', '9.0', '1731.0', '8192.0', '62560.0', '7.0', '20.0', '0.0', '0.0', '0.0', '0.0', '0.0', '0.0', '0.0', '0.0', 'Benign']\n"
     ]
    }
   ],
   "source": [
    "print(label[10000])"
   ]
  },
  {
   "cell_type": "code",
   "execution_count": 7,
   "id": "worthy-precipitation",
   "metadata": {},
   "outputs": [
    {
     "name": "stdout",
     "output_type": "stream",
     "text": [
      "566 1042301\n"
     ]
    }
   ],
   "source": [
    "b = 0\n",
    "a = 0\n",
    "for i in range(len(label)):\n",
    "    out = label[i].pop(len(label[i]) - 1)\n",
    "    if(out == \"Benign\"):\n",
    "        out = 0\n",
    "        b += 1\n",
    "    else:\n",
    "        out = 1\n",
    "        a += 1\n",
    "    output_label.append(out)\n",
    "    input_label.append(label[i])\n",
    "    \n",
    "print(str(a) + \" \" + str(b))"
   ]
  },
  {
   "cell_type": "code",
   "execution_count": 9,
   "id": "found-destruction",
   "metadata": {},
   "outputs": [],
   "source": [
    "scaler = MinMaxScaler(feature_range=(0,1))\n",
    "scaler.fit(input_label)\n",
    "input_label = scaler.transform(input_label)"
   ]
  },
  {
   "cell_type": "code",
   "execution_count": 10,
   "id": "italic-ecuador",
   "metadata": {},
   "outputs": [],
   "source": [
    "inp_train, inp_test, out_train, out_test = train_test_split(input_label, output_label, test_size = 0.2, shuffle = False)"
   ]
  },
  {
   "cell_type": "code",
   "execution_count": 11,
   "id": "completed-event",
   "metadata": {},
   "outputs": [],
   "source": [
    "inp_train = np.array(inp_train).reshape(len(inp_train), 78,1)\n",
    "out_train = np.array(out_train).reshape(len(out_train),1)\n",
    "inp_test = np.array(inp_test).reshape(len(inp_test), 78,1)\n",
    "out_test = np.array(out_test).reshape(len(out_test),1)"
   ]
  },
  {
   "cell_type": "code",
   "execution_count": 12,
   "id": "intelligent-robertson",
   "metadata": {},
   "outputs": [],
   "source": [
    "model = keras.Sequential([\n",
    "    layers.LSTM(units = 32, input_shape = (78, 1), return_sequences = True, use_bias = True),\n",
    "    layers.LSTM(units = 16, return_sequences = True, use_bias = True),\n",
    "    layers.LSTM(units = 6, return_sequences = False, use_bias = True),\n",
    "    layers.Dense(units = 2, activation = \"softmax\")\n",
    "])"
   ]
  },
  {
   "cell_type": "code",
   "execution_count": 13,
   "id": "approximate-causing",
   "metadata": {},
   "outputs": [],
   "source": [
    "model.compile(optimizer=keras.optimizers.Adam(learning_rate = 0.0001), loss=\"sparse_categorical_crossentropy\", metrics=['accuracy'])"
   ]
  },
  {
   "cell_type": "code",
   "execution_count": 14,
   "id": "grand-pendant",
   "metadata": {
    "scrolled": true
   },
   "outputs": [
    {
     "name": "stdout",
     "output_type": "stream",
     "text": [
      "Epoch 1/5\n",
      "23465/23465 [==============================] - 1670s 71ms/step - loss: 0.0363 - accuracy: 0.9993 - val_loss: 0.0110 - val_accuracy: 0.9986\n",
      "Epoch 2/5\n",
      "23465/23465 [==============================] - 1604s 68ms/step - loss: 0.0051 - accuracy: 0.9994 - val_loss: 0.0111 - val_accuracy: 0.9986\n",
      "Epoch 3/5\n",
      "23465/23465 [==============================] - 1580s 67ms/step - loss: 0.0054 - accuracy: 0.9994 - val_loss: 0.0111 - val_accuracy: 0.9986\n",
      "Epoch 4/5\n",
      "23465/23465 [==============================] - 1363s 58ms/step - loss: 0.0051 - accuracy: 0.9994 - val_loss: 0.0110 - val_accuracy: 0.9986\n",
      "Epoch 5/5\n",
      "23465/23465 [==============================] - 1384s 59ms/step - loss: 0.0052 - accuracy: 0.9994 - val_loss: 0.0111 - val_accuracy: 0.9986\n"
     ]
    }
   ],
   "source": [
    "train = model.fit(x = inp_train, y = out_train, validation_split = 0.1, validation_data=(inp_test, out_test), epochs= 5, verbose = 1)"
   ]
  },
  {
   "cell_type": "code",
   "execution_count": 15,
   "id": "fleet-setup",
   "metadata": {},
   "outputs": [
    {
     "data": {
      "image/png": "[encoded data removed]",
      "text/plain": [
       "<Figure size 432x288 with 1 Axes>"
      ]
     },
     "metadata": {
      "needs_background": "light"
     },
     "output_type": "display_data"
    }
   ],
   "source": [
    "plt.plot(train.history[\"loss\"])\n",
    "plt.show()"
   ]
  },
  {
   "cell_type": "code",
   "execution_count": 16,
   "id": "hollywood-finish",
   "metadata": {},
   "outputs": [
    {
     "data": {
      "image/png": "[encoded data removed]",
      "text/plain": [
       "<Figure size 432x288 with 1 Axes>"
      ]
     },
     "metadata": {
      "needs_background": "light"
     },
     "output_type": "display_data"
    }
   ],
   "source": [
    "plt.plot(train.history[\"accuracy\"])\n",
    "plt.show()"
   ]
  },
  {
   "cell_type": "code",
   "execution_count": 17,
   "id": "written-magnitude",
   "metadata": {},
   "outputs": [],
   "source": [
    "result = model.predict(inp_test)"
   ]
  },
  {
   "cell_type": "code",
   "execution_count": 18,
   "id": "about-search",
   "metadata": {},
   "outputs": [],
   "source": [
    "model.save(\"WebXssSQLBruteForceNet(23-02-2018).h5\")"
   ]
  },
  {
   "cell_type": "code",
   "execution_count": 19,
   "id": "corporate-student",
   "metadata": {},
   "outputs": [],
   "source": [
    "res = [np.argmax(resu) for resu in result]"
   ]
  },
  {
   "cell_type": "code",
   "execution_count": 20,
   "id": "changed-bread",
   "metadata": {},
   "outputs": [],
   "source": [
    "cm = confusion_matrix(y_true = out_test.reshape(len(out_test)), y_pred = np.array(res))"
   ]
  },
  {
   "cell_type": "code",
   "execution_count": 21,
   "id": "dependent-devil",
   "metadata": {},
   "outputs": [],
   "source": [
    "def plot_confusion_matrix(cm, classes, normaliza = False, title = \"Confusion matrix\", cmap = plt.cm.Blues):\n",
    "    plt.imshow(cm, interpolation='nearest', cmap=cmap)\n",
    "    plt.title(title)\n",
    "    plt.colorbar()\n",
    "    tick_marks = np.arange(len(classes))\n",
    "    plt.xticks(tick_marks, classes, rotation=45)\n",
    "    plt.yticks(tick_marks, classes)\n",
    "    if normaliza:\n",
    "        cm = cm.astype('float') / cm.sum(axis = 1)[:, np.newaxis]\n",
    "        print(\"Normalized confusion matrix\")\n",
    "    else:\n",
    "        print(\"Confusion matrix, without normalization\")\n",
    "    \n",
    "    print(cm)\n",
    "    \n",
    "    thresh = cm.max() / 2\n",
    "    for i, j in itertools.product(range(cm.shape[0]), range(cm.shape[1])):\n",
    "        plt.text(j, i, cm[i, j],\n",
    "        horizontalalignment=\"center\",\n",
    "        color=\"white\" if cm[i,j] > thresh else \"black\")\n",
    "    \n",
    "    plt.tight_layout()\n",
    "    plt.ylabel('True label')\n",
    "    plt.xlabel('Predicted label')"
   ]
  },
  {
   "cell_type": "code",
   "execution_count": 23,
   "id": "nutritional-pizza",
   "metadata": {},
   "outputs": [
    {
     "name": "stdout",
     "output_type": "stream",
     "text": [
      "Confusion matrix, without normalization\n",
      "[[208574]]\n"
     ]
    },
    {
     "data": {
      "image/png": "[encoded data removed]",
      "text/plain": [
       "<Figure size 432x288 with 2 Axes>"
      ]
     },
     "metadata": {
      "needs_background": "light"
     },
     "output_type": "display_data"
    }
   ],
   "source": [
    "labels = [\"Bening\", \"BruteForce\"]\n",
    "plot_confusion_matrix(cm = cm, classes = labels, title = \"BruteForce IDS\")"
   ]
  },
  {
   "cell_type": "code",
   "execution_count": null,
   "id": "existing-berry",
   "metadata": {},
   "outputs": [],
   "source": []
  }
 ],
 "metadata": {
  "kernelspec": {
   "display_name": "Python 3",
   "language": "python",
   "name": "python3"
  },
  "language_info": {
   "codemirror_mode": {
    "name": "ipython",
    "version": 3
   },
   "file_extension": ".py",
   "mimetype": "text/x-python",
   "name": "python",
   "nbconvert_exporter": "python",
   "pygments_lexer": "ipython3",
   "version": "3.8.9"
  }
 },
 "nbformat": 4,
 "nbformat_minor": 5
}
