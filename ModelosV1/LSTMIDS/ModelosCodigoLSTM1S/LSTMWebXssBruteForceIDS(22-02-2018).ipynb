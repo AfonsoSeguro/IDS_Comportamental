{
 "cells": [
  {
   "cell_type": "code",
   "execution_count": 1,
   "id": "correct-sigma",
   "metadata": {},
   "outputs": [],
   "source": [
    "import os\n",
    "import tensorflow as tf\n",
    "import numpy as np\n",
    "import itertools\n",
    "import matplotlib.pyplot as plt\n",
    "from datetime import datetime\n",
    "from sklearn.utils import shuffle\n",
    "from sklearn.preprocessing import MinMaxScaler\n",
    "from sklearn.model_selection import train_test_split\n",
    "from tensorflow import keras\n",
    "from tensorflow.keras import layers\n",
    "from sklearn.metrics import confusion_matrix"
   ]
  },
  {
   "cell_type": "code",
   "execution_count": 6,
   "id": "adapted-heater",
   "metadata": {},
   "outputs": [],
   "source": [
    "input_label = []\n",
    "output_label = []\n",
    "label = []"
   ]
  },
  {
   "cell_type": "code",
   "execution_count": 7,
   "id": "healthy-joyce",
   "metadata": {},
   "outputs": [],
   "source": [
    "ficheiro = open(\"..\\\\22-02-2018(Time).csv\", \"r\")\n",
    "\n",
    "ficheiro.readline()\n",
    "ficheiro.readline()\n",
    "ficheiro.readline()\n",
    "countLinha = 0\n",
    "linha = ficheiro.readline()\n",
    "while(linha != \"\"):\n",
    "    linha = linha.split(\",\")\n",
    "    linha.append(datetime.strptime(linha.pop(len(linha) - 1) + \"\", '%d/%m/%Y %H:%M:%S\\n\\n').time())\n",
    "    label.append(linha)\n",
    "    countLinha += 1\n",
    "    linha = ficheiro.readline()\n",
    "ficheiro.close()"
   ]
  },
  {
   "cell_type": "code",
   "execution_count": 8,
   "id": "resident-testimony",
   "metadata": {},
   "outputs": [],
   "source": [
    "label.sort(key = lambda array : array[len(array) - 1])"
   ]
  },
  {
   "cell_type": "code",
   "execution_count": 9,
   "id": "structural-electron",
   "metadata": {},
   "outputs": [],
   "source": [
    "for i in range(len(label)):\n",
    "    label[i].pop(len(label[i]) - 1)"
   ]
  },
  {
   "cell_type": "code",
   "execution_count": 10,
   "id": "available-aquatic",
   "metadata": {},
   "outputs": [
    {
     "name": "stdout",
     "output_type": "stream",
     "text": [
      "['3389.0', '6.0', '4227719.0', '13.0', '9.0', '1438.0', '1731.0', '725.0', '0.0', '110.6153846154', '196.6369490803', '1179.0', '0.0', '192.3333333333', '386.0744746807', '749.5767812383', '5.2037517158', '201319.952380952', '262593.473161934', '953114.0', '72.0', '4227719.0', '352309.916666667', '330088.711252668', '1172843.0', '100181.0', '4107553.0', '513444.125', '362954.818729918', '1059932.0', '93751.0', '0', '0', '0', '0', '272.0', '192.0', '3.0749441957', '2.1288075201', '0.0', '1179.0', '137.7826086957', '278.9413357226', '77808.2687747036', '0', '0', '1', '1', '0', '0', '0', '1', '0.0', '144.0454545455', '110.6153846154', '192.3333333333', '0', '0', '0', '0', '0', '0', '13.0', '1438.0', '9.0', '1731.0', '8192.0', '62562.0', '7.0', '20.0', '0.0', '0.0', '0.0', '0.0', '0.0', '0.0', '0.0', '0.0', 'Benign']\n"
     ]
    }
   ],
   "source": [
    "print(label[10000])"
   ]
  },
  {
   "cell_type": "code",
   "execution_count": 11,
   "id": "worthy-precipitation",
   "metadata": {},
   "outputs": [
    {
     "name": "stdout",
     "output_type": "stream",
     "text": [
      "362 1042603\n"
     ]
    }
   ],
   "source": [
    "b = 0\n",
    "a = 0\n",
    "for i in range(len(label)):\n",
    "    out = label[i].pop(len(label[i]) - 1)\n",
    "    if(out == \"Benign\"):\n",
    "        out = 0\n",
    "        b += 1\n",
    "    else:\n",
    "        out = 1\n",
    "        a += 1\n",
    "    output_label.append(out)\n",
    "    input_label.append(label[i])\n",
    "    \n",
    "print(str(a) + \" \" + str(b))"
   ]
  },
  {
   "cell_type": "code",
   "execution_count": 12,
   "id": "found-destruction",
   "metadata": {},
   "outputs": [],
   "source": [
    "scaler = MinMaxScaler(feature_range=(0,1))\n",
    "scaler.fit(input_label)\n",
    "input_label = scaler.transform(input_label)"
   ]
  },
  {
   "cell_type": "code",
   "execution_count": 13,
   "id": "expressed-twenty",
   "metadata": {},
   "outputs": [],
   "source": [
    "inp_train, inp_test, out_train, out_test = train_test_split(input_label, output_label, test_size = 0.2, shuffle = False)"
   ]
  },
  {
   "cell_type": "code",
   "execution_count": 14,
   "id": "completed-event",
   "metadata": {},
   "outputs": [],
   "source": [
    "inp_train = np.array(inp_train).reshape(len(inp_train), 78,1)\n",
    "out_train = np.array(out_train).reshape(len(out_train),1)\n",
    "inp_test = np.array(inp_test).reshape(len(inp_test), 78,1)\n",
    "out_test = np.array(out_test).reshape(len(out_test),1)"
   ]
  },
  {
   "cell_type": "code",
   "execution_count": 15,
   "id": "intelligent-robertson",
   "metadata": {},
   "outputs": [],
   "source": [
    "model = keras.Sequential([\n",
    "    layers.LSTM(units = 32, input_shape = (78, 1), return_sequences = True, use_bias = True),\n",
    "    layers.LSTM(units = 16, return_sequences = True, use_bias = True),\n",
    "    layers.LSTM(units = 6, return_sequences = False, use_bias = True),\n",
    "    layers.Dense(units = 2, activation = \"softmax\")\n",
    "])"
   ]
  },
  {
   "cell_type": "code",
   "execution_count": 16,
   "id": "approximate-causing",
   "metadata": {},
   "outputs": [],
   "source": [
    "model.compile(optimizer=keras.optimizers.Adam(learning_rate = 0.0001), loss=\"sparse_categorical_crossentropy\", metrics=['accuracy'])"
   ]
  },
  {
   "cell_type": "code",
   "execution_count": 18,
   "id": "grand-pendant",
   "metadata": {},
   "outputs": [
    {
     "name": "stdout",
     "output_type": "stream",
     "text": [
      "23467/23467 [==============================] - 1366s 58ms/step - loss: 0.0031 - accuracy: 0.9997 - val_loss: 0.0100 - val_accuracy: 0.9988\n"
     ]
    }
   ],
   "source": [
    "train = model.fit(x = inp_train, y = out_train, validation_split = 0.1, validation_data=(inp_test, out_test), epochs= 1, verbose = 1)"
   ]
  },
  {
   "cell_type": "code",
   "execution_count": 19,
   "id": "fleet-setup",
   "metadata": {},
   "outputs": [
    {
     "data": {
      "image/png": "[encoded data removed]",
      "text/plain": [
       "<Figure size 432x288 with 1 Axes>"
      ]
     },
     "metadata": {
      "needs_background": "light"
     },
     "output_type": "display_data"
    }
   ],
   "source": [
    "plt.plot(train.history[\"loss\"])\n",
    "plt.show()"
   ]
  },
  {
   "cell_type": "code",
   "execution_count": 21,
   "id": "written-magnitude",
   "metadata": {},
   "outputs": [],
   "source": [
    "result = model.predict(inp_test)"
   ]
  },
  {
   "cell_type": "code",
   "execution_count": 20,
   "id": "about-search",
   "metadata": {},
   "outputs": [],
   "source": [
    "model.save(\"WebXssBruteForceNet.h5\")"
   ]
  },
  {
   "cell_type": "code",
   "execution_count": 22,
   "id": "corporate-student",
   "metadata": {},
   "outputs": [],
   "source": [
    "res = [np.argmax(resu) for resu in result]"
   ]
  },
  {
   "cell_type": "code",
   "execution_count": 23,
   "id": "changed-bread",
   "metadata": {},
   "outputs": [],
   "source": [
    "cm = confusion_matrix(y_true = out_test.reshape(len(out_test)), y_pred = np.array(res))"
   ]
  },
  {
   "cell_type": "code",
   "execution_count": 24,
   "id": "dependent-devil",
   "metadata": {},
   "outputs": [],
   "source": [
    "def plot_confusion_matrix(cm, classes, normaliza = False, title = \"Confusion matrix\", cmap = plt.cm.Blues):\n",
    "    plt.imshow(cm, interpolation='nearest', cmap=cmap)\n",
    "    plt.title(title)\n",
    "    plt.colorbar()\n",
    "    tick_marks = np.arange(len(classes))\n",
    "    plt.xticks(tick_marks, classes, rotation=45)\n",
    "    plt.yticks(tick_marks, classes)\n",
    "    if normaliza:\n",
    "        cm = cm.astype('float') / cm.sum(axis = 1)[:, np.newaxis]\n",
    "        print(\"Normalized confusion matrix\")\n",
    "    else:\n",
    "        print(\"Confusion matrix, without normalization\")\n",
    "    \n",
    "    print(cm)\n",
    "    \n",
    "    thresh = cm.max() / 2\n",
    "    for i, j in itertools.product(range(cm.shape[0]), range(cm.shape[1])):\n",
    "        plt.text(j, i, cm[i, j],\n",
    "        horizontalalignment=\"center\",\n",
    "        color=\"white\" if cm[i,j] > thresh else \"black\")\n",
    "    \n",
    "    plt.tight_layout()\n",
    "    plt.ylabel('True label')\n",
    "    plt.xlabel('Predicted label')"
   ]
  },
  {
   "cell_type": "code",
   "execution_count": 25,
   "id": "nutritional-pizza",
   "metadata": {},
   "outputs": [
    {
     "name": "stdout",
     "output_type": "stream",
     "text": [
      "Confusion matrix, without normalization\n",
      "[[208593]]\n"
     ]
    },
    {
     "data": {
      "image/png": "[encoded data removed]",
      "text/plain": [
       "<Figure size 432x288 with 2 Axes>"
      ]
     },
     "metadata": {
      "needs_background": "light"
     },
     "output_type": "display_data"
    }
   ],
   "source": [
    "labels = [\"Bening\", \"BruteForce\"]\n",
    "plot_confusion_matrix(cm = cm, classes = labels, title = \"Bot net IDS\")"
   ]
  },
  {
   "cell_type": "code",
   "execution_count": null,
   "id": "increasing-wilson",
   "metadata": {},
   "outputs": [],
   "source": []
  }
 ],
 "metadata": {
  "kernelspec": {
   "display_name": "Python 3",
   "language": "python",
   "name": "python3"
  },
  "language_info": {
   "codemirror_mode": {
    "name": "ipython",
    "version": 3
   },
   "file_extension": ".py",
   "mimetype": "text/x-python",
   "name": "python",
   "nbconvert_exporter": "python",
   "pygments_lexer": "ipython3",
   "version": "3.8.9"
  }
 },
 "nbformat": 4,
 "nbformat_minor": 5
}
