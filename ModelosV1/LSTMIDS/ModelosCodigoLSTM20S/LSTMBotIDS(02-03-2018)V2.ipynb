{
 "cells": [
  {
   "cell_type": "code",
   "execution_count": 19,
   "id": "invalid-cache",
   "metadata": {},
   "outputs": [],
   "source": [
    "import os\n",
    "import tensorflow as tf\n",
    "import numpy as np\n",
    "import itertools\n",
    "import matplotlib.pyplot as plt\n",
    "import gc\n",
    "from datetime import datetime\n",
    "from sklearn.utils import shuffle\n",
    "from sklearn.preprocessing import StandardScaler\n",
    "from sklearn.preprocessing import MinMaxScaler\n",
    "from sklearn.model_selection import train_test_split\n",
    "from tensorflow import keras\n",
    "from tensorflow.keras import layers\n",
    "from sklearn.metrics import confusion_matrix"
   ]
  },
  {
   "cell_type": "code",
   "execution_count": 2,
   "id": "similar-platform",
   "metadata": {},
   "outputs": [],
   "source": [
    "input_label = []\n",
    "output_label = []\n",
    "label = []"
   ]
  },
  {
   "cell_type": "code",
   "execution_count": 3,
   "id": "fifteen-editor",
   "metadata": {},
   "outputs": [],
   "source": [
    "ficheiro = open(\"..\\\\Dataset\\\\02-03-2018(Time).csv\", \"r\")\n",
    "\n",
    "ficheiro.readline()\n",
    "ficheiro.readline()\n",
    "ficheiro.readline()\n",
    "\n",
    "countLinha = 0\n",
    "linha = ficheiro.readline()\n",
    "while(linha != \"\"):\n",
    "    linha = linha.split(\",\")\n",
    "    linha.append(datetime.strptime(linha.pop(len(linha) - 1) + \"\", '%d/%m/%Y %H:%M:%S\\n\\n').time())\n",
    "    label.append(linha)\n",
    "    countLinha += 1\n",
    "    linha = ficheiro.readline()\n",
    "ficheiro.close()"
   ]
  },
  {
   "cell_type": "code",
   "execution_count": 4,
   "id": "regulated-rehabilitation",
   "metadata": {},
   "outputs": [],
   "source": [
    "label.sort(key = lambda array : array[len(array) - 1])"
   ]
  },
  {
   "cell_type": "code",
   "execution_count": 5,
   "id": "interpreted-iraqi",
   "metadata": {},
   "outputs": [
    {
     "name": "stdout",
     "output_type": "stream",
     "text": [
      "['8080.0', '0', '6.0', '0', '11013.0', '0', '3.0', '0', '4.0', '0', '326.0', '0', '129.0', '1', '326.0', '1', '0.0', '0', '108.6666667', '0', '188.2161878', '0', '112.0', '1', '0.0', '0', '32.25', '0', '53.7672453', '0', '41314.80977', '0', '635.612458', '0', '1835.5', '0', '4021.940067', 'Bot', '10036.0', '20.0', '565.0', '282.5', '325.9762261', '513.0', '52.0', '10520.0', '3506.666667', '5657.464656', '10036.0', '61.0', '72.0', '92.0', '272.4053391', '363.2071189', '0.0', '326.0', '56.875', '115.4066568', '13318.69643', '1.0', '65.0', '108.6666667', '32.25', '3.0', '326.0', '4.0', '129.0', '8192.0', '219.0', '1.0', '20.0', '0.0', '0.0', '0.0', '0.0', '0.0', '0.0', '0.0', '0.0', datetime.time(1, 0)]\n"
     ]
    }
   ],
   "source": [
    "print(label[10])"
   ]
  },
  {
   "cell_type": "code",
   "execution_count": 6,
   "id": "welsh-learning",
   "metadata": {},
   "outputs": [],
   "source": [
    "for i in range(len(label)):\n",
    "    label[i].pop(len(label[i]) - 1)"
   ]
  },
  {
   "cell_type": "code",
   "execution_count": 7,
   "id": "casual-blowing",
   "metadata": {},
   "outputs": [
    {
     "name": "stdout",
     "output_type": "stream",
     "text": [
      "286191 758334\n"
     ]
    }
   ],
   "source": [
    "b = 0\n",
    "a = 0\n",
    "for i in range(len(label)):\n",
    "    out = label[i].pop(37)\n",
    "    if(out == \"Benign\"):\n",
    "        out = 0\n",
    "        b += 1\n",
    "    else:\n",
    "        out = 1\n",
    "        a += 1\n",
    "    output_label.append(out)\n",
    "    input_label.append(label[i])\n",
    "    \n",
    "print(str(a) + \" \" + str(b))"
   ]
  },
  {
   "cell_type": "code",
   "execution_count": 8,
   "id": "dense-taxation",
   "metadata": {},
   "outputs": [
    {
     "name": "stdout",
     "output_type": "stream",
     "text": [
      "286191 758334\n"
     ]
    }
   ],
   "source": [
    "print(str(a) + \" \" + str(b))"
   ]
  },
  {
   "cell_type": "code",
   "execution_count": 9,
   "id": "f0404b38",
   "metadata": {},
   "outputs": [],
   "source": [
    "scaler = MinMaxScaler(feature_range=(0,1))\n",
    "scaler.fit(input_label)\n",
    "input_label = scaler.transform(input_label)"
   ]
  },
  {
   "cell_type": "code",
   "execution_count": 10,
   "id": "971b4b72",
   "metadata": {},
   "outputs": [],
   "source": [
    "inp = []\n",
    "out = []\n",
    "num = 0\n",
    "for i in range(len(input_label) - 20 + 1):\n",
    "    aux = []\n",
    "    for j in range(i, i + 20):\n",
    "        aux.append(input_label[j])\n",
    "    inp.append(aux)\n",
    "    out.append(output_label[i + 20 - 1])\n",
    "        "
   ]
  },
  {
   "cell_type": "code",
   "execution_count": 11,
   "id": "answering-column",
   "metadata": {},
   "outputs": [],
   "source": [
    "inp_train, inp_test, out_train, out_test = train_test_split(inp, out, test_size = 0.2, shuffle = False)"
   ]
  },
  {
   "cell_type": "code",
   "execution_count": 12,
   "id": "20fdbc7c",
   "metadata": {},
   "outputs": [
    {
     "data": {
      "text/plain": [
       "30"
      ]
     },
     "execution_count": 12,
     "metadata": {},
     "output_type": "execute_result"
    }
   ],
   "source": [
    "input_labeL = []\n",
    "output_label = []\n",
    "inp = []\n",
    "out = []\n",
    "gc.collect()"
   ]
  },
  {
   "cell_type": "code",
   "execution_count": 13,
   "id": "cognitive-auditor",
   "metadata": {},
   "outputs": [],
   "source": [
    "inp_train = np.array(inp_train)#.reshape(len(inp_train), 78,1)\n",
    "out_train = np.array(out_train)#.reshape(len(out_train),1)\n",
    "inp_test = np.array(inp_test)#.reshape(len(inp_test), 78,1)\n",
    "out_test = np.array(out_test)#.reshape(len(out_test),1)"
   ]
  },
  {
   "cell_type": "code",
   "execution_count": 14,
   "id": "dirty-maple",
   "metadata": {},
   "outputs": [
    {
     "name": "stdout",
     "output_type": "stream",
     "text": [
      "(835604, 20, 78)\n"
     ]
    }
   ],
   "source": [
    "print(inp_train.shape)"
   ]
  },
  {
   "cell_type": "code",
   "execution_count": 15,
   "id": "progressive-challenge",
   "metadata": {},
   "outputs": [],
   "source": [
    "model = keras.Sequential([\n",
    "    layers.LSTM(units = 128, input_shape = (20, 78), return_sequences = True, use_bias = True),\n",
    "    layers.LSTM(units = 64, return_sequences = True, use_bias = True),\n",
    "    layers.LSTM(units = 32, return_sequences = False, use_bias = True),\n",
    "    layers.Dense(units = 2, activation = \"softmax\")\n",
    "])"
   ]
  },
  {
   "cell_type": "code",
   "execution_count": 16,
   "id": "quick-money",
   "metadata": {},
   "outputs": [],
   "source": [
    "model.compile(optimizer=keras.optimizers.SGD(learning_rate = 0.08), loss=\"sparse_categorical_crossentropy\", metrics=['accuracy'])"
   ]
  },
  {
   "cell_type": "code",
   "execution_count": 17,
   "id": "injured-identifier",
   "metadata": {},
   "outputs": [
    {
     "name": "stdout",
     "output_type": "stream",
     "text": [
      "Epoch 1/10\n",
      "23502/23502 [==============================] - 798s 33ms/step - loss: 0.0707 - accuracy: 0.9734 - val_loss: 0.0128 - val_accuracy: 0.9971\n",
      "Epoch 2/10\n",
      "23502/23502 [==============================] - 574s 24ms/step - loss: 0.0099 - accuracy: 0.9974 - val_loss: 0.0086 - val_accuracy: 0.9977\n",
      "Epoch 3/10\n",
      "23502/23502 [==============================] - 546s 23ms/step - loss: 0.0056 - accuracy: 0.9983 - val_loss: 0.0072 - val_accuracy: 0.9972\n",
      "Epoch 4/10\n",
      "23502/23502 [==============================] - 681s 29ms/step - loss: 0.0045 - accuracy: 0.9986 - val_loss: 0.0062 - val_accuracy: 0.9982\n",
      "Epoch 5/10\n",
      "23502/23502 [==============================] - 828s 35ms/step - loss: 0.0041 - accuracy: 0.9988 - val_loss: 0.0056 - val_accuracy: 0.9984\n",
      "Epoch 6/10\n",
      "23502/23502 [==============================] - 560s 24ms/step - loss: 0.0038 - accuracy: 0.9989 - val_loss: 0.0055 - val_accuracy: 0.9983\n",
      "Epoch 7/10\n",
      "23502/23502 [==============================] - 562s 24ms/step - loss: 0.0035 - accuracy: 0.9989 - val_loss: 0.0049 - val_accuracy: 0.9982\n",
      "Epoch 8/10\n",
      "23502/23502 [==============================] - 547s 23ms/step - loss: 0.0031 - accuracy: 0.9990 - val_loss: 0.0043 - val_accuracy: 0.9986\n",
      "Epoch 9/10\n",
      "23502/23502 [==============================] - 543s 23ms/step - loss: 0.0026 - accuracy: 0.9992 - val_loss: 0.0031 - val_accuracy: 0.9991\n",
      "Epoch 10/10\n",
      "23502/23502 [==============================] - 578s 25ms/step - loss: 0.0022 - accuracy: 0.9993 - val_loss: 0.0030 - val_accuracy: 0.9992\n"
     ]
    }
   ],
   "source": [
    "train = model.fit(x = inp_train, y = out_train, validation_split = 0.1, epochs= 10, verbose = 1)"
   ]
  },
  {
   "cell_type": "code",
   "execution_count": 20,
   "id": "naked-communications",
   "metadata": {},
   "outputs": [
    {
     "data": {
      "image/png": "[encoded data removed]",
      "text/plain": [
       "<Figure size 432x288 with 1 Axes>"
      ]
     },
     "metadata": {
      "needs_background": "light"
     },
     "output_type": "display_data"
    }
   ],
   "source": [
    "plt.plot(train.history[\"loss\"])\n",
    "plt.show()"
   ]
  },
  {
   "cell_type": "code",
   "execution_count": 21,
   "id": "8c1d0aa4",
   "metadata": {},
   "outputs": [
    {
     "data": {
      "image/png": "[encoded data removed]",
      "text/plain": [
       "<Figure size 432x288 with 1 Axes>"
      ]
     },
     "metadata": {
      "needs_background": "light"
     },
     "output_type": "display_data"
    }
   ],
   "source": [
    "plt.plot(train.history[\"accuracy\"])\n",
    "plt.show()"
   ]
  },
  {
   "cell_type": "code",
   "execution_count": 22,
   "id": "virtual-alexander",
   "metadata": {},
   "outputs": [],
   "source": [
    "model.save(\"LSTMBotNet(02-03-2018)V2.h5\")"
   ]
  },
  {
   "cell_type": "code",
   "execution_count": 23,
   "id": "opening-checklist",
   "metadata": {},
   "outputs": [],
   "source": [
    "res = [np.argmax(resu) for resu in model.predict(inp_test)]"
   ]
  },
  {
   "cell_type": "code",
   "execution_count": 24,
   "id": "supported-wrong",
   "metadata": {},
   "outputs": [],
   "source": [
    "cm = confusion_matrix(y_true = out_test.reshape(len(out_test)), y_pred = np.array(res))"
   ]
  },
  {
   "cell_type": "code",
   "execution_count": 25,
   "id": "broke-yugoslavia",
   "metadata": {},
   "outputs": [],
   "source": [
    "def plot_confusion_matrix(cm, classes, normaliza = False, title = \"Confusion matrix\", cmap = plt.cm.Blues):\n",
    "    plt.imshow(cm, interpolation='nearest', cmap=cmap)\n",
    "    plt.title(title)\n",
    "    plt.colorbar()\n",
    "    tick_marks = np.arange(len(classes))\n",
    "    plt.xticks(tick_marks, classes, rotation=45)\n",
    "    plt.yticks(tick_marks, classes)\n",
    "    if normaliza:\n",
    "        cm = cm.astype('float') / cm.sum(axis = 1)[:, np.newaxis]\n",
    "        print(\"Normalized confusion matrix\")\n",
    "    else:\n",
    "        print(\"Confusion matrix, without normalization\")\n",
    "    \n",
    "    print(cm)\n",
    "    \n",
    "    thresh = cm.max() / 2\n",
    "    for i, j in itertools.product(range(cm.shape[0]), range(cm.shape[1])):\n",
    "        plt.text(j, i, cm[i, j],\n",
    "        horizontalalignment=\"center\",\n",
    "        color=\"white\" if cm[i,j] > thresh else \"black\")\n",
    "    \n",
    "    plt.tight_layout()\n",
    "    plt.ylabel('True label')\n",
    "    plt.xlabel('Predicted label')"
   ]
  },
  {
   "cell_type": "code",
   "execution_count": 26,
   "id": "55164f79",
   "metadata": {},
   "outputs": [
    {
     "name": "stdout",
     "output_type": "stream",
     "text": [
      "Confusion matrix, without normalization\n",
      "[[133281     37]\n",
      " [   186  75398]]\n"
     ]
    },
    {
     "data": {
      "image/png": "[encoded data removed]",
      "text/plain": [
       "<Figure size 432x288 with 2 Axes>"
      ]
     },
     "metadata": {
      "needs_background": "light"
     },
     "output_type": "display_data"
    }
   ],
   "source": [
    "labels = [\"Benign\", \"Bot\"]\n",
    "plot_confusion_matrix(cm = cm, classes = labels, title = \"Bot IDS\")"
   ]
  },
  {
   "cell_type": "code",
   "execution_count": null,
   "id": "f6a24c27",
   "metadata": {},
   "outputs": [],
   "source": []
  }
 ],
 "metadata": {
  "kernelspec": {
   "display_name": "Python 3",
   "language": "python",
   "name": "python3"
  },
  "language_info": {
   "codemirror_mode": {
    "name": "ipython",
    "version": 3
   },
   "file_extension": ".py",
   "mimetype": "text/x-python",
   "name": "python",
   "nbconvert_exporter": "python",
   "pygments_lexer": "ipython3",
   "version": "3.8.9"
  }
 },
 "nbformat": 4,
 "nbformat_minor": 5
}
