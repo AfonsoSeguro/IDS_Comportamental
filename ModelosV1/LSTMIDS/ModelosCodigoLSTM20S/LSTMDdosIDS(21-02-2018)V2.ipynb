{
 "cells": [
  {
   "cell_type": "code",
   "execution_count": 1,
   "id": "invalid-cache",
   "metadata": {},
   "outputs": [],
   "source": [
    "import os\n",
    "import tensorflow as tf\n",
    "import numpy as np\n",
    "import itertools\n",
    "import matplotlib.pyplot as plt\n",
    "import gc\n",
    "from datetime import datetime\n",
    "from sklearn.utils import shuffle\n",
    "from sklearn.preprocessing import StandardScaler\n",
    "from sklearn.preprocessing import MinMaxScaler\n",
    "from sklearn.model_selection import train_test_split\n",
    "from tensorflow import keras\n",
    "from tensorflow.keras import layers\n",
    "from sklearn.metrics import confusion_matrix"
   ]
  },
  {
   "cell_type": "code",
   "execution_count": 2,
   "id": "similar-platform",
   "metadata": {},
   "outputs": [],
   "source": [
    "input_label = []\n",
    "output_label = []\n",
    "label = []"
   ]
  },
  {
   "cell_type": "code",
   "execution_count": 3,
   "id": "fifteen-editor",
   "metadata": {},
   "outputs": [],
   "source": [
    "ficheiro = open(\"..\\\\Dataset\\\\21-02-2018(Time).csv\", \"r\")\n",
    "\n",
    "ficheiro.readline()\n",
    "ficheiro.readline()\n",
    "ficheiro.readline()\n",
    "\n",
    "countLinha = 0\n",
    "linha = ficheiro.readline()\n",
    "while(linha != \"\"):\n",
    "#for i in range(10000):\n",
    "    linha = linha.split(\",\")\n",
    "    linha.append(datetime.strptime(linha.pop(len(linha) - 1) + \"\", '%d/%m/%Y %H:%M:%S\\n\\n').time())\n",
    "    label.append(linha)\n",
    "    countLinha += 1\n",
    "    linha = ficheiro.readline()\n",
    "ficheiro.close()"
   ]
  },
  {
   "cell_type": "code",
   "execution_count": 4,
   "id": "regulated-rehabilitation",
   "metadata": {},
   "outputs": [],
   "source": [
    "label.sort(key = lambda array : array[len(array) - 1])"
   ]
  },
  {
   "cell_type": "code",
   "execution_count": 5,
   "id": "interpreted-iraqi",
   "metadata": {},
   "outputs": [
    {
     "name": "stdout",
     "output_type": "stream",
     "text": [
      "['445.0', '6.0', '276436.0', '3.0', '1.0', '0.0', '0.0', '0.0', '0.0', '0.0', '0.0', '0.0', '0.0', '0.0', '0.0', '0.0', '14.4698953827', '92145.3333333333', '159133.703734732', '275897.0', '98.0', '276436.0', '138218.0', '194846.101983078', '275995.0', '441.0', '0.0', '0.0', '0.0', '0.0', '0.0', '0', '0', '0', '0', '72.0', '32.0', '10.852421537', '3.6174738457', '0.0', '0.0', '0.0', '0.0', '0.0', '0', '0', '0', '1', '0', '0', '0', '0', '0.0', '0.0', '0.0', '0.0', '0', '0', '0', '0', '0', '0', '3.0', '0.0', '1.0', '0.0', '8192.0', '8192.0', '0.0', '20.0', '0.0', '0.0', '0.0', '0.0', '0.0', '0.0', '0.0', '0.0', 'Benign', datetime.time(1, 0, 1)]\n"
     ]
    }
   ],
   "source": [
    "print(label[10])"
   ]
  },
  {
   "cell_type": "code",
   "execution_count": 6,
   "id": "welsh-learning",
   "metadata": {},
   "outputs": [],
   "source": [
    "for i in range(len(label)):\n",
    "    label[i].pop(len(label[i]) - 1)"
   ]
  },
  {
   "cell_type": "code",
   "execution_count": 7,
   "id": "casual-blowing",
   "metadata": {},
   "outputs": [],
   "source": [
    "b = 0\n",
    "a = 0\n",
    "for i in range(len(label)):\n",
    "    out = label[i].pop(len(label[i]) - 1)\n",
    "    if(out == \"Benign\"):\n",
    "        out = 0\n",
    "        b += 1\n",
    "    else:\n",
    "        out = 1\n",
    "        a += 1\n",
    "    output_label.append(out)\n",
    "    input_label.append(label[i])"
   ]
  },
  {
   "cell_type": "code",
   "execution_count": 8,
   "id": "dense-taxation",
   "metadata": {},
   "outputs": [
    {
     "name": "stdout",
     "output_type": "stream",
     "text": [
      "52498 988050\n"
     ]
    }
   ],
   "source": [
    "print(str(a) + \" \" + str(b))"
   ]
  },
  {
   "cell_type": "code",
   "execution_count": 9,
   "id": "f0404b38",
   "metadata": {},
   "outputs": [],
   "source": [
    "scaler = MinMaxScaler(feature_range=(0,1))\n",
    "scaler.fit(input_label)\n",
    "input_label = scaler.transform(input_label)"
   ]
  },
  {
   "cell_type": "code",
   "execution_count": 10,
   "id": "971b4b72",
   "metadata": {},
   "outputs": [],
   "source": [
    "inp = []\n",
    "out = []\n",
    "num = 0\n",
    "for i in range(len(input_label) - 20 + 1):\n",
    "    aux = []\n",
    "    for j in range(i, i + 20):\n",
    "        aux.append(input_label[j])\n",
    "    inp.append(aux)\n",
    "    out.append(output_label[i + 20 - 1])\n",
    "        "
   ]
  },
  {
   "cell_type": "code",
   "execution_count": 11,
   "id": "answering-column",
   "metadata": {},
   "outputs": [],
   "source": [
    "inp_train, inp_test, out_train, out_test = train_test_split(inp, out, test_size = 0.2, shuffle = False)"
   ]
  },
  {
   "cell_type": "code",
   "execution_count": 13,
   "id": "79f96f94",
   "metadata": {},
   "outputs": [],
   "source": [
    "input_labeL = []\n",
    "output_label = []\n",
    "inp = []\n",
    "out = []\n",
    "gc.collect()"
   ]
  },
  {
   "cell_type": "code",
   "execution_count": 12,
   "id": "cognitive-auditor",
   "metadata": {},
   "outputs": [],
   "source": [
    "inp_train = np.array(inp_train)\n",
    "out_train = np.array(out_train)\n",
    "inp_test = np.array(inp_test)\n",
    "out_test = np.array(out_test)"
   ]
  },
  {
   "cell_type": "code",
   "execution_count": 15,
   "id": "dirty-maple",
   "metadata": {},
   "outputs": [
    {
     "name": "stdout",
     "output_type": "stream",
     "text": [
      "(832423, 20, 78)\n"
     ]
    }
   ],
   "source": [
    "print(inp_train.shape)"
   ]
  },
  {
   "cell_type": "code",
   "execution_count": 16,
   "id": "progressive-challenge",
   "metadata": {},
   "outputs": [],
   "source": [
    "model = keras.Sequential([\n",
    "    layers.LSTM(units = 128, input_shape = (20, 78), return_sequences = True, use_bias = True),\n",
    "    layers.LSTM(units = 64, return_sequences = True, use_bias = True),\n",
    "    layers.LSTM(units = 32, return_sequences = False, use_bias = True),\n",
    "    layers.Dense(units = 2, activation = \"softmax\")\n",
    "])"
   ]
  },
  {
   "cell_type": "code",
   "execution_count": 17,
   "id": "quick-money",
   "metadata": {},
   "outputs": [],
   "source": [
    "model.compile(optimizer=keras.optimizers.SGD(learning_rate = 0.08), loss=\"sparse_categorical_crossentropy\", metrics=['accuracy'])"
   ]
  },
  {
   "cell_type": "code",
   "execution_count": 18,
   "id": "injured-identifier",
   "metadata": {},
   "outputs": [
    {
     "name": "stdout",
     "output_type": "stream",
     "text": [
      "Epoch 1/10\n",
      "23412/23412 [==============================] - 647s 25ms/step - loss: 0.0317 - accuracy: 0.9924 - val_loss: 0.1672 - val_accuracy: 0.9606\n",
      "Epoch 2/10\n",
      "23412/23412 [==============================] - 537s 23ms/step - loss: 0.0025 - accuracy: 0.9992 - val_loss: 0.0643 - val_accuracy: 0.9797\n",
      "Epoch 3/10\n",
      "23412/23412 [==============================] - 502s 21ms/step - loss: 8.4175e-04 - accuracy: 0.9997 - val_loss: 0.0668 - val_accuracy: 0.9836\n",
      "Epoch 4/10\n",
      "23412/23412 [==============================] - 493s 21ms/step - loss: 4.7207e-04 - accuracy: 0.9999 - val_loss: 0.0544 - val_accuracy: 0.9867\n",
      "Epoch 5/10\n",
      "23412/23412 [==============================] - 501s 21ms/step - loss: 4.3462e-04 - accuracy: 0.9999 - val_loss: 0.1215 - val_accuracy: 0.9829\n",
      "Epoch 6/10\n",
      "23412/23412 [==============================] - 497s 21ms/step - loss: 4.0163e-04 - accuracy: 0.9999 - val_loss: 0.0555 - val_accuracy: 0.9861\n",
      "Epoch 7/10\n",
      "23412/23412 [==============================] - 498s 21ms/step - loss: 0.0013 - accuracy: 0.9997 - val_loss: 0.0922 - val_accuracy: 0.9814\n",
      "Epoch 8/10\n",
      "23412/23412 [==============================] - 498s 21ms/step - loss: 3.3164e-04 - accuracy: 0.9999 - val_loss: 0.0602 - val_accuracy: 0.9861\n",
      "Epoch 9/10\n",
      "23412/23412 [==============================] - 498s 21ms/step - loss: 2.4215e-04 - accuracy: 0.9999 - val_loss: 0.0654 - val_accuracy: 0.9858\n",
      "Epoch 10/10\n",
      "23412/23412 [==============================] - 506s 22ms/step - loss: 2.9995e-04 - accuracy: 0.9999 - val_loss: 0.1353 - val_accuracy: 0.9831\n"
     ]
    }
   ],
   "source": [
    "train = model.fit(x = inp_train, y = out_train, validation_split = 0.1, epochs= 10, verbose = 1)"
   ]
  },
  {
   "cell_type": "code",
   "execution_count": 19,
   "id": "naked-communications",
   "metadata": {},
   "outputs": [
    {
     "data": {
      "image/png": "[encoded data removed]",
      "text/plain": [
       "<Figure size 432x288 with 1 Axes>"
      ]
     },
     "metadata": {
      "needs_background": "light"
     },
     "output_type": "display_data"
    }
   ],
   "source": [
    "plt.plot(train.history[\"loss\"])\n",
    "plt.show()"
   ]
  },
  {
   "cell_type": "code",
   "execution_count": 20,
   "id": "8c1d0aa4",
   "metadata": {},
   "outputs": [
    {
     "data": {
      "image/png": "[encoded data removed]",
      "text/plain": [
       "<Figure size 432x288 with 1 Axes>"
      ]
     },
     "metadata": {
      "needs_background": "light"
     },
     "output_type": "display_data"
    }
   ],
   "source": [
    "plt.plot(train.history[\"accuracy\"])\n",
    "plt.show()"
   ]
  },
  {
   "cell_type": "code",
   "execution_count": 21,
   "id": "virtual-alexander",
   "metadata": {},
   "outputs": [],
   "source": [
    "model.save(\"LSTMDosNET(15-02-2018)V2.h5\")"
   ]
  },
  {
   "cell_type": "code",
   "execution_count": 22,
   "id": "opening-checklist",
   "metadata": {},
   "outputs": [],
   "source": [
    "res = [np.argmax(resu) for resu in model.predict(inp_test)]"
   ]
  },
  {
   "cell_type": "code",
   "execution_count": 23,
   "id": "supported-wrong",
   "metadata": {},
   "outputs": [],
   "source": [
    "cm = confusion_matrix(y_true = out_test.reshape(len(out_test)), y_pred = np.array(res))"
   ]
  },
  {
   "cell_type": "code",
   "execution_count": 24,
   "id": "broke-yugoslavia",
   "metadata": {},
   "outputs": [],
   "source": [
    "def plot_confusion_matrix(cm, classes, normaliza = False, title = \"Confusion matrix\", cmap = plt.cm.Blues):\n",
    "    plt.imshow(cm, interpolation='nearest', cmap=cmap)\n",
    "    plt.title(title)\n",
    "    plt.colorbar()\n",
    "    tick_marks = np.arange(len(classes))\n",
    "    plt.xticks(tick_marks, classes, rotation=45)\n",
    "    plt.yticks(tick_marks, classes)\n",
    "    if normaliza:\n",
    "        cm = cm.astype('float') / cm.sum(axis = 1)[:, np.newaxis]\n",
    "        print(\"Normalized confusion matrix\")\n",
    "    else:\n",
    "        print(\"Confusion matrix, without normalization\")\n",
    "    \n",
    "    print(cm)\n",
    "    \n",
    "    thresh = cm.max() / 2\n",
    "    for i, j in itertools.product(range(cm.shape[0]), range(cm.shape[1])):\n",
    "        plt.text(j, i, cm[i, j],\n",
    "        horizontalalignment=\"center\",\n",
    "        color=\"white\" if cm[i,j] > thresh else \"black\")\n",
    "    \n",
    "    plt.tight_layout()\n",
    "    plt.ylabel('True label')\n",
    "    plt.xlabel('Predicted label')"
   ]
  },
  {
   "cell_type": "code",
   "execution_count": 25,
   "id": "55164f79",
   "metadata": {},
   "outputs": [
    {
     "name": "stdout",
     "output_type": "stream",
     "text": [
      "Confusion matrix, without normalization\n",
      "[[201347      7]\n",
      " [  2013   4739]]\n"
     ]
    },
    {
     "data": {
      "image/png": "[encoded data removed]",
      "text/plain": [
       "<Figure size 432x288 with 2 Axes>"
      ]
     },
     "metadata": {
      "needs_background": "light"
     },
     "output_type": "display_data"
    }
   ],
   "source": [
    "labels = [\"Benign\", \"Dos\"]\n",
    "plot_confusion_matrix(cm = cm, classes = labels, title = \"Dos IDS\")"
   ]
  },
  {
   "cell_type": "code",
   "execution_count": null,
   "id": "f6a24c27",
   "metadata": {},
   "outputs": [],
   "source": []
  }
 ],
 "metadata": {
  "kernelspec": {
   "display_name": "Python 3",
   "language": "python",
   "name": "python3"
  },
  "language_info": {
   "codemirror_mode": {
    "name": "ipython",
    "version": 3
   },
   "file_extension": ".py",
   "mimetype": "text/x-python",
   "name": "python",
   "nbconvert_exporter": "python",
   "pygments_lexer": "ipython3",
   "version": "3.8.9"
  }
 },
 "nbformat": 4,
 "nbformat_minor": 5
}
