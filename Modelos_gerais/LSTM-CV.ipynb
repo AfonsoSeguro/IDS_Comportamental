{
 "cells": [
  {
   "cell_type": "code",
   "execution_count": 1,
   "id": "b63da746",
   "metadata": {},
   "outputs": [],
   "source": [
    "import os\n",
    "import tensorflow as tf\n",
    "import numpy as np\n",
    "import gc\n",
    "import pandas as pd\n",
    "from datetime import datetime\n",
    "from sklearn.utils import shuffle\n",
    "from sklearn.preprocessing import StandardScaler\n",
    "from sklearn.preprocessing import MinMaxScaler\n",
    "from sklearn.model_selection import train_test_split\n",
    "from sklearn.model_selection import StratifiedKFold\n",
    "from sklearn.metrics import confusion_matrix\n",
    "from sklearn.metrics import roc_curve\n",
    "from sklearn.metrics import roc_auc_score\n",
    "from tensorflow import keras"
   ]
  },
  {
   "cell_type": "code",
   "execution_count": 2,
   "id": "8524b5ed",
   "metadata": {},
   "outputs": [],
   "source": [
    "df = pd.read_csv(\"DatasetTotal.csv\", low_memory = False)"
   ]
  },
  {
   "cell_type": "code",
   "execution_count": 3,
   "id": "e3736a88",
   "metadata": {},
   "outputs": [],
   "source": [
    "df = df.drop([0,1])"
   ]
  },
  {
   "cell_type": "code",
   "execution_count": 4,
   "id": "be46dd9e",
   "metadata": {},
   "outputs": [],
   "source": [
    "df['Timestamp']= pd.to_datetime(df['Timestamp'])"
   ]
  },
  {
   "cell_type": "code",
   "execution_count": 5,
   "id": "63e62289",
   "metadata": {},
   "outputs": [],
   "source": [
    "df = df.sort_values(by=['Timestamp'])"
   ]
  },
  {
   "cell_type": "code",
   "execution_count": 6,
   "id": "f8787efe",
   "metadata": {},
   "outputs": [],
   "source": [
    "df = df.drop(columns = ['Timestamp'])"
   ]
  },
  {
   "cell_type": "code",
   "execution_count": 7,
   "id": "8bd950ae",
   "metadata": {},
   "outputs": [],
   "source": [
    "input_label = np.array(df.loc[:, df.columns != \"Label\"]).astype(np.float)"
   ]
  },
  {
   "cell_type": "code",
   "execution_count": 8,
   "id": "7eeaed56",
   "metadata": {},
   "outputs": [],
   "source": [
    "output_label = np.array(df[\"Label\"])"
   ]
  },
  {
   "cell_type": "code",
   "execution_count": 9,
   "id": "66b988aa",
   "metadata": {},
   "outputs": [],
   "source": [
    "out = []\n",
    "for o in output_label:\n",
    "    if(o == \"Benign\"):out.append(0)\n",
    "    else: out.append(1)\n",
    "output_label = out"
   ]
  },
  {
   "cell_type": "code",
   "execution_count": 10,
   "id": "1807935c",
   "metadata": {},
   "outputs": [],
   "source": [
    "scaler = MinMaxScaler(feature_range=(0,1))\n",
    "scaler.fit(input_label)\n",
    "input_label = scaler.transform(input_label)"
   ]
  },
  {
   "cell_type": "code",
   "execution_count": 11,
   "id": "0d04d2d6",
   "metadata": {},
   "outputs": [],
   "source": [
    "inp = shuffle(input_label)"
   ]
  },
  {
   "cell_type": "code",
   "execution_count": 12,
   "id": "8f322b91",
   "metadata": {},
   "outputs": [],
   "source": [
    "inp_train,inp_test,out_train,out_test = train_test_split(input_label, input_label, test_size=0.2)"
   ]
  },
  {
   "cell_type": "code",
   "execution_count": 13,
   "id": "c4422e8d",
   "metadata": {},
   "outputs": [],
   "source": [
    "input_model = keras.layers.Input(shape = (78,))\n",
    "enc = keras.layers.Dense(units = 64, activation = \"relu\", use_bias = True)(input_model)\n",
    "enc = keras.layers.Dense(units = 36, activation = \"relu\", use_bias = True)(enc)\n",
    "enc = keras.layers.Dense(units = 18, activation = \"relu\")(enc)\n",
    "dec = keras.layers.Dense(units = 36, activation = \"relu\", use_bias = True)(enc)\n",
    "dec = keras.layers.Dense(units = 64, activation = \"relu\", use_bias = True)(dec)\n",
    "dec = keras.layers.Dense(units = 78, activation = \"relu\", use_bias = True)(dec)\n",
    "auto_encoder = keras.Model(input_model, dec)"
   ]
  },
  {
   "cell_type": "code",
   "execution_count": 14,
   "id": "638c046a",
   "metadata": {},
   "outputs": [],
   "source": [
    "encoder = keras.Model(input_model, enc)\n",
    "decoder_input = keras.layers.Input(shape = (18,))\n",
    "decoder_layer = auto_encoder.layers[-3](decoder_input)\n",
    "decoder_layer = auto_encoder.layers[-2](decoder_layer)\n",
    "decoder_layer = auto_encoder.layers[-1](decoder_layer)\n",
    "decoder = keras.Model(decoder_input, decoder_layer)"
   ]
  },
  {
   "cell_type": "code",
   "execution_count": 15,
   "id": "fb1c464b",
   "metadata": {},
   "outputs": [],
   "source": [
    "auto_encoder.compile(optimizer=keras.optimizers.Adam(lr=0.00025), loss = \"mean_squared_error\", metrics = ['accuracy'])"
   ]
  },
  {
   "cell_type": "code",
   "execution_count": 16,
   "id": "a3d3a6a1",
   "metadata": {},
   "outputs": [
    {
     "name": "stdout",
     "output_type": "stream",
     "text": [
      "Epoch 1/10\n",
      "117353/117353 [==============================] - 146s 1ms/step - loss: 0.0119 - accuracy: 0.1131 - val_loss: 0.0106 - val_accuracy: 0.0062\n",
      "Epoch 2/10\n",
      "117353/117353 [==============================] - 127s 1ms/step - loss: 0.0106 - accuracy: 0.1251 - val_loss: 0.0105 - val_accuracy: 0.1511\n",
      "Epoch 3/10\n",
      "117353/117353 [==============================] - 129s 1ms/step - loss: 0.0105 - accuracy: 0.1340 - val_loss: 0.0105 - val_accuracy: 0.0323\n",
      "Epoch 4/10\n",
      "117353/117353 [==============================] - 130s 1ms/step - loss: 0.0105 - accuracy: 0.1358 - val_loss: 0.0105 - val_accuracy: 0.3165\n",
      "Epoch 5/10\n",
      "117353/117353 [==============================] - 133s 1ms/step - loss: 0.0105 - accuracy: 0.1378 - val_loss: 0.0105 - val_accuracy: 0.2721\n",
      "Epoch 6/10\n",
      "117353/117353 [==============================] - 133s 1ms/step - loss: 0.0104 - accuracy: 0.1388 - val_loss: 0.0105 - val_accuracy: 0.0025\n",
      "Epoch 7/10\n",
      "117353/117353 [==============================] - 129s 1ms/step - loss: 0.0105 - accuracy: 0.1415 - val_loss: 0.0105 - val_accuracy: 0.2159\n",
      "Epoch 8/10\n",
      "117353/117353 [==============================] - 132s 1ms/step - loss: 0.0104 - accuracy: 0.1428 - val_loss: 0.0105 - val_accuracy: 0.1237\n",
      "Epoch 9/10\n",
      "117353/117353 [==============================] - 131s 1ms/step - loss: 0.0105 - accuracy: 0.1427 - val_loss: 0.0105 - val_accuracy: 0.2075\n",
      "Epoch 10/10\n",
      "117353/117353 [==============================] - 129s 1ms/step - loss: 0.0104 - accuracy: 0.1466 - val_loss: 0.0105 - val_accuracy: 0.0358\n"
     ]
    }
   ],
   "source": [
    "train = auto_encoder.fit(x = np.array(inp_train), y = np.array(out_train),validation_split= 0.1, epochs = 10, verbose = 1, shuffle = True)"
   ]
  },
  {
   "cell_type": "code",
   "execution_count": 16,
   "id": "a8e19041",
   "metadata": {},
   "outputs": [],
   "source": [
    "input_label = encoder.predict(input_label)"
   ]
  },
  {
   "cell_type": "code",
   "execution_count": 17,
   "id": "b867bcd9",
   "metadata": {},
   "outputs": [],
   "source": [
    "inp = []\n",
    "out = []\n",
    "for i in range(len(input_label) - 10 + 1):\n",
    "    aux = []\n",
    "    for j in range(i, i + 10):\n",
    "        aux.append(input_label[j])\n",
    "    inp.append(aux)\n",
    "    out.append(output_label[i + 10 - 1])"
   ]
  },
  {
   "cell_type": "code",
   "execution_count": 18,
   "id": "1b3108d4",
   "metadata": {},
   "outputs": [
    {
     "data": {
      "text/plain": [
       "15"
      ]
     },
     "execution_count": 18,
     "metadata": {},
     "output_type": "execute_result"
    }
   ],
   "source": [
    "input_label = None\n",
    "output_label = None\n",
    "gc.collect()"
   ]
  },
  {
   "cell_type": "code",
   "execution_count": null,
   "id": "1c7af772",
   "metadata": {},
   "outputs": [],
   "source": [
    "input_label = np.array(inp)\n",
    "output_label = np.array(out)"
   ]
  },
  {
   "cell_type": "code",
   "execution_count": null,
   "id": "7442a92b",
   "metadata": {},
   "outputs": [],
   "source": [
    "inp = None\n",
    "out = None\n",
    "gc.collect()"
   ]
  },
  {
   "cell_type": "code",
   "execution_count": null,
   "id": "813adddd",
   "metadata": {},
   "outputs": [],
   "source": [
    "def createModel():\n",
    "    model = keras.Sequential([\n",
    "        keras.layers.Input(shape = (20,18)),\n",
    "        keras.layers.LSTM(units = 16, return_sequences = True, use_bias = True),\n",
    "        keras.layers.LSTM(units = 8, return_sequences = False, use_bias = True),\n",
    "        keras.layers.Dense(units = 2, activation = \"softmax\")\n",
    "    ])\n",
    "    model.compile(optimizer= keras.optimizers.Adam(lr= 0.00025), loss=\"sparse_categorical_crossentropy\", metrics=['accuracy'])\n",
    "    return model"
   ]
  },
  {
   "cell_type": "code",
   "execution_count": null,
   "id": "9d7e3154",
   "metadata": {},
   "outputs": [],
   "source": [
    "skf = StratifiedKFold(n_splits = 10, shuffle = True, random_state=1)"
   ]
  },
  {
   "cell_type": "code",
   "execution_count": null,
   "id": "3939262d",
   "metadata": {},
   "outputs": [],
   "source": [
    "confusion_matrixs = []\n",
    "roc_curvs = []"
   ]
  },
  {
   "cell_type": "code",
   "execution_count": null,
   "id": "cddde2ef",
   "metadata": {},
   "outputs": [],
   "source": [
    "for i, (train, test) in enumerate(skf.split(input_label, output_label)):\n",
    "    print(\"Modelo \" + str(i))\n",
    "    inp_train, out_train = np.array(input_label)[train], np.array(output_label)[train]\n",
    "    inp_test, out_test = np.array(input_label)[test], np.array(output_label)[test]\n",
    "    model = createModel()\n",
    "    model.fit(x = inp_train, y = out_train, validation_split= 0.1, epochs = 10, shuffle = True,verbose = 1)\n",
    "    res = np.array([np.argmax(resu) for resu in model.predict(inp_test)])\n",
    "    confusion_matrixs.append(confusion_matrix(out_test, res))\n",
    "    fpr, tpr, _ = roc_curve(out_test,  res)\n",
    "    auc = roc_auc_score(out_test, res)\n",
    "    roc_curvs.append([fpr, tpr, auc])\n",
    "    print(\"\\n\\n\")"
   ]
  },
  {
   "cell_type": "code",
   "execution_count": null,
   "id": "de3d36da",
   "metadata": {},
   "outputs": [],
   "source": [
    "for i in range(10):\n",
    "    print(\"------------------------------------\")\n",
    "    print(\"Modelo \" + str(i))\n",
    "    print(roc_curvs[i])\n",
    "    print(confusion_matrixs[i])\n",
    "    print(\"------------------------------------\")"
   ]
  }
 ],
 "metadata": {
  "kernelspec": {
   "display_name": "Python 3",
   "language": "python",
   "name": "python3"
  },
  "language_info": {
   "codemirror_mode": {
    "name": "ipython",
    "version": 3
   },
   "file_extension": ".py",
   "mimetype": "text/x-python",
   "name": "python",
   "nbconvert_exporter": "python",
   "pygments_lexer": "ipython3",
   "version": "3.8.9"
  }
 },
 "nbformat": 4,
 "nbformat_minor": 5
}
