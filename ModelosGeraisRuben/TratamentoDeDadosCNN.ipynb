{
 "cells": [
  {
   "cell_type": "code",
   "execution_count": 1,
   "id": "8e0ad3cb",
   "metadata": {},
   "outputs": [],
   "source": [
    "ficheiro = open(\"DatasetTotal.csv\")"
   ]
  },
  {
   "cell_type": "code",
   "execution_count": 2,
   "id": "1eca7456",
   "metadata": {},
   "outputs": [],
   "source": [
    "dados = ficheiro.read()"
   ]
  },
  {
   "cell_type": "code",
   "execution_count": 3,
   "id": "709fdc16",
   "metadata": {},
   "outputs": [],
   "source": [
    "ficheiro.close()"
   ]
  },
  {
   "cell_type": "code",
   "execution_count": 4,
   "id": "5b27e61f",
   "metadata": {},
   "outputs": [],
   "source": [
    "dados = dados.split(\"\\n\")"
   ]
  },
  {
   "cell_type": "code",
   "execution_count": 5,
   "id": "ba2b242f",
   "metadata": {},
   "outputs": [],
   "source": [
    "from threading import Thread\n",
    "\n",
    "class Popi(Thread):\n",
    "    \n",
    "    def __init__(self, mini, maxi, array, pop):\n",
    "        Thread.__init__(self)\n",
    "        self.min = mini\n",
    "        self.max = maxi\n",
    "        self.array = array\n",
    "        self.pop = pop\n",
    "        \n",
    "    def run(self):\n",
    "        for i in range(self.min, self.max):\n",
    "            self.array[i] = self.array[i].split(\",\")\n",
    "            self.array.pop(self.pop)"
   ]
  },
  {
   "cell_type": "code",
   "execution_count": 6,
   "id": "606bb62e",
   "metadata": {},
   "outputs": [],
   "source": [
    "intervalo = len(dados) / 8\n",
    "for i in range(8):\n",
    "    Popi(int(i * intervalo), int((i * intervalo) + intervalo), dados, len(dados[0]) - 1).start()"
   ]
  },
  {
   "cell_type": "code",
   "execution_count": 7,
   "id": "ad6d7292",
   "metadata": {},
   "outputs": [],
   "source": [
    "from random import randint\n",
    "class Baralhar(Thread):\n",
    "    \n",
    "    def __init__(self, array, maxi):\n",
    "        Thread.__init__(self)\n",
    "        self.array = array\n",
    "        self.max = maxi\n",
    "        \n",
    "    def run(self):\n",
    "        print(self.array)\n",
    "        print(self.max)\n",
    "        \n",
    "        #for i in range(self.max):\n",
    "            #a = randint(1, len(array) - 1)\n",
    "            #b = randint(1, len(array) - 1)\n",
    "            #aux = self.array[a]\n",
    "            #self.array[a] = self.array[b]\n",
    "            #self.array[b] = aux\n",
    "        "
   ]
  },
  {
   "cell_type": "code",
   "execution_count": null,
   "id": "be3902ca",
   "metadata": {},
   "outputs": [],
   "source": [
    "for i in range(8):\n",
    "    Baralhar(dados, int(len(dados) / 8)).start()"
   ]
  },
  {
   "cell_type": "code",
   "execution_count": null,
   "id": "77287da5",
   "metadata": {},
   "outputs": [],
   "source": []
  },
  {
   "cell_type": "code",
   "execution_count": null,
   "id": "f48edefc",
   "metadata": {},
   "outputs": [],
   "source": []
  },
  {
   "cell_type": "code",
   "execution_count": 5,
   "id": "7982e863",
   "metadata": {},
   "outputs": [],
   "source": [
    "linhasNaoLidas = [i for i in range(3, len(dados))]"
   ]
  },
  {
   "cell_type": "code",
   "execution_count": 6,
   "id": "17234355",
   "metadata": {},
   "outputs": [],
   "source": [
    "from random import randint"
   ]
  },
  {
   "cell_type": "code",
   "execution_count": 7,
   "id": "bf13d01a",
   "metadata": {},
   "outputs": [],
   "source": [
    "baralhado = \"\""
   ]
  },
  {
   "cell_type": "code",
   "execution_count": 8,
   "id": "ee465003",
   "metadata": {},
   "outputs": [],
   "source": [
    "baralhado += dados[0] + \"\\n\""
   ]
  },
  {
   "cell_type": "code",
   "execution_count": null,
   "id": "28c8731c",
   "metadata": {},
   "outputs": [],
   "source": [
    "while(len(linhasNaoLidas) > 0):\n",
    "    rand = randint(0, len(linhasNaoLidas))\n",
    "    baralhado += dados[linhasNaoLidas[rand]]\n",
    "    linhasNaoLidas.pop(rand)\n",
    "    #print(len(linhasNaoLidas))"
   ]
  },
  {
   "cell_type": "code",
   "execution_count": null,
   "id": "b51b41ee",
   "metadata": {},
   "outputs": [],
   "source": [
    "novoFich = open(\"DatasetTotalBaralhado.csv\", \"w\")"
   ]
  },
  {
   "cell_type": "code",
   "execution_count": null,
   "id": "eee21e8c",
   "metadata": {},
   "outputs": [],
   "source": [
    "novoFich.writelines(baralhado)"
   ]
  },
  {
   "cell_type": "code",
   "execution_count": null,
   "id": "5b887d9b",
   "metadata": {},
   "outputs": [],
   "source": [
    "novoFich.close()"
   ]
  },
  {
   "cell_type": "code",
   "execution_count": null,
   "id": "eec4fb64",
   "metadata": {},
   "outputs": [],
   "source": []
  }
 ],
 "metadata": {
  "kernelspec": {
   "display_name": "Python 3",
   "language": "python",
   "name": "python3"
  },
  "language_info": {
   "codemirror_mode": {
    "name": "ipython",
    "version": 3
   },
   "file_extension": ".py",
   "mimetype": "text/x-python",
   "name": "python",
   "nbconvert_exporter": "python",
   "pygments_lexer": "ipython3",
   "version": "3.8.9"
  }
 },
 "nbformat": 4,
 "nbformat_minor": 5
}
